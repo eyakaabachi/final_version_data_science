{
  "cells": [
    {
      "attachments": {},
      "cell_type": "markdown",
      "id": "523b2163",
      "metadata": {},
      "source": [
        "# Clustering for Heart Disease"
      ]
    },
    {
      "cell_type": "code",
      "execution_count": 2,
      "id": "827a1745",
      "metadata": {
        "gather": {
          "logged": 1685355430509
        }
      },
      "outputs": [
        {
          "name": "stderr",
          "output_type": "stream",
          "text": [
            "c:\\Anaconda\\lib\\site-packages\\numba\\core\\decorators.py:262: NumbaDeprecationWarning: \u001b[1mnumba.generated_jit is deprecated. Please see the documentation at: https://numba.readthedocs.io/en/stable/reference/deprecation.html#deprecation-of-generated-jit for more information and advice on a suitable replacement.\u001b[0m\n",
            "  warnings.warn(msg, NumbaDeprecationWarning)\n",
            "c:\\Anaconda\\lib\\site-packages\\visions\\backends\\shared\\nan_handling.py:51: NumbaDeprecationWarning: \u001b[1mThe 'nopython' keyword argument was not supplied to the 'numba.jit' decorator. The implicit default value for this argument is currently False, but it will be changed to True in Numba 0.59.0. See https://numba.readthedocs.io/en/stable/reference/deprecation.html#deprecation-of-object-mode-fall-back-behaviour-when-using-jit for details.\u001b[0m\n",
            "  def hasna(x: np.ndarray) -> bool:\n",
            "C:\\Users\\Eya Kaabachi\\AppData\\Local\\Temp\\ipykernel_7064\\851023996.py:11: DeprecationWarning: `import pandas_profiling` is going to be deprecated by April 1st. Please use `import ydata_profiling` instead.\n",
            "  from pandas_profiling import ProfileReport\n"
          ]
        }
      ],
      "source": [
        "import pandas as pd\n",
        "import matplotlib.pyplot as plt\n",
        "from IPython.core.interactiveshell import InteractiveShell\n",
        "InteractiveShell.ast_node_interactivity = \"all\"\n",
        "import numpy as np\n",
        "import datetime\n",
        "import matplotlib\n",
        "import matplotlib.pyplot as plt\n",
        "from matplotlib import colors\n",
        "import seaborn as sns\n",
        "from pandas_profiling import ProfileReport\n",
        "from sklearn.preprocessing import LabelEncoder\n",
        "from sklearn.preprocessing import StandardScaler\n",
        "from sklearn.decomposition import PCA\n",
        "from sklearn.cluster import KMeans\n",
        "import matplotlib.pyplot as plt, numpy as np\n",
        "from mpl_toolkits.mplot3d import Axes3D\n",
        "from sklearn.cluster import AgglomerativeClustering\n",
        "from matplotlib.colors import ListedColormap\n",
        "from sklearn import metrics\n",
        "import sys\n",
        "import warnings\n",
        "warnings.filterwarnings('ignore')"
      ]
    },
    {
      "cell_type": "code",
      "execution_count": 3,
      "id": "bd8b6b5c",
      "metadata": {
        "gather": {
          "logged": 1685355971760
        }
      },
      "outputs": [
        {
          "data": {
            "text/html": [
              "<div>\n",
              "<style scoped>\n",
              "    .dataframe tbody tr th:only-of-type {\n",
              "        vertical-align: middle;\n",
              "    }\n",
              "\n",
              "    .dataframe tbody tr th {\n",
              "        vertical-align: top;\n",
              "    }\n",
              "\n",
              "    .dataframe thead th {\n",
              "        text-align: right;\n",
              "    }\n",
              "</style>\n",
              "<table border=\"1\" class=\"dataframe\">\n",
              "  <thead>\n",
              "    <tr style=\"text-align: right;\">\n",
              "      <th></th>\n",
              "      <th>Patient_ID</th>\n",
              "      <th>SEX</th>\n",
              "      <th>MARITAL</th>\n",
              "      <th>EDUCA</th>\n",
              "      <th>WEIGHT2</th>\n",
              "      <th>HEIGHT3</th>\n",
              "      <th>_INCOMG</th>\n",
              "      <th>_BMI5</th>\n",
              "      <th>_AGEG5YR</th>\n",
              "      <th>GENHLTH</th>\n",
              "      <th>EXERANY2</th>\n",
              "      <th>EXRACT11</th>\n",
              "      <th>EXEROFT1</th>\n",
              "      <th>EXERHMM1</th>\n",
              "      <th>EXRACT21</th>\n",
              "      <th>EXEROFT2</th>\n",
              "      <th>EXERHMM2</th>\n",
              "      <th>ALCDAY5</th>\n",
              "      <th>AVEDRNK2</th>\n",
              "      <th>MAXDRNKS</th>\n",
              "      <th>DROCDY3_</th>\n",
              "      <th>_RFBING5</th>\n",
              "      <th>_DRNKWEK</th>\n",
              "      <th>_RFDRHV5</th>\n",
              "      <th>DRNKANY5</th>\n",
              "      <th>MENTHLTH</th>\n",
              "      <th>FRUIT1</th>\n",
              "      <th>FVBEANS</th>\n",
              "      <th>FVGREEN</th>\n",
              "      <th>FVORANG</th>\n",
              "      <th>VEGETAB1</th>\n",
              "      <th>FRUTDA1_</th>\n",
              "      <th>BEANDAY_</th>\n",
              "      <th>GRENDAY_</th>\n",
              "      <th>ORNGDAY_</th>\n",
              "      <th>VEGEDA1_</th>\n",
              "      <th>_FRUTSUM</th>\n",
              "      <th>_VEGESUM</th>\n",
              "      <th>_FRTLT1</th>\n",
              "      <th>_VEGLT1</th>\n",
              "      <th>BPHIGH4</th>\n",
              "      <th>BPMEDS</th>\n",
              "      <th>BLOODCHO</th>\n",
              "      <th>CHOLCHK</th>\n",
              "      <th>ADDEPEV2</th>\n",
              "      <th>TOLDHI2</th>\n",
              "      <th>CVDINFR4</th>\n",
              "      <th>CVDCRHD4</th>\n",
              "      <th>CVDSTRK3</th>\n",
              "      <th>_MICHD</th>\n",
              "      <th>CHCSCNCR</th>\n",
              "      <th>DIABETE3</th>\n",
              "      <th>SMOKE100</th>\n",
              "      <th>SMOKDAY2</th>\n",
              "      <th>USENOW3</th>\n",
              "      <th>_SMOKER3</th>\n",
              "      <th>_RFSMOK3</th>\n",
              "      <th>PHYSHLTH</th>\n",
              "    </tr>\n",
              "  </thead>\n",
              "  <tbody>\n",
              "    <tr>\n",
              "      <th>0</th>\n",
              "      <td>1</td>\n",
              "      <td>2</td>\n",
              "      <td>1</td>\n",
              "      <td>4</td>\n",
              "      <td>280.0</td>\n",
              "      <td>510.0</td>\n",
              "      <td>2</td>\n",
              "      <td>4018.0</td>\n",
              "      <td>9</td>\n",
              "      <td>5.0</td>\n",
              "      <td>2.0</td>\n",
              "      <td>52.432544</td>\n",
              "      <td>103.0</td>\n",
              "      <td>30.0</td>\n",
              "      <td>0.0</td>\n",
              "      <td>102.0</td>\n",
              "      <td>30.0</td>\n",
              "      <td>0.0</td>\n",
              "      <td>1.0</td>\n",
              "      <td>2.0</td>\n",
              "      <td>0</td>\n",
              "      <td>1</td>\n",
              "      <td>0</td>\n",
              "      <td>1</td>\n",
              "      <td>2</td>\n",
              "      <td>18</td>\n",
              "      <td>310.0</td>\n",
              "      <td>320.0</td>\n",
              "      <td>310.0</td>\n",
              "      <td>305.0</td>\n",
              "      <td>101.0</td>\n",
              "      <td>33.0</td>\n",
              "      <td>67.0</td>\n",
              "      <td>33.0</td>\n",
              "      <td>17.0</td>\n",
              "      <td>100.0</td>\n",
              "      <td>50.0</td>\n",
              "      <td>217.0</td>\n",
              "      <td>2</td>\n",
              "      <td>1</td>\n",
              "      <td>1.0</td>\n",
              "      <td>1.0</td>\n",
              "      <td>1</td>\n",
              "      <td>1.0</td>\n",
              "      <td>1</td>\n",
              "      <td>1.0</td>\n",
              "      <td>2</td>\n",
              "      <td>2.0</td>\n",
              "      <td>2</td>\n",
              "      <td>2.0</td>\n",
              "      <td>2.0</td>\n",
              "      <td>3.0</td>\n",
              "      <td>1.0</td>\n",
              "      <td>3.0</td>\n",
              "      <td>3.0</td>\n",
              "      <td>3</td>\n",
              "      <td>1</td>\n",
              "      <td>15.0</td>\n",
              "    </tr>\n",
              "    <tr>\n",
              "      <th>1</th>\n",
              "      <td>2</td>\n",
              "      <td>2</td>\n",
              "      <td>2</td>\n",
              "      <td>6</td>\n",
              "      <td>165.0</td>\n",
              "      <td>508.0</td>\n",
              "      <td>1</td>\n",
              "      <td>2509.0</td>\n",
              "      <td>7</td>\n",
              "      <td>3.0</td>\n",
              "      <td>1.0</td>\n",
              "      <td>64.000000</td>\n",
              "      <td>212.0</td>\n",
              "      <td>100.0</td>\n",
              "      <td>69.0</td>\n",
              "      <td>212.0</td>\n",
              "      <td>100.0</td>\n",
              "      <td>0.0</td>\n",
              "      <td>1.0</td>\n",
              "      <td>2.0</td>\n",
              "      <td>0</td>\n",
              "      <td>1</td>\n",
              "      <td>0</td>\n",
              "      <td>1</td>\n",
              "      <td>2</td>\n",
              "      <td>0</td>\n",
              "      <td>305.0</td>\n",
              "      <td>302.0</td>\n",
              "      <td>202.0</td>\n",
              "      <td>202.0</td>\n",
              "      <td>304.0</td>\n",
              "      <td>17.0</td>\n",
              "      <td>7.0</td>\n",
              "      <td>29.0</td>\n",
              "      <td>29.0</td>\n",
              "      <td>13.0</td>\n",
              "      <td>24.0</td>\n",
              "      <td>78.0</td>\n",
              "      <td>2</td>\n",
              "      <td>2</td>\n",
              "      <td>3.0</td>\n",
              "      <td>1.0</td>\n",
              "      <td>1</td>\n",
              "      <td>4.0</td>\n",
              "      <td>2</td>\n",
              "      <td>2.0</td>\n",
              "      <td>2</td>\n",
              "      <td>2.0</td>\n",
              "      <td>2</td>\n",
              "      <td>2.0</td>\n",
              "      <td>2.0</td>\n",
              "      <td>3.0</td>\n",
              "      <td>1.0</td>\n",
              "      <td>1.0</td>\n",
              "      <td>3.0</td>\n",
              "      <td>1</td>\n",
              "      <td>2</td>\n",
              "      <td>0.0</td>\n",
              "    </tr>\n",
              "    <tr>\n",
              "      <th>2</th>\n",
              "      <td>3</td>\n",
              "      <td>2</td>\n",
              "      <td>2</td>\n",
              "      <td>4</td>\n",
              "      <td>158.0</td>\n",
              "      <td>511.0</td>\n",
              "      <td>5</td>\n",
              "      <td>2204.0</td>\n",
              "      <td>11</td>\n",
              "      <td>4.0</td>\n",
              "      <td>1.0</td>\n",
              "      <td>52.432544</td>\n",
              "      <td>103.0</td>\n",
              "      <td>30.0</td>\n",
              "      <td>0.0</td>\n",
              "      <td>102.0</td>\n",
              "      <td>30.0</td>\n",
              "      <td>0.0</td>\n",
              "      <td>1.0</td>\n",
              "      <td>2.0</td>\n",
              "      <td>900</td>\n",
              "      <td>1</td>\n",
              "      <td>99900</td>\n",
              "      <td>1</td>\n",
              "      <td>1</td>\n",
              "      <td>0</td>\n",
              "      <td>101.0</td>\n",
              "      <td>555.0</td>\n",
              "      <td>101.0</td>\n",
              "      <td>555.0</td>\n",
              "      <td>101.0</td>\n",
              "      <td>100.0</td>\n",
              "      <td>0.0</td>\n",
              "      <td>100.0</td>\n",
              "      <td>0.0</td>\n",
              "      <td>100.0</td>\n",
              "      <td>100.0</td>\n",
              "      <td>200.0</td>\n",
              "      <td>1</td>\n",
              "      <td>1</td>\n",
              "      <td>3.0</td>\n",
              "      <td>1.0</td>\n",
              "      <td>1</td>\n",
              "      <td>1.0</td>\n",
              "      <td>2</td>\n",
              "      <td>1.0</td>\n",
              "      <td>7</td>\n",
              "      <td>2.0</td>\n",
              "      <td>1</td>\n",
              "      <td>2.0</td>\n",
              "      <td>2.0</td>\n",
              "      <td>3.0</td>\n",
              "      <td>2.0</td>\n",
              "      <td>3.0</td>\n",
              "      <td>3.0</td>\n",
              "      <td>4</td>\n",
              "      <td>1</td>\n",
              "      <td>15.0</td>\n",
              "    </tr>\n",
              "    <tr>\n",
              "      <th>3</th>\n",
              "      <td>4</td>\n",
              "      <td>2</td>\n",
              "      <td>1</td>\n",
              "      <td>4</td>\n",
              "      <td>180.0</td>\n",
              "      <td>507.0</td>\n",
              "      <td>5</td>\n",
              "      <td>2819.0</td>\n",
              "      <td>9</td>\n",
              "      <td>5.0</td>\n",
              "      <td>2.0</td>\n",
              "      <td>52.432544</td>\n",
              "      <td>103.0</td>\n",
              "      <td>30.0</td>\n",
              "      <td>0.0</td>\n",
              "      <td>102.0</td>\n",
              "      <td>30.0</td>\n",
              "      <td>0.0</td>\n",
              "      <td>1.0</td>\n",
              "      <td>2.0</td>\n",
              "      <td>0</td>\n",
              "      <td>1</td>\n",
              "      <td>0</td>\n",
              "      <td>1</td>\n",
              "      <td>2</td>\n",
              "      <td>30</td>\n",
              "      <td>101.0</td>\n",
              "      <td>555.0</td>\n",
              "      <td>301.0</td>\n",
              "      <td>301.0</td>\n",
              "      <td>201.0</td>\n",
              "      <td>100.0</td>\n",
              "      <td>0.0</td>\n",
              "      <td>3.0</td>\n",
              "      <td>3.0</td>\n",
              "      <td>14.0</td>\n",
              "      <td>100.0</td>\n",
              "      <td>20.0</td>\n",
              "      <td>1</td>\n",
              "      <td>2</td>\n",
              "      <td>1.0</td>\n",
              "      <td>1.0</td>\n",
              "      <td>1</td>\n",
              "      <td>1.0</td>\n",
              "      <td>1</td>\n",
              "      <td>1.0</td>\n",
              "      <td>2</td>\n",
              "      <td>2.0</td>\n",
              "      <td>2</td>\n",
              "      <td>2.0</td>\n",
              "      <td>2.0</td>\n",
              "      <td>3.0</td>\n",
              "      <td>2.0</td>\n",
              "      <td>3.0</td>\n",
              "      <td>3.0</td>\n",
              "      <td>4</td>\n",
              "      <td>1</td>\n",
              "      <td>30.0</td>\n",
              "    </tr>\n",
              "    <tr>\n",
              "      <th>4</th>\n",
              "      <td>5</td>\n",
              "      <td>2</td>\n",
              "      <td>1</td>\n",
              "      <td>5</td>\n",
              "      <td>142.0</td>\n",
              "      <td>504.0</td>\n",
              "      <td>5</td>\n",
              "      <td>2437.0</td>\n",
              "      <td>9</td>\n",
              "      <td>5.0</td>\n",
              "      <td>2.0</td>\n",
              "      <td>52.432544</td>\n",
              "      <td>103.0</td>\n",
              "      <td>30.0</td>\n",
              "      <td>0.0</td>\n",
              "      <td>102.0</td>\n",
              "      <td>30.0</td>\n",
              "      <td>0.0</td>\n",
              "      <td>1.0</td>\n",
              "      <td>2.0</td>\n",
              "      <td>0</td>\n",
              "      <td>1</td>\n",
              "      <td>0</td>\n",
              "      <td>1</td>\n",
              "      <td>2</td>\n",
              "      <td>0</td>\n",
              "      <td>102.0</td>\n",
              "      <td>203.0</td>\n",
              "      <td>204.0</td>\n",
              "      <td>310.0</td>\n",
              "      <td>320.0</td>\n",
              "      <td>200.0</td>\n",
              "      <td>43.0</td>\n",
              "      <td>57.0</td>\n",
              "      <td>33.0</td>\n",
              "      <td>67.0</td>\n",
              "      <td>100.0</td>\n",
              "      <td>200.0</td>\n",
              "      <td>1</td>\n",
              "      <td>1</td>\n",
              "      <td>3.0</td>\n",
              "      <td>1.0</td>\n",
              "      <td>1</td>\n",
              "      <td>1.0</td>\n",
              "      <td>2</td>\n",
              "      <td>2.0</td>\n",
              "      <td>2</td>\n",
              "      <td>2.0</td>\n",
              "      <td>2</td>\n",
              "      <td>2.0</td>\n",
              "      <td>2.0</td>\n",
              "      <td>3.0</td>\n",
              "      <td>2.0</td>\n",
              "      <td>3.0</td>\n",
              "      <td>3.0</td>\n",
              "      <td>4</td>\n",
              "      <td>1</td>\n",
              "      <td>20.0</td>\n",
              "    </tr>\n",
              "    <tr>\n",
              "      <th>...</th>\n",
              "      <td>...</td>\n",
              "      <td>...</td>\n",
              "      <td>...</td>\n",
              "      <td>...</td>\n",
              "      <td>...</td>\n",
              "      <td>...</td>\n",
              "      <td>...</td>\n",
              "      <td>...</td>\n",
              "      <td>...</td>\n",
              "      <td>...</td>\n",
              "      <td>...</td>\n",
              "      <td>...</td>\n",
              "      <td>...</td>\n",
              "      <td>...</td>\n",
              "      <td>...</td>\n",
              "      <td>...</td>\n",
              "      <td>...</td>\n",
              "      <td>...</td>\n",
              "      <td>...</td>\n",
              "      <td>...</td>\n",
              "      <td>...</td>\n",
              "      <td>...</td>\n",
              "      <td>...</td>\n",
              "      <td>...</td>\n",
              "      <td>...</td>\n",
              "      <td>...</td>\n",
              "      <td>...</td>\n",
              "      <td>...</td>\n",
              "      <td>...</td>\n",
              "      <td>...</td>\n",
              "      <td>...</td>\n",
              "      <td>...</td>\n",
              "      <td>...</td>\n",
              "      <td>...</td>\n",
              "      <td>...</td>\n",
              "      <td>...</td>\n",
              "      <td>...</td>\n",
              "      <td>...</td>\n",
              "      <td>...</td>\n",
              "      <td>...</td>\n",
              "      <td>...</td>\n",
              "      <td>...</td>\n",
              "      <td>...</td>\n",
              "      <td>...</td>\n",
              "      <td>...</td>\n",
              "      <td>...</td>\n",
              "      <td>...</td>\n",
              "      <td>...</td>\n",
              "      <td>...</td>\n",
              "      <td>...</td>\n",
              "      <td>...</td>\n",
              "      <td>...</td>\n",
              "      <td>...</td>\n",
              "      <td>...</td>\n",
              "      <td>...</td>\n",
              "      <td>...</td>\n",
              "      <td>...</td>\n",
              "      <td>...</td>\n",
              "    </tr>\n",
              "    <tr>\n",
              "      <th>441451</th>\n",
              "      <td>441452</td>\n",
              "      <td>2</td>\n",
              "      <td>3</td>\n",
              "      <td>2</td>\n",
              "      <td>104.0</td>\n",
              "      <td>503.0</td>\n",
              "      <td>2</td>\n",
              "      <td>1842.0</td>\n",
              "      <td>11</td>\n",
              "      <td>4.0</td>\n",
              "      <td>2.0</td>\n",
              "      <td>52.432544</td>\n",
              "      <td>103.0</td>\n",
              "      <td>30.0</td>\n",
              "      <td>0.0</td>\n",
              "      <td>102.0</td>\n",
              "      <td>30.0</td>\n",
              "      <td>0.0</td>\n",
              "      <td>1.0</td>\n",
              "      <td>2.0</td>\n",
              "      <td>0</td>\n",
              "      <td>1</td>\n",
              "      <td>0</td>\n",
              "      <td>1</td>\n",
              "      <td>2</td>\n",
              "      <td>0</td>\n",
              "      <td>555.0</td>\n",
              "      <td>205.0</td>\n",
              "      <td>555.0</td>\n",
              "      <td>201.0</td>\n",
              "      <td>201.0</td>\n",
              "      <td>0.0</td>\n",
              "      <td>71.0</td>\n",
              "      <td>0.0</td>\n",
              "      <td>14.0</td>\n",
              "      <td>14.0</td>\n",
              "      <td>29.0</td>\n",
              "      <td>200.0</td>\n",
              "      <td>2</td>\n",
              "      <td>2</td>\n",
              "      <td>1.0</td>\n",
              "      <td>1.0</td>\n",
              "      <td>1</td>\n",
              "      <td>1.0</td>\n",
              "      <td>2</td>\n",
              "      <td>1.0</td>\n",
              "      <td>2</td>\n",
              "      <td>2.0</td>\n",
              "      <td>2</td>\n",
              "      <td>2.0</td>\n",
              "      <td>2.0</td>\n",
              "      <td>1.0</td>\n",
              "      <td>2.0</td>\n",
              "      <td>3.0</td>\n",
              "      <td>3.0</td>\n",
              "      <td>4</td>\n",
              "      <td>1</td>\n",
              "      <td>0.0</td>\n",
              "    </tr>\n",
              "    <tr>\n",
              "      <th>441452</th>\n",
              "      <td>441453</td>\n",
              "      <td>2</td>\n",
              "      <td>1</td>\n",
              "      <td>5</td>\n",
              "      <td>160.0</td>\n",
              "      <td>503.0</td>\n",
              "      <td>1</td>\n",
              "      <td>2834.0</td>\n",
              "      <td>2</td>\n",
              "      <td>1.0</td>\n",
              "      <td>1.0</td>\n",
              "      <td>64.000000</td>\n",
              "      <td>105.0</td>\n",
              "      <td>30.0</td>\n",
              "      <td>0.0</td>\n",
              "      <td>102.0</td>\n",
              "      <td>30.0</td>\n",
              "      <td>0.0</td>\n",
              "      <td>1.0</td>\n",
              "      <td>2.0</td>\n",
              "      <td>0</td>\n",
              "      <td>1</td>\n",
              "      <td>0</td>\n",
              "      <td>1</td>\n",
              "      <td>2</td>\n",
              "      <td>0</td>\n",
              "      <td>101.0</td>\n",
              "      <td>202.0</td>\n",
              "      <td>303.0</td>\n",
              "      <td>201.0</td>\n",
              "      <td>202.0</td>\n",
              "      <td>100.0</td>\n",
              "      <td>29.0</td>\n",
              "      <td>10.0</td>\n",
              "      <td>14.0</td>\n",
              "      <td>29.0</td>\n",
              "      <td>117.0</td>\n",
              "      <td>82.0</td>\n",
              "      <td>1</td>\n",
              "      <td>2</td>\n",
              "      <td>3.0</td>\n",
              "      <td>1.0</td>\n",
              "      <td>1</td>\n",
              "      <td>1.0</td>\n",
              "      <td>2</td>\n",
              "      <td>2.0</td>\n",
              "      <td>2</td>\n",
              "      <td>2.0</td>\n",
              "      <td>2</td>\n",
              "      <td>2.0</td>\n",
              "      <td>2.0</td>\n",
              "      <td>3.0</td>\n",
              "      <td>2.0</td>\n",
              "      <td>3.0</td>\n",
              "      <td>3.0</td>\n",
              "      <td>4</td>\n",
              "      <td>1</td>\n",
              "      <td>0.0</td>\n",
              "    </tr>\n",
              "    <tr>\n",
              "      <th>441453</th>\n",
              "      <td>441454</td>\n",
              "      <td>2</td>\n",
              "      <td>1</td>\n",
              "      <td>4</td>\n",
              "      <td>247.0</td>\n",
              "      <td>505.0</td>\n",
              "      <td>3</td>\n",
              "      <td>4110.0</td>\n",
              "      <td>11</td>\n",
              "      <td>4.0</td>\n",
              "      <td>1.0</td>\n",
              "      <td>52.432544</td>\n",
              "      <td>103.0</td>\n",
              "      <td>30.0</td>\n",
              "      <td>0.0</td>\n",
              "      <td>102.0</td>\n",
              "      <td>30.0</td>\n",
              "      <td>202.0</td>\n",
              "      <td>2.0</td>\n",
              "      <td>2.0</td>\n",
              "      <td>7</td>\n",
              "      <td>1</td>\n",
              "      <td>93</td>\n",
              "      <td>1</td>\n",
              "      <td>1</td>\n",
              "      <td>20</td>\n",
              "      <td>101.0</td>\n",
              "      <td>555.0</td>\n",
              "      <td>101.0</td>\n",
              "      <td>555.0</td>\n",
              "      <td>101.0</td>\n",
              "      <td>100.0</td>\n",
              "      <td>0.0</td>\n",
              "      <td>100.0</td>\n",
              "      <td>0.0</td>\n",
              "      <td>100.0</td>\n",
              "      <td>100.0</td>\n",
              "      <td>200.0</td>\n",
              "      <td>1</td>\n",
              "      <td>1</td>\n",
              "      <td>1.0</td>\n",
              "      <td>1.0</td>\n",
              "      <td>1</td>\n",
              "      <td>1.0</td>\n",
              "      <td>2</td>\n",
              "      <td>1.0</td>\n",
              "      <td>2</td>\n",
              "      <td>2.0</td>\n",
              "      <td>2</td>\n",
              "      <td>2.0</td>\n",
              "      <td>2.0</td>\n",
              "      <td>3.0</td>\n",
              "      <td>1.0</td>\n",
              "      <td>3.0</td>\n",
              "      <td>3.0</td>\n",
              "      <td>3</td>\n",
              "      <td>1</td>\n",
              "      <td>0.0</td>\n",
              "    </tr>\n",
              "    <tr>\n",
              "      <th>441454</th>\n",
              "      <td>441455</td>\n",
              "      <td>1</td>\n",
              "      <td>5</td>\n",
              "      <td>5</td>\n",
              "      <td>166.0</td>\n",
              "      <td>511.0</td>\n",
              "      <td>1</td>\n",
              "      <td>2315.0</td>\n",
              "      <td>7</td>\n",
              "      <td>3.0</td>\n",
              "      <td>2.0</td>\n",
              "      <td>52.432544</td>\n",
              "      <td>103.0</td>\n",
              "      <td>30.0</td>\n",
              "      <td>0.0</td>\n",
              "      <td>102.0</td>\n",
              "      <td>30.0</td>\n",
              "      <td>0.0</td>\n",
              "      <td>1.0</td>\n",
              "      <td>2.0</td>\n",
              "      <td>0</td>\n",
              "      <td>1</td>\n",
              "      <td>0</td>\n",
              "      <td>1</td>\n",
              "      <td>2</td>\n",
              "      <td>0</td>\n",
              "      <td>101.0</td>\n",
              "      <td>101.0</td>\n",
              "      <td>202.0</td>\n",
              "      <td>301.0</td>\n",
              "      <td>301.0</td>\n",
              "      <td>100.0</td>\n",
              "      <td>100.0</td>\n",
              "      <td>29.0</td>\n",
              "      <td>3.0</td>\n",
              "      <td>3.0</td>\n",
              "      <td>200.0</td>\n",
              "      <td>135.0</td>\n",
              "      <td>1</td>\n",
              "      <td>1</td>\n",
              "      <td>1.0</td>\n",
              "      <td>1.0</td>\n",
              "      <td>1</td>\n",
              "      <td>1.0</td>\n",
              "      <td>2</td>\n",
              "      <td>2.0</td>\n",
              "      <td>2</td>\n",
              "      <td>2.0</td>\n",
              "      <td>2</td>\n",
              "      <td>2.0</td>\n",
              "      <td>2.0</td>\n",
              "      <td>3.0</td>\n",
              "      <td>2.0</td>\n",
              "      <td>3.0</td>\n",
              "      <td>3.0</td>\n",
              "      <td>4</td>\n",
              "      <td>1</td>\n",
              "      <td>0.0</td>\n",
              "    </tr>\n",
              "    <tr>\n",
              "      <th>441455</th>\n",
              "      <td>441456</td>\n",
              "      <td>2</td>\n",
              "      <td>1</td>\n",
              "      <td>6</td>\n",
              "      <td>135.0</td>\n",
              "      <td>502.0</td>\n",
              "      <td>1</td>\n",
              "      <td>2469.0</td>\n",
              "      <td>9</td>\n",
              "      <td>2.0</td>\n",
              "      <td>1.0</td>\n",
              "      <td>64.000000</td>\n",
              "      <td>103.0</td>\n",
              "      <td>30.0</td>\n",
              "      <td>0.0</td>\n",
              "      <td>102.0</td>\n",
              "      <td>30.0</td>\n",
              "      <td>0.0</td>\n",
              "      <td>1.0</td>\n",
              "      <td>2.0</td>\n",
              "      <td>0</td>\n",
              "      <td>1</td>\n",
              "      <td>0</td>\n",
              "      <td>1</td>\n",
              "      <td>2</td>\n",
              "      <td>0</td>\n",
              "      <td>101.0</td>\n",
              "      <td>201.0</td>\n",
              "      <td>201.0</td>\n",
              "      <td>201.0</td>\n",
              "      <td>202.0</td>\n",
              "      <td>100.0</td>\n",
              "      <td>14.0</td>\n",
              "      <td>14.0</td>\n",
              "      <td>14.0</td>\n",
              "      <td>29.0</td>\n",
              "      <td>200.0</td>\n",
              "      <td>71.0</td>\n",
              "      <td>1</td>\n",
              "      <td>2</td>\n",
              "      <td>1.0</td>\n",
              "      <td>1.0</td>\n",
              "      <td>1</td>\n",
              "      <td>1.0</td>\n",
              "      <td>2</td>\n",
              "      <td>1.0</td>\n",
              "      <td>1</td>\n",
              "      <td>2.0</td>\n",
              "      <td>2</td>\n",
              "      <td>1.0</td>\n",
              "      <td>1.0</td>\n",
              "      <td>1.0</td>\n",
              "      <td>2.0</td>\n",
              "      <td>3.0</td>\n",
              "      <td>3.0</td>\n",
              "      <td>4</td>\n",
              "      <td>1</td>\n",
              "      <td>0.0</td>\n",
              "    </tr>\n",
              "  </tbody>\n",
              "</table>\n",
              "<p>441456 rows × 58 columns</p>\n",
              "</div>"
            ],
            "text/plain": [
              "        Patient_ID  SEX  MARITAL  EDUCA  WEIGHT2  HEIGHT3  _INCOMG   _BMI5  \\\n",
              "0                1    2        1      4    280.0    510.0        2  4018.0   \n",
              "1                2    2        2      6    165.0    508.0        1  2509.0   \n",
              "2                3    2        2      4    158.0    511.0        5  2204.0   \n",
              "3                4    2        1      4    180.0    507.0        5  2819.0   \n",
              "4                5    2        1      5    142.0    504.0        5  2437.0   \n",
              "...            ...  ...      ...    ...      ...      ...      ...     ...   \n",
              "441451      441452    2        3      2    104.0    503.0        2  1842.0   \n",
              "441452      441453    2        1      5    160.0    503.0        1  2834.0   \n",
              "441453      441454    2        1      4    247.0    505.0        3  4110.0   \n",
              "441454      441455    1        5      5    166.0    511.0        1  2315.0   \n",
              "441455      441456    2        1      6    135.0    502.0        1  2469.0   \n",
              "\n",
              "        _AGEG5YR  GENHLTH  EXERANY2   EXRACT11  EXEROFT1  EXERHMM1  EXRACT21  \\\n",
              "0              9      5.0       2.0  52.432544     103.0      30.0       0.0   \n",
              "1              7      3.0       1.0  64.000000     212.0     100.0      69.0   \n",
              "2             11      4.0       1.0  52.432544     103.0      30.0       0.0   \n",
              "3              9      5.0       2.0  52.432544     103.0      30.0       0.0   \n",
              "4              9      5.0       2.0  52.432544     103.0      30.0       0.0   \n",
              "...          ...      ...       ...        ...       ...       ...       ...   \n",
              "441451        11      4.0       2.0  52.432544     103.0      30.0       0.0   \n",
              "441452         2      1.0       1.0  64.000000     105.0      30.0       0.0   \n",
              "441453        11      4.0       1.0  52.432544     103.0      30.0       0.0   \n",
              "441454         7      3.0       2.0  52.432544     103.0      30.0       0.0   \n",
              "441455         9      2.0       1.0  64.000000     103.0      30.0       0.0   \n",
              "\n",
              "        EXEROFT2  EXERHMM2  ALCDAY5  AVEDRNK2  MAXDRNKS  DROCDY3_  _RFBING5  \\\n",
              "0          102.0      30.0      0.0       1.0       2.0         0         1   \n",
              "1          212.0     100.0      0.0       1.0       2.0         0         1   \n",
              "2          102.0      30.0      0.0       1.0       2.0       900         1   \n",
              "3          102.0      30.0      0.0       1.0       2.0         0         1   \n",
              "4          102.0      30.0      0.0       1.0       2.0         0         1   \n",
              "...          ...       ...      ...       ...       ...       ...       ...   \n",
              "441451     102.0      30.0      0.0       1.0       2.0         0         1   \n",
              "441452     102.0      30.0      0.0       1.0       2.0         0         1   \n",
              "441453     102.0      30.0    202.0       2.0       2.0         7         1   \n",
              "441454     102.0      30.0      0.0       1.0       2.0         0         1   \n",
              "441455     102.0      30.0      0.0       1.0       2.0         0         1   \n",
              "\n",
              "        _DRNKWEK  _RFDRHV5  DRNKANY5  MENTHLTH  FRUIT1  FVBEANS  FVGREEN  \\\n",
              "0              0         1         2        18   310.0    320.0    310.0   \n",
              "1              0         1         2         0   305.0    302.0    202.0   \n",
              "2          99900         1         1         0   101.0    555.0    101.0   \n",
              "3              0         1         2        30   101.0    555.0    301.0   \n",
              "4              0         1         2         0   102.0    203.0    204.0   \n",
              "...          ...       ...       ...       ...     ...      ...      ...   \n",
              "441451         0         1         2         0   555.0    205.0    555.0   \n",
              "441452         0         1         2         0   101.0    202.0    303.0   \n",
              "441453        93         1         1        20   101.0    555.0    101.0   \n",
              "441454         0         1         2         0   101.0    101.0    202.0   \n",
              "441455         0         1         2         0   101.0    201.0    201.0   \n",
              "\n",
              "        FVORANG  VEGETAB1  FRUTDA1_  BEANDAY_  GRENDAY_  ORNGDAY_  VEGEDA1_  \\\n",
              "0         305.0     101.0      33.0      67.0      33.0      17.0     100.0   \n",
              "1         202.0     304.0      17.0       7.0      29.0      29.0      13.0   \n",
              "2         555.0     101.0     100.0       0.0     100.0       0.0     100.0   \n",
              "3         301.0     201.0     100.0       0.0       3.0       3.0      14.0   \n",
              "4         310.0     320.0     200.0      43.0      57.0      33.0      67.0   \n",
              "...         ...       ...       ...       ...       ...       ...       ...   \n",
              "441451    201.0     201.0       0.0      71.0       0.0      14.0      14.0   \n",
              "441452    201.0     202.0     100.0      29.0      10.0      14.0      29.0   \n",
              "441453    555.0     101.0     100.0       0.0     100.0       0.0     100.0   \n",
              "441454    301.0     301.0     100.0     100.0      29.0       3.0       3.0   \n",
              "441455    201.0     202.0     100.0      14.0      14.0      14.0      29.0   \n",
              "\n",
              "        _FRUTSUM  _VEGESUM  _FRTLT1  _VEGLT1  BPHIGH4  BPMEDS  BLOODCHO  \\\n",
              "0           50.0     217.0        2        1      1.0     1.0         1   \n",
              "1           24.0      78.0        2        2      3.0     1.0         1   \n",
              "2          100.0     200.0        1        1      3.0     1.0         1   \n",
              "3          100.0      20.0        1        2      1.0     1.0         1   \n",
              "4          100.0     200.0        1        1      3.0     1.0         1   \n",
              "...          ...       ...      ...      ...      ...     ...       ...   \n",
              "441451      29.0     200.0        2        2      1.0     1.0         1   \n",
              "441452     117.0      82.0        1        2      3.0     1.0         1   \n",
              "441453     100.0     200.0        1        1      1.0     1.0         1   \n",
              "441454     200.0     135.0        1        1      1.0     1.0         1   \n",
              "441455     200.0      71.0        1        2      1.0     1.0         1   \n",
              "\n",
              "        CHOLCHK  ADDEPEV2  TOLDHI2  CVDINFR4  CVDCRHD4  CVDSTRK3  _MICHD  \\\n",
              "0           1.0         1      1.0         2       2.0         2     2.0   \n",
              "1           4.0         2      2.0         2       2.0         2     2.0   \n",
              "2           1.0         2      1.0         7       2.0         1     2.0   \n",
              "3           1.0         1      1.0         2       2.0         2     2.0   \n",
              "4           1.0         2      2.0         2       2.0         2     2.0   \n",
              "...         ...       ...      ...       ...       ...       ...     ...   \n",
              "441451      1.0         2      1.0         2       2.0         2     2.0   \n",
              "441452      1.0         2      2.0         2       2.0         2     2.0   \n",
              "441453      1.0         2      1.0         2       2.0         2     2.0   \n",
              "441454      1.0         2      2.0         2       2.0         2     2.0   \n",
              "441455      1.0         2      1.0         1       2.0         2     1.0   \n",
              "\n",
              "        CHCSCNCR  DIABETE3  SMOKE100  SMOKDAY2  USENOW3  _SMOKER3  _RFSMOK3  \\\n",
              "0            2.0       3.0       1.0       3.0      3.0         3         1   \n",
              "1            2.0       3.0       1.0       1.0      3.0         1         2   \n",
              "2            2.0       3.0       2.0       3.0      3.0         4         1   \n",
              "3            2.0       3.0       2.0       3.0      3.0         4         1   \n",
              "4            2.0       3.0       2.0       3.0      3.0         4         1   \n",
              "...          ...       ...       ...       ...      ...       ...       ...   \n",
              "441451       2.0       1.0       2.0       3.0      3.0         4         1   \n",
              "441452       2.0       3.0       2.0       3.0      3.0         4         1   \n",
              "441453       2.0       3.0       1.0       3.0      3.0         3         1   \n",
              "441454       2.0       3.0       2.0       3.0      3.0         4         1   \n",
              "441455       1.0       1.0       2.0       3.0      3.0         4         1   \n",
              "\n",
              "        PHYSHLTH  \n",
              "0           15.0  \n",
              "1            0.0  \n",
              "2           15.0  \n",
              "3           30.0  \n",
              "4           20.0  \n",
              "...          ...  \n",
              "441451       0.0  \n",
              "441452       0.0  \n",
              "441453       0.0  \n",
              "441454       0.0  \n",
              "441455       0.0  \n",
              "\n",
              "[441456 rows x 58 columns]"
            ]
          },
          "execution_count": 3,
          "metadata": {},
          "output_type": "execute_result"
        }
      ],
      "source": [
        "df=pd.read_csv(\"new_datapfe.csv\")\n",
        "pd.set_option('display.max_columns', None)\n",
        "df "
      ]
    },
    {
      "attachments": {},
      "cell_type": "markdown",
      "id": "a7e72e7d",
      "metadata": {},
      "source": [
        "* CVDINFR4: you had a heart attack, also called a myocardial infarction? \n",
        "* CVDCRHD4: you had angina or coronary heart disease? \n",
        "* CVDSTRK3: you had a stroke ?\n",
        "* _MICHD:  have ever reported having coronary heart disease (CHD) or myocardial infarction (MI)"
      ]
    },
    {
      "cell_type": "markdown",
      "id": "5bd23081-deba-4c41-8d57-55dd09a82ee0",
      "metadata": {
        "nteract": {
          "transient": {
            "deleting": false
          }
        }
      },
      "source": [
        "The code calculates the correlation between each feature in the DataFrame and the features specified in the 'target' list using the `corrwith()` function. This function computes the pairwise correlation between each feature and the target features.\n",
        "\n",
        "The resulting correlation values are then sorted in descending order using the `sort_values()` function with the `ascending=False` parameter, so that the features with higher absolute correlation values appear at the top of the sorted list.\n",
        "\n",
        "The variable 'k' represents the number of top features you want to select. In this case, it is set to 20.\n",
        "\n",
        "Finally, the code selects the top 'k' features based on the sorted correlation values by slicing the 'sorted_features' list using the `[:k]` notation. The `index.tolist()` method is used to extract the feature names as a list.\n",
        "\n",
        "The resulting 'selected_features' list contains the names of the top 'k' features that have the highest absolute correlation with the target features."
      ]
    },
    {
      "cell_type": "code",
      "execution_count": 3,
      "id": "674860dc-03fc-41ae-86f7-8aabaa4594b7",
      "metadata": {
        "gather": {
          "logged": 1685108583391
        },
        "jupyter": {
          "outputs_hidden": false,
          "source_hidden": false
        },
        "nteract": {
          "transient": {
            "deleting": false
          }
        }
      },
      "outputs": [
        {
          "data": {
            "text/plain": [
              "['CVDCRHD4',\n",
              " '_MICHD',\n",
              " 'CVDSTRK3',\n",
              " 'CVDINFR4',\n",
              " 'ALCDAY5',\n",
              " 'AVEDRNK2',\n",
              " 'BEANDAY_',\n",
              " 'BLOODCHO',\n",
              " 'BPHIGH4',\n",
              " 'BPMEDS',\n",
              " 'CHCSCNCR',\n",
              " 'CHOLCHK',\n",
              " 'DIABETE3',\n",
              " 'DRNKANY5',\n",
              " 'DROCDY3_',\n",
              " 'EDUCA',\n",
              " 'EXERANY2',\n",
              " 'EXERHMM1',\n",
              " 'EXERHMM2',\n",
              " 'EXEROFT1']"
            ]
          },
          "execution_count": 3,
          "metadata": {},
          "output_type": "execute_result"
        }
      ],
      "source": [
        "import pandas as pd\n",
        "\n",
        "\n",
        "# 'target' is a list of multiple features\n",
        "target = ['CVDINFR4','CVDCRHD4','CVDSTRK3','_MICHD']\n",
        "# Calculate correlation between target and individual features\n",
        "correlation = df.corrwith(df[target])\n",
        "\n",
        "# Sort features based on correlation values\n",
        "sorted_features = correlation.abs().sort_values(ascending=False)\n",
        "\n",
        "# Select the top-k features based on correlation\n",
        "k = 20  # Number of features to select\n",
        "selected_features = sorted_features[:k].index.tolist()\n",
        "selected_features"
      ]
    },
    {
      "cell_type": "code",
      "execution_count": null,
      "id": "c925943a-dab7-4383-98a9-99b5f5f8093e",
      "metadata": {
        "jupyter": {
          "outputs_hidden": false,
          "source_hidden": false
        },
        "nteract": {
          "transient": {
            "deleting": false
          }
        }
      },
      "outputs": [],
      "source": []
    },
    {
      "cell_type": "code",
      "execution_count": null,
      "id": "329a92df-5e89-44d3-ba14-c535cd920b74",
      "metadata": {
        "jupyter": {
          "outputs_hidden": false,
          "source_hidden": false
        },
        "nteract": {
          "transient": {
            "deleting": false
          }
        }
      },
      "outputs": [],
      "source": []
    },
    {
      "cell_type": "code",
      "execution_count": null,
      "id": "705f607c-f7ab-4164-adba-2f7d1e2ebae5",
      "metadata": {
        "jupyter": {
          "outputs_hidden": false,
          "source_hidden": false
        },
        "nteract": {
          "transient": {
            "deleting": false
          }
        }
      },
      "outputs": [],
      "source": []
    },
    {
      "cell_type": "code",
      "execution_count": 3,
      "id": "e2693aeb-c2d8-452e-9689-8ddb414770b7",
      "metadata": {
        "gather": {
          "logged": 1685105880588
        },
        "jupyter": {
          "outputs_hidden": false,
          "source_hidden": false
        },
        "nteract": {
          "transient": {
            "deleting": false
          }
        }
      },
      "outputs": [],
      "source": [
        "from sklearn.model_selection import cross_val_score\n",
        "from sklearn.linear_model import LinearRegression\n",
        "from itertools import combinations\n",
        "\n",
        "# Assuming your dataset is stored in a pandas DataFrame called 'data'\n",
        "# 'target' is a list of multiple features\n",
        "\n",
        "# Initialize a machine learning algorithm (e.g., Linear Regression)\n",
        "model = LinearRegression()\n",
        "\n",
        "# Perform cross-validation and evaluate the performance for different feature subsets\n",
        "best_score = 0.0\n",
        "best_features = []\n",
        "target = ['CVDINFR4','CVDCRHD4','CVDSTRK3','_MICHD']\n",
        "# Loop through different feature combinations\n"
      ]
    },
    {
      "cell_type": "code",
      "execution_count": 4,
      "id": "e36d364f-d2f0-4a9a-96da-fad43a1b8e0d",
      "metadata": {
        "gather": {
          "logged": 1685106942740
        },
        "jupyter": {
          "outputs_hidden": false,
          "source_hidden": false
        },
        "nteract": {
          "transient": {
            "deleting": false
          }
        }
      },
      "outputs": [
        {
          "ename": "KeyboardInterrupt",
          "evalue": "",
          "output_type": "error",
          "traceback": [
            "\u001b[0;31m---------------------------------------------------------------------------\u001b[0m",
            "\u001b[0;31mKeyboardInterrupt\u001b[0m                         Traceback (most recent call last)",
            "Cell \u001b[0;32mIn[4], line 11\u001b[0m\n\u001b[1;32m      8\u001b[0m feature_list \u001b[38;5;241m=\u001b[39m \u001b[38;5;28mlist\u001b[39m(features)\n\u001b[1;32m     10\u001b[0m \u001b[38;5;66;03m# Train and evaluate the model using cross-validation\u001b[39;00m\n\u001b[0;32m---> 11\u001b[0m scores \u001b[38;5;241m=\u001b[39m \u001b[43mcross_val_score\u001b[49m\u001b[43m(\u001b[49m\u001b[43mmodel\u001b[49m\u001b[43m,\u001b[49m\u001b[43m \u001b[49m\u001b[43mdf\u001b[49m\u001b[43m[\u001b[49m\u001b[43mfeature_list\u001b[49m\u001b[43m]\u001b[49m\u001b[43m,\u001b[49m\u001b[43m \u001b[49m\u001b[43mdf\u001b[49m\u001b[43m[\u001b[49m\u001b[43mtarget\u001b[49m\u001b[43m]\u001b[49m\u001b[43m,\u001b[49m\u001b[43m \u001b[49m\u001b[43mcv\u001b[49m\u001b[38;5;241;43m=\u001b[39;49m\u001b[38;5;241;43m5\u001b[39;49m\u001b[43m)\u001b[49m\n\u001b[1;32m     13\u001b[0m \u001b[38;5;66;03m# Calculate the average score\u001b[39;00m\n\u001b[1;32m     14\u001b[0m avg_score \u001b[38;5;241m=\u001b[39m scores\u001b[38;5;241m.\u001b[39mmean()\n",
            "File \u001b[0;32m/anaconda/envs/azureml_py38/lib/python3.8/site-packages/sklearn/model_selection/_validation.py:385\u001b[0m, in \u001b[0;36mcross_val_score\u001b[0;34m(estimator, X, y, groups, scoring, cv, n_jobs, verbose, fit_params, pre_dispatch, error_score)\u001b[0m\n\u001b[1;32m    382\u001b[0m \u001b[38;5;66;03m# To ensure multimetric format is not supported\u001b[39;00m\n\u001b[1;32m    383\u001b[0m scorer \u001b[38;5;241m=\u001b[39m check_scoring(estimator, scoring\u001b[38;5;241m=\u001b[39mscoring)\n\u001b[0;32m--> 385\u001b[0m cv_results \u001b[38;5;241m=\u001b[39m \u001b[43mcross_validate\u001b[49m\u001b[43m(\u001b[49m\u001b[43mestimator\u001b[49m\u001b[38;5;241;43m=\u001b[39;49m\u001b[43mestimator\u001b[49m\u001b[43m,\u001b[49m\u001b[43m \u001b[49m\u001b[43mX\u001b[49m\u001b[38;5;241;43m=\u001b[39;49m\u001b[43mX\u001b[49m\u001b[43m,\u001b[49m\u001b[43m \u001b[49m\u001b[43my\u001b[49m\u001b[38;5;241;43m=\u001b[39;49m\u001b[43my\u001b[49m\u001b[43m,\u001b[49m\u001b[43m \u001b[49m\u001b[43mgroups\u001b[49m\u001b[38;5;241;43m=\u001b[39;49m\u001b[43mgroups\u001b[49m\u001b[43m,\u001b[49m\n\u001b[1;32m    386\u001b[0m \u001b[43m                            \u001b[49m\u001b[43mscoring\u001b[49m\u001b[38;5;241;43m=\u001b[39;49m\u001b[43m{\u001b[49m\u001b[38;5;124;43m'\u001b[39;49m\u001b[38;5;124;43mscore\u001b[39;49m\u001b[38;5;124;43m'\u001b[39;49m\u001b[43m:\u001b[49m\u001b[43m \u001b[49m\u001b[43mscorer\u001b[49m\u001b[43m}\u001b[49m\u001b[43m,\u001b[49m\u001b[43m \u001b[49m\u001b[43mcv\u001b[49m\u001b[38;5;241;43m=\u001b[39;49m\u001b[43mcv\u001b[49m\u001b[43m,\u001b[49m\n\u001b[1;32m    387\u001b[0m \u001b[43m                            \u001b[49m\u001b[43mn_jobs\u001b[49m\u001b[38;5;241;43m=\u001b[39;49m\u001b[43mn_jobs\u001b[49m\u001b[43m,\u001b[49m\u001b[43m \u001b[49m\u001b[43mverbose\u001b[49m\u001b[38;5;241;43m=\u001b[39;49m\u001b[43mverbose\u001b[49m\u001b[43m,\u001b[49m\n\u001b[1;32m    388\u001b[0m \u001b[43m                            \u001b[49m\u001b[43mfit_params\u001b[49m\u001b[38;5;241;43m=\u001b[39;49m\u001b[43mfit_params\u001b[49m\u001b[43m,\u001b[49m\n\u001b[1;32m    389\u001b[0m \u001b[43m                            \u001b[49m\u001b[43mpre_dispatch\u001b[49m\u001b[38;5;241;43m=\u001b[39;49m\u001b[43mpre_dispatch\u001b[49m\u001b[43m,\u001b[49m\n\u001b[1;32m    390\u001b[0m \u001b[43m                            \u001b[49m\u001b[43merror_score\u001b[49m\u001b[38;5;241;43m=\u001b[39;49m\u001b[43merror_score\u001b[49m\u001b[43m)\u001b[49m\n\u001b[1;32m    391\u001b[0m \u001b[38;5;28;01mreturn\u001b[39;00m cv_results[\u001b[38;5;124m'\u001b[39m\u001b[38;5;124mtest_score\u001b[39m\u001b[38;5;124m'\u001b[39m]\n",
            "File \u001b[0;32m/anaconda/envs/azureml_py38/lib/python3.8/site-packages/sklearn/model_selection/_validation.py:230\u001b[0m, in \u001b[0;36mcross_validate\u001b[0;34m(estimator, X, y, groups, scoring, cv, n_jobs, verbose, fit_params, pre_dispatch, return_train_score, return_estimator, error_score)\u001b[0m\n\u001b[1;32m    226\u001b[0m \u001b[38;5;66;03m# We clone the estimator to make sure that all the folds are\u001b[39;00m\n\u001b[1;32m    227\u001b[0m \u001b[38;5;66;03m# independent, and that it is pickle-able.\u001b[39;00m\n\u001b[1;32m    228\u001b[0m parallel \u001b[38;5;241m=\u001b[39m Parallel(n_jobs\u001b[38;5;241m=\u001b[39mn_jobs, verbose\u001b[38;5;241m=\u001b[39mverbose,\n\u001b[1;32m    229\u001b[0m                     pre_dispatch\u001b[38;5;241m=\u001b[39mpre_dispatch)\n\u001b[0;32m--> 230\u001b[0m scores \u001b[38;5;241m=\u001b[39m \u001b[43mparallel\u001b[49m\u001b[43m(\u001b[49m\n\u001b[1;32m    231\u001b[0m \u001b[43m    \u001b[49m\u001b[43mdelayed\u001b[49m\u001b[43m(\u001b[49m\u001b[43m_fit_and_score\u001b[49m\u001b[43m)\u001b[49m\u001b[43m(\u001b[49m\n\u001b[1;32m    232\u001b[0m \u001b[43m        \u001b[49m\u001b[43mclone\u001b[49m\u001b[43m(\u001b[49m\u001b[43mestimator\u001b[49m\u001b[43m)\u001b[49m\u001b[43m,\u001b[49m\u001b[43m \u001b[49m\u001b[43mX\u001b[49m\u001b[43m,\u001b[49m\u001b[43m \u001b[49m\u001b[43my\u001b[49m\u001b[43m,\u001b[49m\u001b[43m \u001b[49m\u001b[43mscorers\u001b[49m\u001b[43m,\u001b[49m\u001b[43m \u001b[49m\u001b[43mtrain\u001b[49m\u001b[43m,\u001b[49m\u001b[43m \u001b[49m\u001b[43mtest\u001b[49m\u001b[43m,\u001b[49m\u001b[43m \u001b[49m\u001b[43mverbose\u001b[49m\u001b[43m,\u001b[49m\u001b[43m \u001b[49m\u001b[38;5;28;43;01mNone\u001b[39;49;00m\u001b[43m,\u001b[49m\n\u001b[1;32m    233\u001b[0m \u001b[43m        \u001b[49m\u001b[43mfit_params\u001b[49m\u001b[43m,\u001b[49m\u001b[43m \u001b[49m\u001b[43mreturn_train_score\u001b[49m\u001b[38;5;241;43m=\u001b[39;49m\u001b[43mreturn_train_score\u001b[49m\u001b[43m,\u001b[49m\n\u001b[1;32m    234\u001b[0m \u001b[43m        \u001b[49m\u001b[43mreturn_times\u001b[49m\u001b[38;5;241;43m=\u001b[39;49m\u001b[38;5;28;43;01mTrue\u001b[39;49;00m\u001b[43m,\u001b[49m\u001b[43m \u001b[49m\u001b[43mreturn_estimator\u001b[49m\u001b[38;5;241;43m=\u001b[39;49m\u001b[43mreturn_estimator\u001b[49m\u001b[43m,\u001b[49m\n\u001b[1;32m    235\u001b[0m \u001b[43m        \u001b[49m\u001b[43merror_score\u001b[49m\u001b[38;5;241;43m=\u001b[39;49m\u001b[43merror_score\u001b[49m\u001b[43m)\u001b[49m\n\u001b[1;32m    236\u001b[0m \u001b[43m    \u001b[49m\u001b[38;5;28;43;01mfor\u001b[39;49;00m\u001b[43m \u001b[49m\u001b[43mtrain\u001b[49m\u001b[43m,\u001b[49m\u001b[43m \u001b[49m\u001b[43mtest\u001b[49m\u001b[43m \u001b[49m\u001b[38;5;129;43;01min\u001b[39;49;00m\u001b[43m \u001b[49m\u001b[43mcv\u001b[49m\u001b[38;5;241;43m.\u001b[39;49m\u001b[43msplit\u001b[49m\u001b[43m(\u001b[49m\u001b[43mX\u001b[49m\u001b[43m,\u001b[49m\u001b[43m \u001b[49m\u001b[43my\u001b[49m\u001b[43m,\u001b[49m\u001b[43m \u001b[49m\u001b[43mgroups\u001b[49m\u001b[43m)\u001b[49m\u001b[43m)\u001b[49m\n\u001b[1;32m    238\u001b[0m zipped_scores \u001b[38;5;241m=\u001b[39m \u001b[38;5;28mlist\u001b[39m(\u001b[38;5;28mzip\u001b[39m(\u001b[38;5;241m*\u001b[39mscores))\n\u001b[1;32m    239\u001b[0m \u001b[38;5;28;01mif\u001b[39;00m return_train_score:\n",
            "File \u001b[0;32m/anaconda/envs/azureml_py38/lib/python3.8/site-packages/joblib/parallel.py:1007\u001b[0m, in \u001b[0;36mParallel.__call__\u001b[0;34m(self, iterable)\u001b[0m\n\u001b[1;32m   1004\u001b[0m \u001b[38;5;28;01mif\u001b[39;00m \u001b[38;5;28mself\u001b[39m\u001b[38;5;241m.\u001b[39mdispatch_one_batch(iterator):\n\u001b[1;32m   1005\u001b[0m     \u001b[38;5;28mself\u001b[39m\u001b[38;5;241m.\u001b[39m_iterating \u001b[38;5;241m=\u001b[39m \u001b[38;5;28mself\u001b[39m\u001b[38;5;241m.\u001b[39m_original_iterator \u001b[38;5;129;01mis\u001b[39;00m \u001b[38;5;129;01mnot\u001b[39;00m \u001b[38;5;28;01mNone\u001b[39;00m\n\u001b[0;32m-> 1007\u001b[0m \u001b[38;5;28;01mwhile\u001b[39;00m \u001b[38;5;28;43mself\u001b[39;49m\u001b[38;5;241;43m.\u001b[39;49m\u001b[43mdispatch_one_batch\u001b[49m\u001b[43m(\u001b[49m\u001b[43miterator\u001b[49m\u001b[43m)\u001b[49m:\n\u001b[1;32m   1008\u001b[0m     \u001b[38;5;28;01mpass\u001b[39;00m\n\u001b[1;32m   1010\u001b[0m \u001b[38;5;28;01mif\u001b[39;00m pre_dispatch \u001b[38;5;241m==\u001b[39m \u001b[38;5;124m\"\u001b[39m\u001b[38;5;124mall\u001b[39m\u001b[38;5;124m\"\u001b[39m \u001b[38;5;129;01mor\u001b[39;00m n_jobs \u001b[38;5;241m==\u001b[39m \u001b[38;5;241m1\u001b[39m:\n\u001b[1;32m   1011\u001b[0m     \u001b[38;5;66;03m# The iterable was consumed all at once by the above for loop.\u001b[39;00m\n\u001b[1;32m   1012\u001b[0m     \u001b[38;5;66;03m# No need to wait for async callbacks to trigger to\u001b[39;00m\n\u001b[1;32m   1013\u001b[0m     \u001b[38;5;66;03m# consumption.\u001b[39;00m\n",
            "File \u001b[0;32m/anaconda/envs/azureml_py38/lib/python3.8/site-packages/joblib/parallel.py:835\u001b[0m, in \u001b[0;36mParallel.dispatch_one_batch\u001b[0;34m(self, iterator)\u001b[0m\n\u001b[1;32m    833\u001b[0m     \u001b[38;5;28;01mreturn\u001b[39;00m \u001b[38;5;28;01mFalse\u001b[39;00m\n\u001b[1;32m    834\u001b[0m \u001b[38;5;28;01melse\u001b[39;00m:\n\u001b[0;32m--> 835\u001b[0m     \u001b[38;5;28;43mself\u001b[39;49m\u001b[38;5;241;43m.\u001b[39;49m\u001b[43m_dispatch\u001b[49m\u001b[43m(\u001b[49m\u001b[43mtasks\u001b[49m\u001b[43m)\u001b[49m\n\u001b[1;32m    836\u001b[0m     \u001b[38;5;28;01mreturn\u001b[39;00m \u001b[38;5;28;01mTrue\u001b[39;00m\n",
            "File \u001b[0;32m/anaconda/envs/azureml_py38/lib/python3.8/site-packages/joblib/parallel.py:754\u001b[0m, in \u001b[0;36mParallel._dispatch\u001b[0;34m(self, batch)\u001b[0m\n\u001b[1;32m    752\u001b[0m \u001b[38;5;28;01mwith\u001b[39;00m \u001b[38;5;28mself\u001b[39m\u001b[38;5;241m.\u001b[39m_lock:\n\u001b[1;32m    753\u001b[0m     job_idx \u001b[38;5;241m=\u001b[39m \u001b[38;5;28mlen\u001b[39m(\u001b[38;5;28mself\u001b[39m\u001b[38;5;241m.\u001b[39m_jobs)\n\u001b[0;32m--> 754\u001b[0m     job \u001b[38;5;241m=\u001b[39m \u001b[38;5;28;43mself\u001b[39;49m\u001b[38;5;241;43m.\u001b[39;49m\u001b[43m_backend\u001b[49m\u001b[38;5;241;43m.\u001b[39;49m\u001b[43mapply_async\u001b[49m\u001b[43m(\u001b[49m\u001b[43mbatch\u001b[49m\u001b[43m,\u001b[49m\u001b[43m \u001b[49m\u001b[43mcallback\u001b[49m\u001b[38;5;241;43m=\u001b[39;49m\u001b[43mcb\u001b[49m\u001b[43m)\u001b[49m\n\u001b[1;32m    755\u001b[0m     \u001b[38;5;66;03m# A job can complete so quickly than its callback is\u001b[39;00m\n\u001b[1;32m    756\u001b[0m     \u001b[38;5;66;03m# called before we get here, causing self._jobs to\u001b[39;00m\n\u001b[1;32m    757\u001b[0m     \u001b[38;5;66;03m# grow. To ensure correct results ordering, .insert is\u001b[39;00m\n\u001b[1;32m    758\u001b[0m     \u001b[38;5;66;03m# used (rather than .append) in the following line\u001b[39;00m\n\u001b[1;32m    759\u001b[0m     \u001b[38;5;28mself\u001b[39m\u001b[38;5;241m.\u001b[39m_jobs\u001b[38;5;241m.\u001b[39minsert(job_idx, job)\n",
            "File \u001b[0;32m/anaconda/envs/azureml_py38/lib/python3.8/site-packages/joblib/_parallel_backends.py:209\u001b[0m, in \u001b[0;36mSequentialBackend.apply_async\u001b[0;34m(self, func, callback)\u001b[0m\n\u001b[1;32m    207\u001b[0m \u001b[38;5;28;01mdef\u001b[39;00m \u001b[38;5;21mapply_async\u001b[39m(\u001b[38;5;28mself\u001b[39m, func, callback\u001b[38;5;241m=\u001b[39m\u001b[38;5;28;01mNone\u001b[39;00m):\n\u001b[1;32m    208\u001b[0m \u001b[38;5;250m    \u001b[39m\u001b[38;5;124;03m\"\"\"Schedule a func to be run\"\"\"\u001b[39;00m\n\u001b[0;32m--> 209\u001b[0m     result \u001b[38;5;241m=\u001b[39m \u001b[43mImmediateResult\u001b[49m\u001b[43m(\u001b[49m\u001b[43mfunc\u001b[49m\u001b[43m)\u001b[49m\n\u001b[1;32m    210\u001b[0m     \u001b[38;5;28;01mif\u001b[39;00m callback:\n\u001b[1;32m    211\u001b[0m         callback(result)\n",
            "File \u001b[0;32m/anaconda/envs/azureml_py38/lib/python3.8/site-packages/joblib/_parallel_backends.py:590\u001b[0m, in \u001b[0;36mImmediateResult.__init__\u001b[0;34m(self, batch)\u001b[0m\n\u001b[1;32m    587\u001b[0m \u001b[38;5;28;01mdef\u001b[39;00m \u001b[38;5;21m__init__\u001b[39m(\u001b[38;5;28mself\u001b[39m, batch):\n\u001b[1;32m    588\u001b[0m     \u001b[38;5;66;03m# Don't delay the application, to avoid keeping the input\u001b[39;00m\n\u001b[1;32m    589\u001b[0m     \u001b[38;5;66;03m# arguments in memory\u001b[39;00m\n\u001b[0;32m--> 590\u001b[0m     \u001b[38;5;28mself\u001b[39m\u001b[38;5;241m.\u001b[39mresults \u001b[38;5;241m=\u001b[39m \u001b[43mbatch\u001b[49m\u001b[43m(\u001b[49m\u001b[43m)\u001b[49m\n",
            "File \u001b[0;32m/anaconda/envs/azureml_py38/lib/python3.8/site-packages/joblib/parallel.py:255\u001b[0m, in \u001b[0;36mBatchedCalls.__call__\u001b[0;34m(self)\u001b[0m\n\u001b[1;32m    251\u001b[0m \u001b[38;5;28;01mdef\u001b[39;00m \u001b[38;5;21m__call__\u001b[39m(\u001b[38;5;28mself\u001b[39m):\n\u001b[1;32m    252\u001b[0m     \u001b[38;5;66;03m# Set the default nested backend to self._backend but do not set the\u001b[39;00m\n\u001b[1;32m    253\u001b[0m     \u001b[38;5;66;03m# change the default number of processes to -1\u001b[39;00m\n\u001b[1;32m    254\u001b[0m     \u001b[38;5;28;01mwith\u001b[39;00m parallel_backend(\u001b[38;5;28mself\u001b[39m\u001b[38;5;241m.\u001b[39m_backend, n_jobs\u001b[38;5;241m=\u001b[39m\u001b[38;5;28mself\u001b[39m\u001b[38;5;241m.\u001b[39m_n_jobs):\n\u001b[0;32m--> 255\u001b[0m         \u001b[38;5;28;01mreturn\u001b[39;00m [func(\u001b[38;5;241m*\u001b[39margs, \u001b[38;5;241m*\u001b[39m\u001b[38;5;241m*\u001b[39mkwargs)\n\u001b[1;32m    256\u001b[0m                 \u001b[38;5;28;01mfor\u001b[39;00m func, args, kwargs \u001b[38;5;129;01min\u001b[39;00m \u001b[38;5;28mself\u001b[39m\u001b[38;5;241m.\u001b[39mitems]\n",
            "File \u001b[0;32m/anaconda/envs/azureml_py38/lib/python3.8/site-packages/joblib/parallel.py:255\u001b[0m, in \u001b[0;36m<listcomp>\u001b[0;34m(.0)\u001b[0m\n\u001b[1;32m    251\u001b[0m \u001b[38;5;28;01mdef\u001b[39;00m \u001b[38;5;21m__call__\u001b[39m(\u001b[38;5;28mself\u001b[39m):\n\u001b[1;32m    252\u001b[0m     \u001b[38;5;66;03m# Set the default nested backend to self._backend but do not set the\u001b[39;00m\n\u001b[1;32m    253\u001b[0m     \u001b[38;5;66;03m# change the default number of processes to -1\u001b[39;00m\n\u001b[1;32m    254\u001b[0m     \u001b[38;5;28;01mwith\u001b[39;00m parallel_backend(\u001b[38;5;28mself\u001b[39m\u001b[38;5;241m.\u001b[39m_backend, n_jobs\u001b[38;5;241m=\u001b[39m\u001b[38;5;28mself\u001b[39m\u001b[38;5;241m.\u001b[39m_n_jobs):\n\u001b[0;32m--> 255\u001b[0m         \u001b[38;5;28;01mreturn\u001b[39;00m [\u001b[43mfunc\u001b[49m\u001b[43m(\u001b[49m\u001b[38;5;241;43m*\u001b[39;49m\u001b[43margs\u001b[49m\u001b[43m,\u001b[49m\u001b[43m \u001b[49m\u001b[38;5;241;43m*\u001b[39;49m\u001b[38;5;241;43m*\u001b[39;49m\u001b[43mkwargs\u001b[49m\u001b[43m)\u001b[49m\n\u001b[1;32m    256\u001b[0m                 \u001b[38;5;28;01mfor\u001b[39;00m func, args, kwargs \u001b[38;5;129;01min\u001b[39;00m \u001b[38;5;28mself\u001b[39m\u001b[38;5;241m.\u001b[39mitems]\n",
            "File \u001b[0;32m/anaconda/envs/azureml_py38/lib/python3.8/site-packages/sklearn/model_selection/_validation.py:508\u001b[0m, in \u001b[0;36m_fit_and_score\u001b[0;34m(estimator, X, y, scorer, train, test, verbose, parameters, fit_params, return_train_score, return_parameters, return_n_test_samples, return_times, return_estimator, error_score)\u001b[0m\n\u001b[1;32m    504\u001b[0m     estimator \u001b[38;5;241m=\u001b[39m estimator\u001b[38;5;241m.\u001b[39mset_params(\u001b[38;5;241m*\u001b[39m\u001b[38;5;241m*\u001b[39mcloned_parameters)\n\u001b[1;32m    506\u001b[0m start_time \u001b[38;5;241m=\u001b[39m time\u001b[38;5;241m.\u001b[39mtime()\n\u001b[0;32m--> 508\u001b[0m X_train, y_train \u001b[38;5;241m=\u001b[39m \u001b[43m_safe_split\u001b[49m\u001b[43m(\u001b[49m\u001b[43mestimator\u001b[49m\u001b[43m,\u001b[49m\u001b[43m \u001b[49m\u001b[43mX\u001b[49m\u001b[43m,\u001b[49m\u001b[43m \u001b[49m\u001b[43my\u001b[49m\u001b[43m,\u001b[49m\u001b[43m \u001b[49m\u001b[43mtrain\u001b[49m\u001b[43m)\u001b[49m\n\u001b[1;32m    509\u001b[0m X_test, y_test \u001b[38;5;241m=\u001b[39m _safe_split(estimator, X, y, test, train)\n\u001b[1;32m    511\u001b[0m \u001b[38;5;28;01mtry\u001b[39;00m:\n",
            "File \u001b[0;32m/anaconda/envs/azureml_py38/lib/python3.8/site-packages/sklearn/utils/metaestimators.py:204\u001b[0m, in \u001b[0;36m_safe_split\u001b[0;34m(estimator, X, y, indices, train_indices)\u001b[0m\n\u001b[1;32m    201\u001b[0m     X_subset \u001b[38;5;241m=\u001b[39m _safe_indexing(X, indices)\n\u001b[1;32m    203\u001b[0m \u001b[38;5;28;01mif\u001b[39;00m y \u001b[38;5;129;01mis\u001b[39;00m \u001b[38;5;129;01mnot\u001b[39;00m \u001b[38;5;28;01mNone\u001b[39;00m:\n\u001b[0;32m--> 204\u001b[0m     y_subset \u001b[38;5;241m=\u001b[39m \u001b[43m_safe_indexing\u001b[49m\u001b[43m(\u001b[49m\u001b[43my\u001b[49m\u001b[43m,\u001b[49m\u001b[43m \u001b[49m\u001b[43mindices\u001b[49m\u001b[43m)\u001b[49m\n\u001b[1;32m    205\u001b[0m \u001b[38;5;28;01melse\u001b[39;00m:\n\u001b[1;32m    206\u001b[0m     y_subset \u001b[38;5;241m=\u001b[39m \u001b[38;5;28;01mNone\u001b[39;00m\n",
            "File \u001b[0;32m/anaconda/envs/azureml_py38/lib/python3.8/site-packages/sklearn/utils/__init__.py:411\u001b[0m, in \u001b[0;36m_safe_indexing\u001b[0;34m(X, indices, axis)\u001b[0m\n\u001b[1;32m    405\u001b[0m     \u001b[38;5;28;01mraise\u001b[39;00m \u001b[38;5;167;01mValueError\u001b[39;00m(\n\u001b[1;32m    406\u001b[0m         \u001b[38;5;124m\"\u001b[39m\u001b[38;5;124mSpecifying the columns using strings is only supported for \u001b[39m\u001b[38;5;124m\"\u001b[39m\n\u001b[1;32m    407\u001b[0m         \u001b[38;5;124m\"\u001b[39m\u001b[38;5;124mpandas DataFrames\u001b[39m\u001b[38;5;124m\"\u001b[39m\n\u001b[1;32m    408\u001b[0m     )\n\u001b[1;32m    410\u001b[0m \u001b[38;5;28;01mif\u001b[39;00m \u001b[38;5;28mhasattr\u001b[39m(X, \u001b[38;5;124m\"\u001b[39m\u001b[38;5;124miloc\u001b[39m\u001b[38;5;124m\"\u001b[39m):\n\u001b[0;32m--> 411\u001b[0m     \u001b[38;5;28;01mreturn\u001b[39;00m \u001b[43m_pandas_indexing\u001b[49m\u001b[43m(\u001b[49m\u001b[43mX\u001b[49m\u001b[43m,\u001b[49m\u001b[43m \u001b[49m\u001b[43mindices\u001b[49m\u001b[43m,\u001b[49m\u001b[43m \u001b[49m\u001b[43mindices_dtype\u001b[49m\u001b[43m,\u001b[49m\u001b[43m \u001b[49m\u001b[43maxis\u001b[49m\u001b[38;5;241;43m=\u001b[39;49m\u001b[43maxis\u001b[49m\u001b[43m)\u001b[49m\n\u001b[1;32m    412\u001b[0m \u001b[38;5;28;01melif\u001b[39;00m \u001b[38;5;28mhasattr\u001b[39m(X, \u001b[38;5;124m\"\u001b[39m\u001b[38;5;124mshape\u001b[39m\u001b[38;5;124m\"\u001b[39m):\n\u001b[1;32m    413\u001b[0m     \u001b[38;5;28;01mreturn\u001b[39;00m _array_indexing(X, indices, indices_dtype, axis\u001b[38;5;241m=\u001b[39maxis)\n",
            "File \u001b[0;32m/anaconda/envs/azureml_py38/lib/python3.8/site-packages/sklearn/utils/__init__.py:213\u001b[0m, in \u001b[0;36m_pandas_indexing\u001b[0;34m(X, key, key_dtype, axis)\u001b[0m\n\u001b[1;32m    211\u001b[0m \u001b[38;5;66;03m# check whether we should index with loc or iloc\u001b[39;00m\n\u001b[1;32m    212\u001b[0m indexer \u001b[38;5;241m=\u001b[39m X\u001b[38;5;241m.\u001b[39miloc \u001b[38;5;28;01mif\u001b[39;00m key_dtype \u001b[38;5;241m==\u001b[39m \u001b[38;5;124m'\u001b[39m\u001b[38;5;124mint\u001b[39m\u001b[38;5;124m'\u001b[39m \u001b[38;5;28;01melse\u001b[39;00m X\u001b[38;5;241m.\u001b[39mloc\n\u001b[0;32m--> 213\u001b[0m \u001b[38;5;28;01mreturn\u001b[39;00m indexer[:, key] \u001b[38;5;28;01mif\u001b[39;00m axis \u001b[38;5;28;01melse\u001b[39;00m \u001b[43mindexer\u001b[49m\u001b[43m[\u001b[49m\u001b[43mkey\u001b[49m\u001b[43m]\u001b[49m\n",
            "File \u001b[0;32m/anaconda/envs/azureml_py38/lib/python3.8/site-packages/pandas/core/indexing.py:879\u001b[0m, in \u001b[0;36m_LocationIndexer.__getitem__\u001b[0;34m(self, key)\u001b[0m\n\u001b[1;32m    876\u001b[0m axis \u001b[38;5;241m=\u001b[39m \u001b[38;5;28mself\u001b[39m\u001b[38;5;241m.\u001b[39maxis \u001b[38;5;129;01mor\u001b[39;00m \u001b[38;5;241m0\u001b[39m\n\u001b[1;32m    878\u001b[0m maybe_callable \u001b[38;5;241m=\u001b[39m com\u001b[38;5;241m.\u001b[39mapply_if_callable(key, \u001b[38;5;28mself\u001b[39m\u001b[38;5;241m.\u001b[39mobj)\n\u001b[0;32m--> 879\u001b[0m \u001b[38;5;28;01mreturn\u001b[39;00m \u001b[38;5;28;43mself\u001b[39;49m\u001b[38;5;241;43m.\u001b[39;49m\u001b[43m_getitem_axis\u001b[49m\u001b[43m(\u001b[49m\u001b[43mmaybe_callable\u001b[49m\u001b[43m,\u001b[49m\u001b[43m \u001b[49m\u001b[43maxis\u001b[49m\u001b[38;5;241;43m=\u001b[39;49m\u001b[43maxis\u001b[49m\u001b[43m)\u001b[49m\n",
            "File \u001b[0;32m/anaconda/envs/azureml_py38/lib/python3.8/site-packages/pandas/core/indexing.py:1487\u001b[0m, in \u001b[0;36m_iLocIndexer._getitem_axis\u001b[0;34m(self, key, axis)\u001b[0m\n\u001b[1;32m   1485\u001b[0m \u001b[38;5;66;03m# a list of integers\u001b[39;00m\n\u001b[1;32m   1486\u001b[0m \u001b[38;5;28;01melif\u001b[39;00m is_list_like_indexer(key):\n\u001b[0;32m-> 1487\u001b[0m     \u001b[38;5;28;01mreturn\u001b[39;00m \u001b[38;5;28;43mself\u001b[39;49m\u001b[38;5;241;43m.\u001b[39;49m\u001b[43m_get_list_axis\u001b[49m\u001b[43m(\u001b[49m\u001b[43mkey\u001b[49m\u001b[43m,\u001b[49m\u001b[43m \u001b[49m\u001b[43maxis\u001b[49m\u001b[38;5;241;43m=\u001b[39;49m\u001b[43maxis\u001b[49m\u001b[43m)\u001b[49m\n\u001b[1;32m   1489\u001b[0m \u001b[38;5;66;03m# a single integer\u001b[39;00m\n\u001b[1;32m   1490\u001b[0m \u001b[38;5;28;01melse\u001b[39;00m:\n\u001b[1;32m   1491\u001b[0m     key \u001b[38;5;241m=\u001b[39m item_from_zerodim(key)\n",
            "File \u001b[0;32m/anaconda/envs/azureml_py38/lib/python3.8/site-packages/pandas/core/indexing.py:1469\u001b[0m, in \u001b[0;36m_iLocIndexer._get_list_axis\u001b[0;34m(self, key, axis)\u001b[0m\n\u001b[1;32m   1452\u001b[0m \u001b[38;5;250m\u001b[39m\u001b[38;5;124;03m\"\"\"\u001b[39;00m\n\u001b[1;32m   1453\u001b[0m \u001b[38;5;124;03mReturn Series values by list or array of integers.\u001b[39;00m\n\u001b[1;32m   1454\u001b[0m \n\u001b[0;32m   (...)\u001b[0m\n\u001b[1;32m   1466\u001b[0m \u001b[38;5;124;03m`axis` can only be zero.\u001b[39;00m\n\u001b[1;32m   1467\u001b[0m \u001b[38;5;124;03m\"\"\"\u001b[39;00m\n\u001b[1;32m   1468\u001b[0m \u001b[38;5;28;01mtry\u001b[39;00m:\n\u001b[0;32m-> 1469\u001b[0m     \u001b[38;5;28;01mreturn\u001b[39;00m \u001b[38;5;28;43mself\u001b[39;49m\u001b[38;5;241;43m.\u001b[39;49m\u001b[43mobj\u001b[49m\u001b[38;5;241;43m.\u001b[39;49m\u001b[43m_take_with_is_copy\u001b[49m\u001b[43m(\u001b[49m\u001b[43mkey\u001b[49m\u001b[43m,\u001b[49m\u001b[43m \u001b[49m\u001b[43maxis\u001b[49m\u001b[38;5;241;43m=\u001b[39;49m\u001b[43maxis\u001b[49m\u001b[43m)\u001b[49m\n\u001b[1;32m   1470\u001b[0m \u001b[38;5;28;01mexcept\u001b[39;00m \u001b[38;5;167;01mIndexError\u001b[39;00m \u001b[38;5;28;01mas\u001b[39;00m err:\n\u001b[1;32m   1471\u001b[0m     \u001b[38;5;66;03m# re-raise with different error message\u001b[39;00m\n\u001b[1;32m   1472\u001b[0m     \u001b[38;5;28;01mraise\u001b[39;00m \u001b[38;5;167;01mIndexError\u001b[39;00m(\u001b[38;5;124m\"\u001b[39m\u001b[38;5;124mpositional indexers are out-of-bounds\u001b[39m\u001b[38;5;124m\"\u001b[39m) \u001b[38;5;28;01mfrom\u001b[39;00m \u001b[38;5;21;01merr\u001b[39;00m\n",
            "File \u001b[0;32m/anaconda/envs/azureml_py38/lib/python3.8/site-packages/pandas/core/generic.py:3363\u001b[0m, in \u001b[0;36mNDFrame._take_with_is_copy\u001b[0;34m(self, indices, axis)\u001b[0m\n\u001b[1;32m   3355\u001b[0m \u001b[38;5;28;01mdef\u001b[39;00m \u001b[38;5;21m_take_with_is_copy\u001b[39m(\u001b[38;5;28mself\u001b[39m: FrameOrSeries, indices, axis\u001b[38;5;241m=\u001b[39m\u001b[38;5;241m0\u001b[39m) \u001b[38;5;241m-\u001b[39m\u001b[38;5;241m>\u001b[39m FrameOrSeries:\n\u001b[1;32m   3356\u001b[0m \u001b[38;5;250m    \u001b[39m\u001b[38;5;124;03m\"\"\"\u001b[39;00m\n\u001b[1;32m   3357\u001b[0m \u001b[38;5;124;03m    Internal version of the `take` method that sets the `_is_copy`\u001b[39;00m\n\u001b[1;32m   3358\u001b[0m \u001b[38;5;124;03m    attribute to keep track of the parent dataframe (using in indexing\u001b[39;00m\n\u001b[0;32m   (...)\u001b[0m\n\u001b[1;32m   3361\u001b[0m \u001b[38;5;124;03m    See the docstring of `take` for full explanation of the parameters.\u001b[39;00m\n\u001b[1;32m   3362\u001b[0m \u001b[38;5;124;03m    \"\"\"\u001b[39;00m\n\u001b[0;32m-> 3363\u001b[0m     result \u001b[38;5;241m=\u001b[39m \u001b[38;5;28;43mself\u001b[39;49m\u001b[38;5;241;43m.\u001b[39;49m\u001b[43mtake\u001b[49m\u001b[43m(\u001b[49m\u001b[43mindices\u001b[49m\u001b[38;5;241;43m=\u001b[39;49m\u001b[43mindices\u001b[49m\u001b[43m,\u001b[49m\u001b[43m \u001b[49m\u001b[43maxis\u001b[49m\u001b[38;5;241;43m=\u001b[39;49m\u001b[43maxis\u001b[49m\u001b[43m)\u001b[49m\n\u001b[1;32m   3364\u001b[0m     \u001b[38;5;66;03m# Maybe set copy if we didn't actually change the index.\u001b[39;00m\n\u001b[1;32m   3365\u001b[0m     \u001b[38;5;28;01mif\u001b[39;00m \u001b[38;5;129;01mnot\u001b[39;00m result\u001b[38;5;241m.\u001b[39m_get_axis(axis)\u001b[38;5;241m.\u001b[39mequals(\u001b[38;5;28mself\u001b[39m\u001b[38;5;241m.\u001b[39m_get_axis(axis)):\n",
            "File \u001b[0;32m/anaconda/envs/azureml_py38/lib/python3.8/site-packages/pandas/core/generic.py:3350\u001b[0m, in \u001b[0;36mNDFrame.take\u001b[0;34m(self, indices, axis, is_copy, **kwargs)\u001b[0m\n\u001b[1;32m   3346\u001b[0m nv\u001b[38;5;241m.\u001b[39mvalidate_take(\u001b[38;5;28mtuple\u001b[39m(), kwargs)\n\u001b[1;32m   3348\u001b[0m \u001b[38;5;28mself\u001b[39m\u001b[38;5;241m.\u001b[39m_consolidate_inplace()\n\u001b[0;32m-> 3350\u001b[0m new_data \u001b[38;5;241m=\u001b[39m \u001b[38;5;28;43mself\u001b[39;49m\u001b[38;5;241;43m.\u001b[39;49m\u001b[43m_mgr\u001b[49m\u001b[38;5;241;43m.\u001b[39;49m\u001b[43mtake\u001b[49m\u001b[43m(\u001b[49m\n\u001b[1;32m   3351\u001b[0m \u001b[43m    \u001b[49m\u001b[43mindices\u001b[49m\u001b[43m,\u001b[49m\u001b[43m \u001b[49m\u001b[43maxis\u001b[49m\u001b[38;5;241;43m=\u001b[39;49m\u001b[38;5;28;43mself\u001b[39;49m\u001b[38;5;241;43m.\u001b[39;49m\u001b[43m_get_block_manager_axis\u001b[49m\u001b[43m(\u001b[49m\u001b[43maxis\u001b[49m\u001b[43m)\u001b[49m\u001b[43m,\u001b[49m\u001b[43m \u001b[49m\u001b[43mverify\u001b[49m\u001b[38;5;241;43m=\u001b[39;49m\u001b[38;5;28;43;01mTrue\u001b[39;49;00m\n\u001b[1;32m   3352\u001b[0m \u001b[43m\u001b[49m\u001b[43m)\u001b[49m\n\u001b[1;32m   3353\u001b[0m \u001b[38;5;28;01mreturn\u001b[39;00m \u001b[38;5;28mself\u001b[39m\u001b[38;5;241m.\u001b[39m_constructor(new_data)\u001b[38;5;241m.\u001b[39m__finalize__(\u001b[38;5;28mself\u001b[39m, method\u001b[38;5;241m=\u001b[39m\u001b[38;5;124m\"\u001b[39m\u001b[38;5;124mtake\u001b[39m\u001b[38;5;124m\"\u001b[39m)\n",
            "File \u001b[0;32m/anaconda/envs/azureml_py38/lib/python3.8/site-packages/pandas/core/internals/managers.py:1455\u001b[0m, in \u001b[0;36mBlockManager.take\u001b[0;34m(self, indexer, axis, verify, convert)\u001b[0m\n\u001b[1;32m   1452\u001b[0m     \u001b[38;5;28;01mif\u001b[39;00m ((indexer \u001b[38;5;241m==\u001b[39m \u001b[38;5;241m-\u001b[39m\u001b[38;5;241m1\u001b[39m) \u001b[38;5;241m|\u001b[39m (indexer \u001b[38;5;241m>\u001b[39m\u001b[38;5;241m=\u001b[39m n))\u001b[38;5;241m.\u001b[39many():\n\u001b[1;32m   1453\u001b[0m         \u001b[38;5;28;01mraise\u001b[39;00m \u001b[38;5;167;01mException\u001b[39;00m(\u001b[38;5;124m\"\u001b[39m\u001b[38;5;124mIndices must be nonzero and less than the axis length\u001b[39m\u001b[38;5;124m\"\u001b[39m)\n\u001b[0;32m-> 1455\u001b[0m new_labels \u001b[38;5;241m=\u001b[39m \u001b[38;5;28;43mself\u001b[39;49m\u001b[38;5;241;43m.\u001b[39;49m\u001b[43maxes\u001b[49m\u001b[43m[\u001b[49m\u001b[43maxis\u001b[49m\u001b[43m]\u001b[49m\u001b[38;5;241;43m.\u001b[39;49m\u001b[43mtake\u001b[49m\u001b[43m(\u001b[49m\u001b[43mindexer\u001b[49m\u001b[43m)\u001b[49m\n\u001b[1;32m   1456\u001b[0m \u001b[38;5;28;01mreturn\u001b[39;00m \u001b[38;5;28mself\u001b[39m\u001b[38;5;241m.\u001b[39mreindex_indexer(\n\u001b[1;32m   1457\u001b[0m     new_axis\u001b[38;5;241m=\u001b[39mnew_labels, indexer\u001b[38;5;241m=\u001b[39mindexer, axis\u001b[38;5;241m=\u001b[39maxis, allow_dups\u001b[38;5;241m=\u001b[39m\u001b[38;5;28;01mTrue\u001b[39;00m\n\u001b[1;32m   1458\u001b[0m )\n",
            "File \u001b[0;32m/anaconda/envs/azureml_py38/lib/python3.8/site-packages/pandas/core/indexes/base.py:720\u001b[0m, in \u001b[0;36mIndex.take\u001b[0;34m(self, indices, axis, allow_fill, fill_value, **kwargs)\u001b[0m\n\u001b[1;32m    716\u001b[0m         cls_name \u001b[38;5;241m=\u001b[39m \u001b[38;5;28mtype\u001b[39m(\u001b[38;5;28mself\u001b[39m)\u001b[38;5;241m.\u001b[39m\u001b[38;5;18m__name__\u001b[39m\n\u001b[1;32m    717\u001b[0m         \u001b[38;5;28;01mraise\u001b[39;00m \u001b[38;5;167;01mValueError\u001b[39;00m(\n\u001b[1;32m    718\u001b[0m             \u001b[38;5;124mf\u001b[39m\u001b[38;5;124m\"\u001b[39m\u001b[38;5;124mUnable to fill values because \u001b[39m\u001b[38;5;132;01m{\u001b[39;00mcls_name\u001b[38;5;132;01m}\u001b[39;00m\u001b[38;5;124m cannot contain NA\u001b[39m\u001b[38;5;124m\"\u001b[39m\n\u001b[1;32m    719\u001b[0m         )\n\u001b[0;32m--> 720\u001b[0m     taken \u001b[38;5;241m=\u001b[39m \u001b[38;5;28;43mself\u001b[39;49m\u001b[38;5;241;43m.\u001b[39;49m\u001b[43m_values\u001b[49m\u001b[38;5;241;43m.\u001b[39;49m\u001b[43mtake\u001b[49m\u001b[43m(\u001b[49m\u001b[43mindices\u001b[49m\u001b[43m)\u001b[49m\n\u001b[1;32m    721\u001b[0m \u001b[38;5;28;01mreturn\u001b[39;00m \u001b[38;5;28mself\u001b[39m\u001b[38;5;241m.\u001b[39m_shallow_copy(taken)\n",
            "\u001b[0;31mKeyboardInterrupt\u001b[0m: "
          ]
        }
      ],
      "source": [
        "for k in range(1, len(df.columns)):\n",
        "    # Generate all possible feature combinations of size k\n",
        "    feature_combinations = combinations(df.columns, k)\n",
        "\n",
        "    # Iterate through each combination\n",
        "    for features in feature_combinations:\n",
        "        # Convert features to a list\n",
        "        feature_list = list(features)\n",
        "\n",
        "        # Train and evaluate the model using cross-validation\n",
        "        scores = cross_val_score(model, df[feature_list], df[target], cv=5)\n",
        "\n",
        "        # Calculate the average score\n",
        "        avg_score = scores.mean()\n",
        "\n",
        "        # Check if the current combination performs better\n",
        "        if avg_score > best_score:\n",
        "            best_score = avg_score\n",
        "            best_features = feature_list\n",
        "\n",
        "# The best_features list will contain the selected features with the highest performance"
      ]
    },
    {
      "cell_type": "code",
      "execution_count": null,
      "id": "ec172fba-0b7c-43dc-ad9f-37165fab8495",
      "metadata": {
        "jupyter": {
          "outputs_hidden": false,
          "source_hidden": false
        },
        "nteract": {
          "transient": {
            "deleting": false
          }
        }
      },
      "outputs": [],
      "source": [
        "print(best_features)"
      ]
    },
    {
      "cell_type": "code",
      "execution_count": 3,
      "id": "34514409",
      "metadata": {
        "gather": {
          "logged": 1685102587153
        }
      },
      "outputs": [],
      "source": [
        "from sklearn.feature_selection import SelectKBest, mutual_info_classif\n",
        "\n",
        "# Separate target variable from features\n",
        "X = df.drop('CVDCRHD4', axis=1)\n",
        "y = df['CVDCRHD4']\n"
      ]
    },
    {
      "cell_type": "code",
      "execution_count": 4,
      "id": "b5096b24",
      "metadata": {
        "gather": {
          "logged": 1685103352671
        }
      },
      "outputs": [
        {
          "ename": "KeyboardInterrupt",
          "evalue": "",
          "output_type": "error",
          "traceback": [
            "\u001b[0;31m---------------------------------------------------------------------------\u001b[0m",
            "\u001b[0;31mKeyboardInterrupt\u001b[0m                         Traceback (most recent call last)",
            "Cell \u001b[0;32mIn[4], line 4\u001b[0m\n\u001b[1;32m      2\u001b[0m k \u001b[38;5;241m=\u001b[39m \u001b[38;5;241m20\u001b[39m\n\u001b[1;32m      3\u001b[0m selector \u001b[38;5;241m=\u001b[39m SelectKBest(mutual_info_classif, k\u001b[38;5;241m=\u001b[39mk)\n\u001b[0;32m----> 4\u001b[0m \u001b[43mselector\u001b[49m\u001b[38;5;241;43m.\u001b[39;49m\u001b[43mfit\u001b[49m\u001b[43m(\u001b[49m\u001b[43mX\u001b[49m\u001b[43m,\u001b[49m\u001b[43m \u001b[49m\u001b[43my\u001b[49m\u001b[43m)\u001b[49m\n",
            "File \u001b[0;32m/anaconda/envs/azureml_py38/lib/python3.8/site-packages/sklearn/feature_selection/_univariate_selection.py:349\u001b[0m, in \u001b[0;36m_BaseFilter.fit\u001b[0;34m(self, X, y)\u001b[0m\n\u001b[1;32m    344\u001b[0m     \u001b[38;5;28;01mraise\u001b[39;00m \u001b[38;5;167;01mTypeError\u001b[39;00m(\u001b[38;5;124m\"\u001b[39m\u001b[38;5;124mThe score function should be a callable, \u001b[39m\u001b[38;5;132;01m%s\u001b[39;00m\u001b[38;5;124m (\u001b[39m\u001b[38;5;132;01m%s\u001b[39;00m\u001b[38;5;124m) \u001b[39m\u001b[38;5;124m\"\u001b[39m\n\u001b[1;32m    345\u001b[0m                     \u001b[38;5;124m\"\u001b[39m\u001b[38;5;124mwas passed.\u001b[39m\u001b[38;5;124m\"\u001b[39m\n\u001b[1;32m    346\u001b[0m                     \u001b[38;5;241m%\u001b[39m (\u001b[38;5;28mself\u001b[39m\u001b[38;5;241m.\u001b[39mscore_func, \u001b[38;5;28mtype\u001b[39m(\u001b[38;5;28mself\u001b[39m\u001b[38;5;241m.\u001b[39mscore_func)))\n\u001b[1;32m    348\u001b[0m \u001b[38;5;28mself\u001b[39m\u001b[38;5;241m.\u001b[39m_check_params(X, y)\n\u001b[0;32m--> 349\u001b[0m score_func_ret \u001b[38;5;241m=\u001b[39m \u001b[38;5;28;43mself\u001b[39;49m\u001b[38;5;241;43m.\u001b[39;49m\u001b[43mscore_func\u001b[49m\u001b[43m(\u001b[49m\u001b[43mX\u001b[49m\u001b[43m,\u001b[49m\u001b[43m \u001b[49m\u001b[43my\u001b[49m\u001b[43m)\u001b[49m\n\u001b[1;32m    350\u001b[0m \u001b[38;5;28;01mif\u001b[39;00m \u001b[38;5;28misinstance\u001b[39m(score_func_ret, (\u001b[38;5;28mlist\u001b[39m, \u001b[38;5;28mtuple\u001b[39m)):\n\u001b[1;32m    351\u001b[0m     \u001b[38;5;28mself\u001b[39m\u001b[38;5;241m.\u001b[39mscores_, \u001b[38;5;28mself\u001b[39m\u001b[38;5;241m.\u001b[39mpvalues_ \u001b[38;5;241m=\u001b[39m score_func_ret\n",
            "File \u001b[0;32m/anaconda/envs/azureml_py38/lib/python3.8/site-packages/sklearn/feature_selection/_mutual_info.py:450\u001b[0m, in \u001b[0;36mmutual_info_classif\u001b[0;34m(X, y, discrete_features, n_neighbors, copy, random_state)\u001b[0m\n\u001b[1;32m    376\u001b[0m \u001b[38;5;250m\u001b[39m\u001b[38;5;124;03m\"\"\"Estimate mutual information for a discrete target variable.\u001b[39;00m\n\u001b[1;32m    377\u001b[0m \n\u001b[1;32m    378\u001b[0m \u001b[38;5;124;03mMutual information (MI) [1]_ between two random variables is a non-negative\u001b[39;00m\n\u001b[0;32m   (...)\u001b[0m\n\u001b[1;32m    447\u001b[0m \u001b[38;5;124;03m       of a Random Vector:, Probl. Peredachi Inf., 23:2 (1987), 9-16\u001b[39;00m\n\u001b[1;32m    448\u001b[0m \u001b[38;5;124;03m\"\"\"\u001b[39;00m\n\u001b[1;32m    449\u001b[0m check_classification_targets(y)\n\u001b[0;32m--> 450\u001b[0m \u001b[38;5;28;01mreturn\u001b[39;00m \u001b[43m_estimate_mi\u001b[49m\u001b[43m(\u001b[49m\u001b[43mX\u001b[49m\u001b[43m,\u001b[49m\u001b[43m \u001b[49m\u001b[43my\u001b[49m\u001b[43m,\u001b[49m\u001b[43m \u001b[49m\u001b[43mdiscrete_features\u001b[49m\u001b[43m,\u001b[49m\u001b[43m \u001b[49m\u001b[38;5;28;43;01mTrue\u001b[39;49;00m\u001b[43m,\u001b[49m\u001b[43m \u001b[49m\u001b[43mn_neighbors\u001b[49m\u001b[43m,\u001b[49m\n\u001b[1;32m    451\u001b[0m \u001b[43m                    \u001b[49m\u001b[43mcopy\u001b[49m\u001b[43m,\u001b[49m\u001b[43m \u001b[49m\u001b[43mrandom_state\u001b[49m\u001b[43m)\u001b[49m\n",
            "File \u001b[0;32m/anaconda/envs/azureml_py38/lib/python3.8/site-packages/sklearn/feature_selection/_mutual_info.py:289\u001b[0m, in \u001b[0;36m_estimate_mi\u001b[0;34m(X, y, discrete_features, discrete_target, n_neighbors, copy, random_state)\u001b[0m\n\u001b[1;32m    286\u001b[0m     y \u001b[38;5;241m=\u001b[39m scale(y, with_mean\u001b[38;5;241m=\u001b[39m\u001b[38;5;28;01mFalse\u001b[39;00m)\n\u001b[1;32m    287\u001b[0m     y \u001b[38;5;241m+\u001b[39m\u001b[38;5;241m=\u001b[39m \u001b[38;5;241m1e-10\u001b[39m \u001b[38;5;241m*\u001b[39m np\u001b[38;5;241m.\u001b[39mmaximum(\u001b[38;5;241m1\u001b[39m, np\u001b[38;5;241m.\u001b[39mmean(np\u001b[38;5;241m.\u001b[39mabs(y))) \u001b[38;5;241m*\u001b[39m rng\u001b[38;5;241m.\u001b[39mrandn(n_samples)\n\u001b[0;32m--> 289\u001b[0m mi \u001b[38;5;241m=\u001b[39m [_compute_mi(x, y, discrete_feature, discrete_target, n_neighbors) \u001b[38;5;28;01mfor\u001b[39;00m\n\u001b[1;32m    290\u001b[0m       x, discrete_feature \u001b[38;5;129;01min\u001b[39;00m \u001b[38;5;28mzip\u001b[39m(_iterate_columns(X), discrete_mask)]\n\u001b[1;32m    292\u001b[0m \u001b[38;5;28;01mreturn\u001b[39;00m np\u001b[38;5;241m.\u001b[39marray(mi)\n",
            "File \u001b[0;32m/anaconda/envs/azureml_py38/lib/python3.8/site-packages/sklearn/feature_selection/_mutual_info.py:289\u001b[0m, in \u001b[0;36m<listcomp>\u001b[0;34m(.0)\u001b[0m\n\u001b[1;32m    286\u001b[0m     y \u001b[38;5;241m=\u001b[39m scale(y, with_mean\u001b[38;5;241m=\u001b[39m\u001b[38;5;28;01mFalse\u001b[39;00m)\n\u001b[1;32m    287\u001b[0m     y \u001b[38;5;241m+\u001b[39m\u001b[38;5;241m=\u001b[39m \u001b[38;5;241m1e-10\u001b[39m \u001b[38;5;241m*\u001b[39m np\u001b[38;5;241m.\u001b[39mmaximum(\u001b[38;5;241m1\u001b[39m, np\u001b[38;5;241m.\u001b[39mmean(np\u001b[38;5;241m.\u001b[39mabs(y))) \u001b[38;5;241m*\u001b[39m rng\u001b[38;5;241m.\u001b[39mrandn(n_samples)\n\u001b[0;32m--> 289\u001b[0m mi \u001b[38;5;241m=\u001b[39m [\u001b[43m_compute_mi\u001b[49m\u001b[43m(\u001b[49m\u001b[43mx\u001b[49m\u001b[43m,\u001b[49m\u001b[43m \u001b[49m\u001b[43my\u001b[49m\u001b[43m,\u001b[49m\u001b[43m \u001b[49m\u001b[43mdiscrete_feature\u001b[49m\u001b[43m,\u001b[49m\u001b[43m \u001b[49m\u001b[43mdiscrete_target\u001b[49m\u001b[43m,\u001b[49m\u001b[43m \u001b[49m\u001b[43mn_neighbors\u001b[49m\u001b[43m)\u001b[49m \u001b[38;5;28;01mfor\u001b[39;00m\n\u001b[1;32m    290\u001b[0m       x, discrete_feature \u001b[38;5;129;01min\u001b[39;00m \u001b[38;5;28mzip\u001b[39m(_iterate_columns(X), discrete_mask)]\n\u001b[1;32m    292\u001b[0m \u001b[38;5;28;01mreturn\u001b[39;00m np\u001b[38;5;241m.\u001b[39marray(mi)\n",
            "File \u001b[0;32m/anaconda/envs/azureml_py38/lib/python3.8/site-packages/sklearn/feature_selection/_mutual_info.py:160\u001b[0m, in \u001b[0;36m_compute_mi\u001b[0;34m(x, y, x_discrete, y_discrete, n_neighbors)\u001b[0m\n\u001b[1;32m    158\u001b[0m     \u001b[38;5;28;01mreturn\u001b[39;00m _compute_mi_cd(y, x, n_neighbors)\n\u001b[1;32m    159\u001b[0m \u001b[38;5;28;01melif\u001b[39;00m \u001b[38;5;129;01mnot\u001b[39;00m x_discrete \u001b[38;5;129;01mand\u001b[39;00m y_discrete:\n\u001b[0;32m--> 160\u001b[0m     \u001b[38;5;28;01mreturn\u001b[39;00m \u001b[43m_compute_mi_cd\u001b[49m\u001b[43m(\u001b[49m\u001b[43mx\u001b[49m\u001b[43m,\u001b[49m\u001b[43m \u001b[49m\u001b[43my\u001b[49m\u001b[43m,\u001b[49m\u001b[43m \u001b[49m\u001b[43mn_neighbors\u001b[49m\u001b[43m)\u001b[49m\n\u001b[1;32m    161\u001b[0m \u001b[38;5;28;01melse\u001b[39;00m:\n\u001b[1;32m    162\u001b[0m     \u001b[38;5;28;01mreturn\u001b[39;00m _compute_mi_cc(x, y, n_neighbors)\n",
            "File \u001b[0;32m/anaconda/envs/azureml_py38/lib/python3.8/site-packages/sklearn/feature_selection/_mutual_info.py:123\u001b[0m, in \u001b[0;36m_compute_mi_cd\u001b[0;34m(c, d, n_neighbors)\u001b[0m\n\u001b[1;32m    121\u001b[0m k \u001b[38;5;241m=\u001b[39m \u001b[38;5;28mmin\u001b[39m(n_neighbors, count \u001b[38;5;241m-\u001b[39m \u001b[38;5;241m1\u001b[39m)\n\u001b[1;32m    122\u001b[0m nn\u001b[38;5;241m.\u001b[39mset_params(n_neighbors\u001b[38;5;241m=\u001b[39mk)\n\u001b[0;32m--> 123\u001b[0m \u001b[43mnn\u001b[49m\u001b[38;5;241;43m.\u001b[39;49m\u001b[43mfit\u001b[49m\u001b[43m(\u001b[49m\u001b[43mc\u001b[49m\u001b[43m[\u001b[49m\u001b[43mmask\u001b[49m\u001b[43m]\u001b[49m\u001b[43m)\u001b[49m\n\u001b[1;32m    124\u001b[0m r \u001b[38;5;241m=\u001b[39m nn\u001b[38;5;241m.\u001b[39mkneighbors()[\u001b[38;5;241m0\u001b[39m]\n\u001b[1;32m    125\u001b[0m radius[mask] \u001b[38;5;241m=\u001b[39m np\u001b[38;5;241m.\u001b[39mnextafter(r[:, \u001b[38;5;241m-\u001b[39m\u001b[38;5;241m1\u001b[39m], \u001b[38;5;241m0\u001b[39m)\n",
            "File \u001b[0;32m/anaconda/envs/azureml_py38/lib/python3.8/site-packages/sklearn/neighbors/_base.py:1168\u001b[0m, in \u001b[0;36mUnsupervisedMixin.fit\u001b[0;34m(self, X, y)\u001b[0m\n\u001b[1;32m   1159\u001b[0m \u001b[38;5;28;01mdef\u001b[39;00m \u001b[38;5;21mfit\u001b[39m(\u001b[38;5;28mself\u001b[39m, X, y\u001b[38;5;241m=\u001b[39m\u001b[38;5;28;01mNone\u001b[39;00m):\n\u001b[1;32m   1160\u001b[0m \u001b[38;5;250m    \u001b[39m\u001b[38;5;124;03m\"\"\"Fit the model using X as training data\u001b[39;00m\n\u001b[1;32m   1161\u001b[0m \n\u001b[1;32m   1162\u001b[0m \u001b[38;5;124;03m    Parameters\u001b[39;00m\n\u001b[0;32m   (...)\u001b[0m\n\u001b[1;32m   1166\u001b[0m \u001b[38;5;124;03m        or [n_samples, n_samples] if metric='precomputed'.\u001b[39;00m\n\u001b[1;32m   1167\u001b[0m \u001b[38;5;124;03m    \"\"\"\u001b[39;00m\n\u001b[0;32m-> 1168\u001b[0m     \u001b[38;5;28;01mreturn\u001b[39;00m \u001b[38;5;28;43mself\u001b[39;49m\u001b[38;5;241;43m.\u001b[39;49m\u001b[43m_fit\u001b[49m\u001b[43m(\u001b[49m\u001b[43mX\u001b[49m\u001b[43m)\u001b[49m\n",
            "File \u001b[0;32m/anaconda/envs/azureml_py38/lib/python3.8/site-packages/sklearn/neighbors/_base.py:454\u001b[0m, in \u001b[0;36mNeighborsBase._fit\u001b[0;34m(self, X)\u001b[0m\n\u001b[1;32m    450\u001b[0m     \u001b[38;5;28mself\u001b[39m\u001b[38;5;241m.\u001b[39m_tree \u001b[38;5;241m=\u001b[39m BallTree(X, \u001b[38;5;28mself\u001b[39m\u001b[38;5;241m.\u001b[39mleaf_size,\n\u001b[1;32m    451\u001b[0m                           metric\u001b[38;5;241m=\u001b[39m\u001b[38;5;28mself\u001b[39m\u001b[38;5;241m.\u001b[39meffective_metric_,\n\u001b[1;32m    452\u001b[0m                           \u001b[38;5;241m*\u001b[39m\u001b[38;5;241m*\u001b[39m\u001b[38;5;28mself\u001b[39m\u001b[38;5;241m.\u001b[39meffective_metric_params_)\n\u001b[1;32m    453\u001b[0m \u001b[38;5;28;01melif\u001b[39;00m \u001b[38;5;28mself\u001b[39m\u001b[38;5;241m.\u001b[39m_fit_method \u001b[38;5;241m==\u001b[39m \u001b[38;5;124m'\u001b[39m\u001b[38;5;124mkd_tree\u001b[39m\u001b[38;5;124m'\u001b[39m:\n\u001b[0;32m--> 454\u001b[0m     \u001b[38;5;28mself\u001b[39m\u001b[38;5;241m.\u001b[39m_tree \u001b[38;5;241m=\u001b[39m \u001b[43mKDTree\u001b[49m\u001b[43m(\u001b[49m\u001b[43mX\u001b[49m\u001b[43m,\u001b[49m\u001b[43m \u001b[49m\u001b[38;5;28;43mself\u001b[39;49m\u001b[38;5;241;43m.\u001b[39;49m\u001b[43mleaf_size\u001b[49m\u001b[43m,\u001b[49m\n\u001b[1;32m    455\u001b[0m \u001b[43m                        \u001b[49m\u001b[43mmetric\u001b[49m\u001b[38;5;241;43m=\u001b[39;49m\u001b[38;5;28;43mself\u001b[39;49m\u001b[38;5;241;43m.\u001b[39;49m\u001b[43meffective_metric_\u001b[49m\u001b[43m,\u001b[49m\n\u001b[1;32m    456\u001b[0m \u001b[43m                        \u001b[49m\u001b[38;5;241;43m*\u001b[39;49m\u001b[38;5;241;43m*\u001b[39;49m\u001b[38;5;28;43mself\u001b[39;49m\u001b[38;5;241;43m.\u001b[39;49m\u001b[43meffective_metric_params_\u001b[49m\u001b[43m)\u001b[49m\n\u001b[1;32m    457\u001b[0m \u001b[38;5;28;01melif\u001b[39;00m \u001b[38;5;28mself\u001b[39m\u001b[38;5;241m.\u001b[39m_fit_method \u001b[38;5;241m==\u001b[39m \u001b[38;5;124m'\u001b[39m\u001b[38;5;124mbrute\u001b[39m\u001b[38;5;124m'\u001b[39m:\n\u001b[1;32m    458\u001b[0m     \u001b[38;5;28mself\u001b[39m\u001b[38;5;241m.\u001b[39m_tree \u001b[38;5;241m=\u001b[39m \u001b[38;5;28;01mNone\u001b[39;00m\n",
            "\u001b[0;31mKeyboardInterrupt\u001b[0m: "
          ]
        }
      ],
      "source": [
        "# Select top k features using mutual information score\n",
        "k = 20\n",
        "selector = SelectKBest(mutual_info_classif, k=k)\n",
        "selector.fit(X, y)"
      ]
    },
    {
      "cell_type": "code",
      "execution_count": null,
      "id": "9fb28b9c",
      "metadata": {
        "gather": {
          "logged": 1685103352741
        }
      },
      "outputs": [],
      "source": [
        "# Get selected feature indices and names\n",
        "selected_features = X.columns[selector.get_support()]\n",
        "print('Selected features:', selected_features)"
      ]
    },
    {
      "cell_type": "code",
      "execution_count": 5,
      "id": "14fbed3f-3e0b-4022-8677-42936e3deaea",
      "metadata": {
        "gather": {
          "logged": 1685108601488
        },
        "jupyter": {
          "outputs_hidden": false,
          "source_hidden": false
        },
        "nteract": {
          "transient": {
            "deleting": false
          }
        }
      },
      "outputs": [
        {
          "name": "stdout",
          "output_type": "stream",
          "text": [
            "Requirement already satisfied: yellowbrick in /anaconda/envs/azureml_py38/lib/python3.8/site-packages (1.5)\r\n",
            "Requirement already satisfied: cycler>=0.10.0 in /anaconda/envs/azureml_py38/lib/python3.8/site-packages (from yellowbrick) (0.11.0)\r\n",
            "Requirement already satisfied: matplotlib!=3.0.0,>=2.0.2 in /anaconda/envs/azureml_py38/lib/python3.8/site-packages (from yellowbrick) (3.2.1)\r\n",
            "Requirement already satisfied: scikit-learn>=1.0.0 in /anaconda/envs/azureml_py38/lib/python3.8/site-packages (from yellowbrick) (1.2.2)\r\n",
            "Requirement already satisfied: scipy>=1.0.0 in /anaconda/envs/azureml_py38/lib/python3.8/site-packages (from yellowbrick) (1.5.3)\r\n",
            "Requirement already satisfied: numpy>=1.16.0 in /anaconda/envs/azureml_py38/lib/python3.8/site-packages (from yellowbrick) (1.21.6)\r\n",
            "Requirement already satisfied: python-dateutil>=2.1 in /anaconda/envs/azureml_py38/lib/python3.8/site-packages (from matplotlib!=3.0.0,>=2.0.2->yellowbrick) (2.8.2)\r\n",
            "Requirement already satisfied: pyparsing!=2.0.4,!=2.1.2,!=2.1.6,>=2.0.1 in /anaconda/envs/azureml_py38/lib/python3.8/site-packages (from matplotlib!=3.0.0,>=2.0.2->yellowbrick) (3.0.9)\r\n",
            "Requirement already satisfied: kiwisolver>=1.0.1 in /anaconda/envs/azureml_py38/lib/python3.8/site-packages (from matplotlib!=3.0.0,>=2.0.2->yellowbrick) (1.4.4)\r\n",
            "Requirement already satisfied: threadpoolctl>=2.0.0 in /anaconda/envs/azureml_py38/lib/python3.8/site-packages (from scikit-learn>=1.0.0->yellowbrick) (2.2.0)\r\n",
            "Requirement already satisfied: joblib>=1.1.1 in /anaconda/envs/azureml_py38/lib/python3.8/site-packages (from scikit-learn>=1.0.0->yellowbrick) (1.2.0)\r\n",
            "Requirement already satisfied: six>=1.5 in /anaconda/envs/azureml_py38/lib/python3.8/site-packages (from python-dateutil>=2.1->matplotlib!=3.0.0,>=2.0.2->yellowbrick) (1.16.0)\r\n"
          ]
        }
      ],
      "source": [
        "!pip install yellowbrick"
      ]
    },
    {
      "cell_type": "code",
      "execution_count": 4,
      "id": "07965f20",
      "metadata": {
        "gather": {
          "logged": 1685113050801
        }
      },
      "outputs": [
        {
          "data": {
            "text/html": [
              "<style>#sk-container-id-1 {color: black;background-color: white;}#sk-container-id-1 pre{padding: 0;}#sk-container-id-1 div.sk-toggleable {background-color: white;}#sk-container-id-1 label.sk-toggleable__label {cursor: pointer;display: block;width: 100%;margin-bottom: 0;padding: 0.3em;box-sizing: border-box;text-align: center;}#sk-container-id-1 label.sk-toggleable__label-arrow:before {content: \"▸\";float: left;margin-right: 0.25em;color: #696969;}#sk-container-id-1 label.sk-toggleable__label-arrow:hover:before {color: black;}#sk-container-id-1 div.sk-estimator:hover label.sk-toggleable__label-arrow:before {color: black;}#sk-container-id-1 div.sk-toggleable__content {max-height: 0;max-width: 0;overflow: hidden;text-align: left;background-color: #f0f8ff;}#sk-container-id-1 div.sk-toggleable__content pre {margin: 0.2em;color: black;border-radius: 0.25em;background-color: #f0f8ff;}#sk-container-id-1 input.sk-toggleable__control:checked~div.sk-toggleable__content {max-height: 200px;max-width: 100%;overflow: auto;}#sk-container-id-1 input.sk-toggleable__control:checked~label.sk-toggleable__label-arrow:before {content: \"▾\";}#sk-container-id-1 div.sk-estimator input.sk-toggleable__control:checked~label.sk-toggleable__label {background-color: #d4ebff;}#sk-container-id-1 div.sk-label input.sk-toggleable__control:checked~label.sk-toggleable__label {background-color: #d4ebff;}#sk-container-id-1 input.sk-hidden--visually {border: 0;clip: rect(1px 1px 1px 1px);clip: rect(1px, 1px, 1px, 1px);height: 1px;margin: -1px;overflow: hidden;padding: 0;position: absolute;width: 1px;}#sk-container-id-1 div.sk-estimator {font-family: monospace;background-color: #f0f8ff;border: 1px dotted black;border-radius: 0.25em;box-sizing: border-box;margin-bottom: 0.5em;}#sk-container-id-1 div.sk-estimator:hover {background-color: #d4ebff;}#sk-container-id-1 div.sk-parallel-item::after {content: \"\";width: 100%;border-bottom: 1px solid gray;flex-grow: 1;}#sk-container-id-1 div.sk-label:hover label.sk-toggleable__label {background-color: #d4ebff;}#sk-container-id-1 div.sk-serial::before {content: \"\";position: absolute;border-left: 1px solid gray;box-sizing: border-box;top: 0;bottom: 0;left: 50%;z-index: 0;}#sk-container-id-1 div.sk-serial {display: flex;flex-direction: column;align-items: center;background-color: white;padding-right: 0.2em;padding-left: 0.2em;position: relative;}#sk-container-id-1 div.sk-item {position: relative;z-index: 1;}#sk-container-id-1 div.sk-parallel {display: flex;align-items: stretch;justify-content: center;background-color: white;position: relative;}#sk-container-id-1 div.sk-item::before, #sk-container-id-1 div.sk-parallel-item::before {content: \"\";position: absolute;border-left: 1px solid gray;box-sizing: border-box;top: 0;bottom: 0;left: 50%;z-index: -1;}#sk-container-id-1 div.sk-parallel-item {display: flex;flex-direction: column;z-index: 1;position: relative;background-color: white;}#sk-container-id-1 div.sk-parallel-item:first-child::after {align-self: flex-end;width: 50%;}#sk-container-id-1 div.sk-parallel-item:last-child::after {align-self: flex-start;width: 50%;}#sk-container-id-1 div.sk-parallel-item:only-child::after {width: 0;}#sk-container-id-1 div.sk-dashed-wrapped {border: 1px dashed gray;margin: 0 0.4em 0.5em 0.4em;box-sizing: border-box;padding-bottom: 0.4em;background-color: white;}#sk-container-id-1 div.sk-label label {font-family: monospace;font-weight: bold;display: inline-block;line-height: 1.2em;}#sk-container-id-1 div.sk-label-container {text-align: center;}#sk-container-id-1 div.sk-container {/* jupyter's `normalize.less` sets `[hidden] { display: none; }` but bootstrap.min.css set `[hidden] { display: none !important; }` so we also need the `!important` here to be able to override the default hidden behavior on the sphinx rendered scikit-learn.org. See: https://github.com/scikit-learn/scikit-learn/issues/21755 */display: inline-block !important;position: relative;}#sk-container-id-1 div.sk-text-repr-fallback {display: none;}</style><div id=\"sk-container-id-1\" class=\"sk-top-container\"><div class=\"sk-text-repr-fallback\"><pre>KMeans(n_clusters=1, random_state=42)</pre><b>In a Jupyter environment, please rerun this cell to show the HTML representation or trust the notebook. <br />On GitHub, the HTML representation is unable to render, please try loading this page with nbviewer.org.</b></div><div class=\"sk-container\" hidden><div class=\"sk-item\"><div class=\"sk-estimator sk-toggleable\"><input class=\"sk-toggleable__control sk-hidden--visually\" id=\"sk-estimator-id-1\" type=\"checkbox\" checked><label for=\"sk-estimator-id-1\" class=\"sk-toggleable__label sk-toggleable__label-arrow\">KMeans</label><div class=\"sk-toggleable__content\"><pre>KMeans(n_clusters=1, random_state=42)</pre></div></div></div></div></div>"
            ],
            "text/plain": [
              "KMeans(n_clusters=1, random_state=42)"
            ]
          },
          "execution_count": 4,
          "metadata": {},
          "output_type": "execute_result"
        },
        {
          "data": {
            "text/html": [
              "<style>#sk-container-id-2 {color: black;background-color: white;}#sk-container-id-2 pre{padding: 0;}#sk-container-id-2 div.sk-toggleable {background-color: white;}#sk-container-id-2 label.sk-toggleable__label {cursor: pointer;display: block;width: 100%;margin-bottom: 0;padding: 0.3em;box-sizing: border-box;text-align: center;}#sk-container-id-2 label.sk-toggleable__label-arrow:before {content: \"▸\";float: left;margin-right: 0.25em;color: #696969;}#sk-container-id-2 label.sk-toggleable__label-arrow:hover:before {color: black;}#sk-container-id-2 div.sk-estimator:hover label.sk-toggleable__label-arrow:before {color: black;}#sk-container-id-2 div.sk-toggleable__content {max-height: 0;max-width: 0;overflow: hidden;text-align: left;background-color: #f0f8ff;}#sk-container-id-2 div.sk-toggleable__content pre {margin: 0.2em;color: black;border-radius: 0.25em;background-color: #f0f8ff;}#sk-container-id-2 input.sk-toggleable__control:checked~div.sk-toggleable__content {max-height: 200px;max-width: 100%;overflow: auto;}#sk-container-id-2 input.sk-toggleable__control:checked~label.sk-toggleable__label-arrow:before {content: \"▾\";}#sk-container-id-2 div.sk-estimator input.sk-toggleable__control:checked~label.sk-toggleable__label {background-color: #d4ebff;}#sk-container-id-2 div.sk-label input.sk-toggleable__control:checked~label.sk-toggleable__label {background-color: #d4ebff;}#sk-container-id-2 input.sk-hidden--visually {border: 0;clip: rect(1px 1px 1px 1px);clip: rect(1px, 1px, 1px, 1px);height: 1px;margin: -1px;overflow: hidden;padding: 0;position: absolute;width: 1px;}#sk-container-id-2 div.sk-estimator {font-family: monospace;background-color: #f0f8ff;border: 1px dotted black;border-radius: 0.25em;box-sizing: border-box;margin-bottom: 0.5em;}#sk-container-id-2 div.sk-estimator:hover {background-color: #d4ebff;}#sk-container-id-2 div.sk-parallel-item::after {content: \"\";width: 100%;border-bottom: 1px solid gray;flex-grow: 1;}#sk-container-id-2 div.sk-label:hover label.sk-toggleable__label {background-color: #d4ebff;}#sk-container-id-2 div.sk-serial::before {content: \"\";position: absolute;border-left: 1px solid gray;box-sizing: border-box;top: 0;bottom: 0;left: 50%;z-index: 0;}#sk-container-id-2 div.sk-serial {display: flex;flex-direction: column;align-items: center;background-color: white;padding-right: 0.2em;padding-left: 0.2em;position: relative;}#sk-container-id-2 div.sk-item {position: relative;z-index: 1;}#sk-container-id-2 div.sk-parallel {display: flex;align-items: stretch;justify-content: center;background-color: white;position: relative;}#sk-container-id-2 div.sk-item::before, #sk-container-id-2 div.sk-parallel-item::before {content: \"\";position: absolute;border-left: 1px solid gray;box-sizing: border-box;top: 0;bottom: 0;left: 50%;z-index: -1;}#sk-container-id-2 div.sk-parallel-item {display: flex;flex-direction: column;z-index: 1;position: relative;background-color: white;}#sk-container-id-2 div.sk-parallel-item:first-child::after {align-self: flex-end;width: 50%;}#sk-container-id-2 div.sk-parallel-item:last-child::after {align-self: flex-start;width: 50%;}#sk-container-id-2 div.sk-parallel-item:only-child::after {width: 0;}#sk-container-id-2 div.sk-dashed-wrapped {border: 1px dashed gray;margin: 0 0.4em 0.5em 0.4em;box-sizing: border-box;padding-bottom: 0.4em;background-color: white;}#sk-container-id-2 div.sk-label label {font-family: monospace;font-weight: bold;display: inline-block;line-height: 1.2em;}#sk-container-id-2 div.sk-label-container {text-align: center;}#sk-container-id-2 div.sk-container {/* jupyter's `normalize.less` sets `[hidden] { display: none; }` but bootstrap.min.css set `[hidden] { display: none !important; }` so we also need the `!important` here to be able to override the default hidden behavior on the sphinx rendered scikit-learn.org. See: https://github.com/scikit-learn/scikit-learn/issues/21755 */display: inline-block !important;position: relative;}#sk-container-id-2 div.sk-text-repr-fallback {display: none;}</style><div id=\"sk-container-id-2\" class=\"sk-top-container\"><div class=\"sk-text-repr-fallback\"><pre>KMeans(n_clusters=2, random_state=42)</pre><b>In a Jupyter environment, please rerun this cell to show the HTML representation or trust the notebook. <br />On GitHub, the HTML representation is unable to render, please try loading this page with nbviewer.org.</b></div><div class=\"sk-container\" hidden><div class=\"sk-item\"><div class=\"sk-estimator sk-toggleable\"><input class=\"sk-toggleable__control sk-hidden--visually\" id=\"sk-estimator-id-2\" type=\"checkbox\" checked><label for=\"sk-estimator-id-2\" class=\"sk-toggleable__label sk-toggleable__label-arrow\">KMeans</label><div class=\"sk-toggleable__content\"><pre>KMeans(n_clusters=2, random_state=42)</pre></div></div></div></div></div>"
            ],
            "text/plain": [
              "KMeans(n_clusters=2, random_state=42)"
            ]
          },
          "execution_count": 4,
          "metadata": {},
          "output_type": "execute_result"
        },
        {
          "data": {
            "text/html": [
              "<style>#sk-container-id-3 {color: black;background-color: white;}#sk-container-id-3 pre{padding: 0;}#sk-container-id-3 div.sk-toggleable {background-color: white;}#sk-container-id-3 label.sk-toggleable__label {cursor: pointer;display: block;width: 100%;margin-bottom: 0;padding: 0.3em;box-sizing: border-box;text-align: center;}#sk-container-id-3 label.sk-toggleable__label-arrow:before {content: \"▸\";float: left;margin-right: 0.25em;color: #696969;}#sk-container-id-3 label.sk-toggleable__label-arrow:hover:before {color: black;}#sk-container-id-3 div.sk-estimator:hover label.sk-toggleable__label-arrow:before {color: black;}#sk-container-id-3 div.sk-toggleable__content {max-height: 0;max-width: 0;overflow: hidden;text-align: left;background-color: #f0f8ff;}#sk-container-id-3 div.sk-toggleable__content pre {margin: 0.2em;color: black;border-radius: 0.25em;background-color: #f0f8ff;}#sk-container-id-3 input.sk-toggleable__control:checked~div.sk-toggleable__content {max-height: 200px;max-width: 100%;overflow: auto;}#sk-container-id-3 input.sk-toggleable__control:checked~label.sk-toggleable__label-arrow:before {content: \"▾\";}#sk-container-id-3 div.sk-estimator input.sk-toggleable__control:checked~label.sk-toggleable__label {background-color: #d4ebff;}#sk-container-id-3 div.sk-label input.sk-toggleable__control:checked~label.sk-toggleable__label {background-color: #d4ebff;}#sk-container-id-3 input.sk-hidden--visually {border: 0;clip: rect(1px 1px 1px 1px);clip: rect(1px, 1px, 1px, 1px);height: 1px;margin: -1px;overflow: hidden;padding: 0;position: absolute;width: 1px;}#sk-container-id-3 div.sk-estimator {font-family: monospace;background-color: #f0f8ff;border: 1px dotted black;border-radius: 0.25em;box-sizing: border-box;margin-bottom: 0.5em;}#sk-container-id-3 div.sk-estimator:hover {background-color: #d4ebff;}#sk-container-id-3 div.sk-parallel-item::after {content: \"\";width: 100%;border-bottom: 1px solid gray;flex-grow: 1;}#sk-container-id-3 div.sk-label:hover label.sk-toggleable__label {background-color: #d4ebff;}#sk-container-id-3 div.sk-serial::before {content: \"\";position: absolute;border-left: 1px solid gray;box-sizing: border-box;top: 0;bottom: 0;left: 50%;z-index: 0;}#sk-container-id-3 div.sk-serial {display: flex;flex-direction: column;align-items: center;background-color: white;padding-right: 0.2em;padding-left: 0.2em;position: relative;}#sk-container-id-3 div.sk-item {position: relative;z-index: 1;}#sk-container-id-3 div.sk-parallel {display: flex;align-items: stretch;justify-content: center;background-color: white;position: relative;}#sk-container-id-3 div.sk-item::before, #sk-container-id-3 div.sk-parallel-item::before {content: \"\";position: absolute;border-left: 1px solid gray;box-sizing: border-box;top: 0;bottom: 0;left: 50%;z-index: -1;}#sk-container-id-3 div.sk-parallel-item {display: flex;flex-direction: column;z-index: 1;position: relative;background-color: white;}#sk-container-id-3 div.sk-parallel-item:first-child::after {align-self: flex-end;width: 50%;}#sk-container-id-3 div.sk-parallel-item:last-child::after {align-self: flex-start;width: 50%;}#sk-container-id-3 div.sk-parallel-item:only-child::after {width: 0;}#sk-container-id-3 div.sk-dashed-wrapped {border: 1px dashed gray;margin: 0 0.4em 0.5em 0.4em;box-sizing: border-box;padding-bottom: 0.4em;background-color: white;}#sk-container-id-3 div.sk-label label {font-family: monospace;font-weight: bold;display: inline-block;line-height: 1.2em;}#sk-container-id-3 div.sk-label-container {text-align: center;}#sk-container-id-3 div.sk-container {/* jupyter's `normalize.less` sets `[hidden] { display: none; }` but bootstrap.min.css set `[hidden] { display: none !important; }` so we also need the `!important` here to be able to override the default hidden behavior on the sphinx rendered scikit-learn.org. See: https://github.com/scikit-learn/scikit-learn/issues/21755 */display: inline-block !important;position: relative;}#sk-container-id-3 div.sk-text-repr-fallback {display: none;}</style><div id=\"sk-container-id-3\" class=\"sk-top-container\"><div class=\"sk-text-repr-fallback\"><pre>KMeans(n_clusters=3, random_state=42)</pre><b>In a Jupyter environment, please rerun this cell to show the HTML representation or trust the notebook. <br />On GitHub, the HTML representation is unable to render, please try loading this page with nbviewer.org.</b></div><div class=\"sk-container\" hidden><div class=\"sk-item\"><div class=\"sk-estimator sk-toggleable\"><input class=\"sk-toggleable__control sk-hidden--visually\" id=\"sk-estimator-id-3\" type=\"checkbox\" checked><label for=\"sk-estimator-id-3\" class=\"sk-toggleable__label sk-toggleable__label-arrow\">KMeans</label><div class=\"sk-toggleable__content\"><pre>KMeans(n_clusters=3, random_state=42)</pre></div></div></div></div></div>"
            ],
            "text/plain": [
              "KMeans(n_clusters=3, random_state=42)"
            ]
          },
          "execution_count": 4,
          "metadata": {},
          "output_type": "execute_result"
        },
        {
          "data": {
            "text/html": [
              "<style>#sk-container-id-4 {color: black;background-color: white;}#sk-container-id-4 pre{padding: 0;}#sk-container-id-4 div.sk-toggleable {background-color: white;}#sk-container-id-4 label.sk-toggleable__label {cursor: pointer;display: block;width: 100%;margin-bottom: 0;padding: 0.3em;box-sizing: border-box;text-align: center;}#sk-container-id-4 label.sk-toggleable__label-arrow:before {content: \"▸\";float: left;margin-right: 0.25em;color: #696969;}#sk-container-id-4 label.sk-toggleable__label-arrow:hover:before {color: black;}#sk-container-id-4 div.sk-estimator:hover label.sk-toggleable__label-arrow:before {color: black;}#sk-container-id-4 div.sk-toggleable__content {max-height: 0;max-width: 0;overflow: hidden;text-align: left;background-color: #f0f8ff;}#sk-container-id-4 div.sk-toggleable__content pre {margin: 0.2em;color: black;border-radius: 0.25em;background-color: #f0f8ff;}#sk-container-id-4 input.sk-toggleable__control:checked~div.sk-toggleable__content {max-height: 200px;max-width: 100%;overflow: auto;}#sk-container-id-4 input.sk-toggleable__control:checked~label.sk-toggleable__label-arrow:before {content: \"▾\";}#sk-container-id-4 div.sk-estimator input.sk-toggleable__control:checked~label.sk-toggleable__label {background-color: #d4ebff;}#sk-container-id-4 div.sk-label input.sk-toggleable__control:checked~label.sk-toggleable__label {background-color: #d4ebff;}#sk-container-id-4 input.sk-hidden--visually {border: 0;clip: rect(1px 1px 1px 1px);clip: rect(1px, 1px, 1px, 1px);height: 1px;margin: -1px;overflow: hidden;padding: 0;position: absolute;width: 1px;}#sk-container-id-4 div.sk-estimator {font-family: monospace;background-color: #f0f8ff;border: 1px dotted black;border-radius: 0.25em;box-sizing: border-box;margin-bottom: 0.5em;}#sk-container-id-4 div.sk-estimator:hover {background-color: #d4ebff;}#sk-container-id-4 div.sk-parallel-item::after {content: \"\";width: 100%;border-bottom: 1px solid gray;flex-grow: 1;}#sk-container-id-4 div.sk-label:hover label.sk-toggleable__label {background-color: #d4ebff;}#sk-container-id-4 div.sk-serial::before {content: \"\";position: absolute;border-left: 1px solid gray;box-sizing: border-box;top: 0;bottom: 0;left: 50%;z-index: 0;}#sk-container-id-4 div.sk-serial {display: flex;flex-direction: column;align-items: center;background-color: white;padding-right: 0.2em;padding-left: 0.2em;position: relative;}#sk-container-id-4 div.sk-item {position: relative;z-index: 1;}#sk-container-id-4 div.sk-parallel {display: flex;align-items: stretch;justify-content: center;background-color: white;position: relative;}#sk-container-id-4 div.sk-item::before, #sk-container-id-4 div.sk-parallel-item::before {content: \"\";position: absolute;border-left: 1px solid gray;box-sizing: border-box;top: 0;bottom: 0;left: 50%;z-index: -1;}#sk-container-id-4 div.sk-parallel-item {display: flex;flex-direction: column;z-index: 1;position: relative;background-color: white;}#sk-container-id-4 div.sk-parallel-item:first-child::after {align-self: flex-end;width: 50%;}#sk-container-id-4 div.sk-parallel-item:last-child::after {align-self: flex-start;width: 50%;}#sk-container-id-4 div.sk-parallel-item:only-child::after {width: 0;}#sk-container-id-4 div.sk-dashed-wrapped {border: 1px dashed gray;margin: 0 0.4em 0.5em 0.4em;box-sizing: border-box;padding-bottom: 0.4em;background-color: white;}#sk-container-id-4 div.sk-label label {font-family: monospace;font-weight: bold;display: inline-block;line-height: 1.2em;}#sk-container-id-4 div.sk-label-container {text-align: center;}#sk-container-id-4 div.sk-container {/* jupyter's `normalize.less` sets `[hidden] { display: none; }` but bootstrap.min.css set `[hidden] { display: none !important; }` so we also need the `!important` here to be able to override the default hidden behavior on the sphinx rendered scikit-learn.org. See: https://github.com/scikit-learn/scikit-learn/issues/21755 */display: inline-block !important;position: relative;}#sk-container-id-4 div.sk-text-repr-fallback {display: none;}</style><div id=\"sk-container-id-4\" class=\"sk-top-container\"><div class=\"sk-text-repr-fallback\"><pre>KMeans(n_clusters=4, random_state=42)</pre><b>In a Jupyter environment, please rerun this cell to show the HTML representation or trust the notebook. <br />On GitHub, the HTML representation is unable to render, please try loading this page with nbviewer.org.</b></div><div class=\"sk-container\" hidden><div class=\"sk-item\"><div class=\"sk-estimator sk-toggleable\"><input class=\"sk-toggleable__control sk-hidden--visually\" id=\"sk-estimator-id-4\" type=\"checkbox\" checked><label for=\"sk-estimator-id-4\" class=\"sk-toggleable__label sk-toggleable__label-arrow\">KMeans</label><div class=\"sk-toggleable__content\"><pre>KMeans(n_clusters=4, random_state=42)</pre></div></div></div></div></div>"
            ],
            "text/plain": [
              "KMeans(n_clusters=4, random_state=42)"
            ]
          },
          "execution_count": 4,
          "metadata": {},
          "output_type": "execute_result"
        },
        {
          "data": {
            "text/html": [
              "<style>#sk-container-id-5 {color: black;background-color: white;}#sk-container-id-5 pre{padding: 0;}#sk-container-id-5 div.sk-toggleable {background-color: white;}#sk-container-id-5 label.sk-toggleable__label {cursor: pointer;display: block;width: 100%;margin-bottom: 0;padding: 0.3em;box-sizing: border-box;text-align: center;}#sk-container-id-5 label.sk-toggleable__label-arrow:before {content: \"▸\";float: left;margin-right: 0.25em;color: #696969;}#sk-container-id-5 label.sk-toggleable__label-arrow:hover:before {color: black;}#sk-container-id-5 div.sk-estimator:hover label.sk-toggleable__label-arrow:before {color: black;}#sk-container-id-5 div.sk-toggleable__content {max-height: 0;max-width: 0;overflow: hidden;text-align: left;background-color: #f0f8ff;}#sk-container-id-5 div.sk-toggleable__content pre {margin: 0.2em;color: black;border-radius: 0.25em;background-color: #f0f8ff;}#sk-container-id-5 input.sk-toggleable__control:checked~div.sk-toggleable__content {max-height: 200px;max-width: 100%;overflow: auto;}#sk-container-id-5 input.sk-toggleable__control:checked~label.sk-toggleable__label-arrow:before {content: \"▾\";}#sk-container-id-5 div.sk-estimator input.sk-toggleable__control:checked~label.sk-toggleable__label {background-color: #d4ebff;}#sk-container-id-5 div.sk-label input.sk-toggleable__control:checked~label.sk-toggleable__label {background-color: #d4ebff;}#sk-container-id-5 input.sk-hidden--visually {border: 0;clip: rect(1px 1px 1px 1px);clip: rect(1px, 1px, 1px, 1px);height: 1px;margin: -1px;overflow: hidden;padding: 0;position: absolute;width: 1px;}#sk-container-id-5 div.sk-estimator {font-family: monospace;background-color: #f0f8ff;border: 1px dotted black;border-radius: 0.25em;box-sizing: border-box;margin-bottom: 0.5em;}#sk-container-id-5 div.sk-estimator:hover {background-color: #d4ebff;}#sk-container-id-5 div.sk-parallel-item::after {content: \"\";width: 100%;border-bottom: 1px solid gray;flex-grow: 1;}#sk-container-id-5 div.sk-label:hover label.sk-toggleable__label {background-color: #d4ebff;}#sk-container-id-5 div.sk-serial::before {content: \"\";position: absolute;border-left: 1px solid gray;box-sizing: border-box;top: 0;bottom: 0;left: 50%;z-index: 0;}#sk-container-id-5 div.sk-serial {display: flex;flex-direction: column;align-items: center;background-color: white;padding-right: 0.2em;padding-left: 0.2em;position: relative;}#sk-container-id-5 div.sk-item {position: relative;z-index: 1;}#sk-container-id-5 div.sk-parallel {display: flex;align-items: stretch;justify-content: center;background-color: white;position: relative;}#sk-container-id-5 div.sk-item::before, #sk-container-id-5 div.sk-parallel-item::before {content: \"\";position: absolute;border-left: 1px solid gray;box-sizing: border-box;top: 0;bottom: 0;left: 50%;z-index: -1;}#sk-container-id-5 div.sk-parallel-item {display: flex;flex-direction: column;z-index: 1;position: relative;background-color: white;}#sk-container-id-5 div.sk-parallel-item:first-child::after {align-self: flex-end;width: 50%;}#sk-container-id-5 div.sk-parallel-item:last-child::after {align-self: flex-start;width: 50%;}#sk-container-id-5 div.sk-parallel-item:only-child::after {width: 0;}#sk-container-id-5 div.sk-dashed-wrapped {border: 1px dashed gray;margin: 0 0.4em 0.5em 0.4em;box-sizing: border-box;padding-bottom: 0.4em;background-color: white;}#sk-container-id-5 div.sk-label label {font-family: monospace;font-weight: bold;display: inline-block;line-height: 1.2em;}#sk-container-id-5 div.sk-label-container {text-align: center;}#sk-container-id-5 div.sk-container {/* jupyter's `normalize.less` sets `[hidden] { display: none; }` but bootstrap.min.css set `[hidden] { display: none !important; }` so we also need the `!important` here to be able to override the default hidden behavior on the sphinx rendered scikit-learn.org. See: https://github.com/scikit-learn/scikit-learn/issues/21755 */display: inline-block !important;position: relative;}#sk-container-id-5 div.sk-text-repr-fallback {display: none;}</style><div id=\"sk-container-id-5\" class=\"sk-top-container\"><div class=\"sk-text-repr-fallback\"><pre>KMeans(n_clusters=5, random_state=42)</pre><b>In a Jupyter environment, please rerun this cell to show the HTML representation or trust the notebook. <br />On GitHub, the HTML representation is unable to render, please try loading this page with nbviewer.org.</b></div><div class=\"sk-container\" hidden><div class=\"sk-item\"><div class=\"sk-estimator sk-toggleable\"><input class=\"sk-toggleable__control sk-hidden--visually\" id=\"sk-estimator-id-5\" type=\"checkbox\" checked><label for=\"sk-estimator-id-5\" class=\"sk-toggleable__label sk-toggleable__label-arrow\">KMeans</label><div class=\"sk-toggleable__content\"><pre>KMeans(n_clusters=5, random_state=42)</pre></div></div></div></div></div>"
            ],
            "text/plain": [
              "KMeans(n_clusters=5, random_state=42)"
            ]
          },
          "execution_count": 4,
          "metadata": {},
          "output_type": "execute_result"
        },
        {
          "data": {
            "text/html": [
              "<style>#sk-container-id-6 {color: black;background-color: white;}#sk-container-id-6 pre{padding: 0;}#sk-container-id-6 div.sk-toggleable {background-color: white;}#sk-container-id-6 label.sk-toggleable__label {cursor: pointer;display: block;width: 100%;margin-bottom: 0;padding: 0.3em;box-sizing: border-box;text-align: center;}#sk-container-id-6 label.sk-toggleable__label-arrow:before {content: \"▸\";float: left;margin-right: 0.25em;color: #696969;}#sk-container-id-6 label.sk-toggleable__label-arrow:hover:before {color: black;}#sk-container-id-6 div.sk-estimator:hover label.sk-toggleable__label-arrow:before {color: black;}#sk-container-id-6 div.sk-toggleable__content {max-height: 0;max-width: 0;overflow: hidden;text-align: left;background-color: #f0f8ff;}#sk-container-id-6 div.sk-toggleable__content pre {margin: 0.2em;color: black;border-radius: 0.25em;background-color: #f0f8ff;}#sk-container-id-6 input.sk-toggleable__control:checked~div.sk-toggleable__content {max-height: 200px;max-width: 100%;overflow: auto;}#sk-container-id-6 input.sk-toggleable__control:checked~label.sk-toggleable__label-arrow:before {content: \"▾\";}#sk-container-id-6 div.sk-estimator input.sk-toggleable__control:checked~label.sk-toggleable__label {background-color: #d4ebff;}#sk-container-id-6 div.sk-label input.sk-toggleable__control:checked~label.sk-toggleable__label {background-color: #d4ebff;}#sk-container-id-6 input.sk-hidden--visually {border: 0;clip: rect(1px 1px 1px 1px);clip: rect(1px, 1px, 1px, 1px);height: 1px;margin: -1px;overflow: hidden;padding: 0;position: absolute;width: 1px;}#sk-container-id-6 div.sk-estimator {font-family: monospace;background-color: #f0f8ff;border: 1px dotted black;border-radius: 0.25em;box-sizing: border-box;margin-bottom: 0.5em;}#sk-container-id-6 div.sk-estimator:hover {background-color: #d4ebff;}#sk-container-id-6 div.sk-parallel-item::after {content: \"\";width: 100%;border-bottom: 1px solid gray;flex-grow: 1;}#sk-container-id-6 div.sk-label:hover label.sk-toggleable__label {background-color: #d4ebff;}#sk-container-id-6 div.sk-serial::before {content: \"\";position: absolute;border-left: 1px solid gray;box-sizing: border-box;top: 0;bottom: 0;left: 50%;z-index: 0;}#sk-container-id-6 div.sk-serial {display: flex;flex-direction: column;align-items: center;background-color: white;padding-right: 0.2em;padding-left: 0.2em;position: relative;}#sk-container-id-6 div.sk-item {position: relative;z-index: 1;}#sk-container-id-6 div.sk-parallel {display: flex;align-items: stretch;justify-content: center;background-color: white;position: relative;}#sk-container-id-6 div.sk-item::before, #sk-container-id-6 div.sk-parallel-item::before {content: \"\";position: absolute;border-left: 1px solid gray;box-sizing: border-box;top: 0;bottom: 0;left: 50%;z-index: -1;}#sk-container-id-6 div.sk-parallel-item {display: flex;flex-direction: column;z-index: 1;position: relative;background-color: white;}#sk-container-id-6 div.sk-parallel-item:first-child::after {align-self: flex-end;width: 50%;}#sk-container-id-6 div.sk-parallel-item:last-child::after {align-self: flex-start;width: 50%;}#sk-container-id-6 div.sk-parallel-item:only-child::after {width: 0;}#sk-container-id-6 div.sk-dashed-wrapped {border: 1px dashed gray;margin: 0 0.4em 0.5em 0.4em;box-sizing: border-box;padding-bottom: 0.4em;background-color: white;}#sk-container-id-6 div.sk-label label {font-family: monospace;font-weight: bold;display: inline-block;line-height: 1.2em;}#sk-container-id-6 div.sk-label-container {text-align: center;}#sk-container-id-6 div.sk-container {/* jupyter's `normalize.less` sets `[hidden] { display: none; }` but bootstrap.min.css set `[hidden] { display: none !important; }` so we also need the `!important` here to be able to override the default hidden behavior on the sphinx rendered scikit-learn.org. See: https://github.com/scikit-learn/scikit-learn/issues/21755 */display: inline-block !important;position: relative;}#sk-container-id-6 div.sk-text-repr-fallback {display: none;}</style><div id=\"sk-container-id-6\" class=\"sk-top-container\"><div class=\"sk-text-repr-fallback\"><pre>KMeans(n_clusters=6, random_state=42)</pre><b>In a Jupyter environment, please rerun this cell to show the HTML representation or trust the notebook. <br />On GitHub, the HTML representation is unable to render, please try loading this page with nbviewer.org.</b></div><div class=\"sk-container\" hidden><div class=\"sk-item\"><div class=\"sk-estimator sk-toggleable\"><input class=\"sk-toggleable__control sk-hidden--visually\" id=\"sk-estimator-id-6\" type=\"checkbox\" checked><label for=\"sk-estimator-id-6\" class=\"sk-toggleable__label sk-toggleable__label-arrow\">KMeans</label><div class=\"sk-toggleable__content\"><pre>KMeans(n_clusters=6, random_state=42)</pre></div></div></div></div></div>"
            ],
            "text/plain": [
              "KMeans(n_clusters=6, random_state=42)"
            ]
          },
          "execution_count": 4,
          "metadata": {},
          "output_type": "execute_result"
        },
        {
          "data": {
            "text/html": [
              "<style>#sk-container-id-7 {color: black;background-color: white;}#sk-container-id-7 pre{padding: 0;}#sk-container-id-7 div.sk-toggleable {background-color: white;}#sk-container-id-7 label.sk-toggleable__label {cursor: pointer;display: block;width: 100%;margin-bottom: 0;padding: 0.3em;box-sizing: border-box;text-align: center;}#sk-container-id-7 label.sk-toggleable__label-arrow:before {content: \"▸\";float: left;margin-right: 0.25em;color: #696969;}#sk-container-id-7 label.sk-toggleable__label-arrow:hover:before {color: black;}#sk-container-id-7 div.sk-estimator:hover label.sk-toggleable__label-arrow:before {color: black;}#sk-container-id-7 div.sk-toggleable__content {max-height: 0;max-width: 0;overflow: hidden;text-align: left;background-color: #f0f8ff;}#sk-container-id-7 div.sk-toggleable__content pre {margin: 0.2em;color: black;border-radius: 0.25em;background-color: #f0f8ff;}#sk-container-id-7 input.sk-toggleable__control:checked~div.sk-toggleable__content {max-height: 200px;max-width: 100%;overflow: auto;}#sk-container-id-7 input.sk-toggleable__control:checked~label.sk-toggleable__label-arrow:before {content: \"▾\";}#sk-container-id-7 div.sk-estimator input.sk-toggleable__control:checked~label.sk-toggleable__label {background-color: #d4ebff;}#sk-container-id-7 div.sk-label input.sk-toggleable__control:checked~label.sk-toggleable__label {background-color: #d4ebff;}#sk-container-id-7 input.sk-hidden--visually {border: 0;clip: rect(1px 1px 1px 1px);clip: rect(1px, 1px, 1px, 1px);height: 1px;margin: -1px;overflow: hidden;padding: 0;position: absolute;width: 1px;}#sk-container-id-7 div.sk-estimator {font-family: monospace;background-color: #f0f8ff;border: 1px dotted black;border-radius: 0.25em;box-sizing: border-box;margin-bottom: 0.5em;}#sk-container-id-7 div.sk-estimator:hover {background-color: #d4ebff;}#sk-container-id-7 div.sk-parallel-item::after {content: \"\";width: 100%;border-bottom: 1px solid gray;flex-grow: 1;}#sk-container-id-7 div.sk-label:hover label.sk-toggleable__label {background-color: #d4ebff;}#sk-container-id-7 div.sk-serial::before {content: \"\";position: absolute;border-left: 1px solid gray;box-sizing: border-box;top: 0;bottom: 0;left: 50%;z-index: 0;}#sk-container-id-7 div.sk-serial {display: flex;flex-direction: column;align-items: center;background-color: white;padding-right: 0.2em;padding-left: 0.2em;position: relative;}#sk-container-id-7 div.sk-item {position: relative;z-index: 1;}#sk-container-id-7 div.sk-parallel {display: flex;align-items: stretch;justify-content: center;background-color: white;position: relative;}#sk-container-id-7 div.sk-item::before, #sk-container-id-7 div.sk-parallel-item::before {content: \"\";position: absolute;border-left: 1px solid gray;box-sizing: border-box;top: 0;bottom: 0;left: 50%;z-index: -1;}#sk-container-id-7 div.sk-parallel-item {display: flex;flex-direction: column;z-index: 1;position: relative;background-color: white;}#sk-container-id-7 div.sk-parallel-item:first-child::after {align-self: flex-end;width: 50%;}#sk-container-id-7 div.sk-parallel-item:last-child::after {align-self: flex-start;width: 50%;}#sk-container-id-7 div.sk-parallel-item:only-child::after {width: 0;}#sk-container-id-7 div.sk-dashed-wrapped {border: 1px dashed gray;margin: 0 0.4em 0.5em 0.4em;box-sizing: border-box;padding-bottom: 0.4em;background-color: white;}#sk-container-id-7 div.sk-label label {font-family: monospace;font-weight: bold;display: inline-block;line-height: 1.2em;}#sk-container-id-7 div.sk-label-container {text-align: center;}#sk-container-id-7 div.sk-container {/* jupyter's `normalize.less` sets `[hidden] { display: none; }` but bootstrap.min.css set `[hidden] { display: none !important; }` so we also need the `!important` here to be able to override the default hidden behavior on the sphinx rendered scikit-learn.org. See: https://github.com/scikit-learn/scikit-learn/issues/21755 */display: inline-block !important;position: relative;}#sk-container-id-7 div.sk-text-repr-fallback {display: none;}</style><div id=\"sk-container-id-7\" class=\"sk-top-container\"><div class=\"sk-text-repr-fallback\"><pre>KMeans(n_clusters=7, random_state=42)</pre><b>In a Jupyter environment, please rerun this cell to show the HTML representation or trust the notebook. <br />On GitHub, the HTML representation is unable to render, please try loading this page with nbviewer.org.</b></div><div class=\"sk-container\" hidden><div class=\"sk-item\"><div class=\"sk-estimator sk-toggleable\"><input class=\"sk-toggleable__control sk-hidden--visually\" id=\"sk-estimator-id-7\" type=\"checkbox\" checked><label for=\"sk-estimator-id-7\" class=\"sk-toggleable__label sk-toggleable__label-arrow\">KMeans</label><div class=\"sk-toggleable__content\"><pre>KMeans(n_clusters=7, random_state=42)</pre></div></div></div></div></div>"
            ],
            "text/plain": [
              "KMeans(n_clusters=7, random_state=42)"
            ]
          },
          "execution_count": 4,
          "metadata": {},
          "output_type": "execute_result"
        },
        {
          "data": {
            "text/html": [
              "<style>#sk-container-id-8 {color: black;background-color: white;}#sk-container-id-8 pre{padding: 0;}#sk-container-id-8 div.sk-toggleable {background-color: white;}#sk-container-id-8 label.sk-toggleable__label {cursor: pointer;display: block;width: 100%;margin-bottom: 0;padding: 0.3em;box-sizing: border-box;text-align: center;}#sk-container-id-8 label.sk-toggleable__label-arrow:before {content: \"▸\";float: left;margin-right: 0.25em;color: #696969;}#sk-container-id-8 label.sk-toggleable__label-arrow:hover:before {color: black;}#sk-container-id-8 div.sk-estimator:hover label.sk-toggleable__label-arrow:before {color: black;}#sk-container-id-8 div.sk-toggleable__content {max-height: 0;max-width: 0;overflow: hidden;text-align: left;background-color: #f0f8ff;}#sk-container-id-8 div.sk-toggleable__content pre {margin: 0.2em;color: black;border-radius: 0.25em;background-color: #f0f8ff;}#sk-container-id-8 input.sk-toggleable__control:checked~div.sk-toggleable__content {max-height: 200px;max-width: 100%;overflow: auto;}#sk-container-id-8 input.sk-toggleable__control:checked~label.sk-toggleable__label-arrow:before {content: \"▾\";}#sk-container-id-8 div.sk-estimator input.sk-toggleable__control:checked~label.sk-toggleable__label {background-color: #d4ebff;}#sk-container-id-8 div.sk-label input.sk-toggleable__control:checked~label.sk-toggleable__label {background-color: #d4ebff;}#sk-container-id-8 input.sk-hidden--visually {border: 0;clip: rect(1px 1px 1px 1px);clip: rect(1px, 1px, 1px, 1px);height: 1px;margin: -1px;overflow: hidden;padding: 0;position: absolute;width: 1px;}#sk-container-id-8 div.sk-estimator {font-family: monospace;background-color: #f0f8ff;border: 1px dotted black;border-radius: 0.25em;box-sizing: border-box;margin-bottom: 0.5em;}#sk-container-id-8 div.sk-estimator:hover {background-color: #d4ebff;}#sk-container-id-8 div.sk-parallel-item::after {content: \"\";width: 100%;border-bottom: 1px solid gray;flex-grow: 1;}#sk-container-id-8 div.sk-label:hover label.sk-toggleable__label {background-color: #d4ebff;}#sk-container-id-8 div.sk-serial::before {content: \"\";position: absolute;border-left: 1px solid gray;box-sizing: border-box;top: 0;bottom: 0;left: 50%;z-index: 0;}#sk-container-id-8 div.sk-serial {display: flex;flex-direction: column;align-items: center;background-color: white;padding-right: 0.2em;padding-left: 0.2em;position: relative;}#sk-container-id-8 div.sk-item {position: relative;z-index: 1;}#sk-container-id-8 div.sk-parallel {display: flex;align-items: stretch;justify-content: center;background-color: white;position: relative;}#sk-container-id-8 div.sk-item::before, #sk-container-id-8 div.sk-parallel-item::before {content: \"\";position: absolute;border-left: 1px solid gray;box-sizing: border-box;top: 0;bottom: 0;left: 50%;z-index: -1;}#sk-container-id-8 div.sk-parallel-item {display: flex;flex-direction: column;z-index: 1;position: relative;background-color: white;}#sk-container-id-8 div.sk-parallel-item:first-child::after {align-self: flex-end;width: 50%;}#sk-container-id-8 div.sk-parallel-item:last-child::after {align-self: flex-start;width: 50%;}#sk-container-id-8 div.sk-parallel-item:only-child::after {width: 0;}#sk-container-id-8 div.sk-dashed-wrapped {border: 1px dashed gray;margin: 0 0.4em 0.5em 0.4em;box-sizing: border-box;padding-bottom: 0.4em;background-color: white;}#sk-container-id-8 div.sk-label label {font-family: monospace;font-weight: bold;display: inline-block;line-height: 1.2em;}#sk-container-id-8 div.sk-label-container {text-align: center;}#sk-container-id-8 div.sk-container {/* jupyter's `normalize.less` sets `[hidden] { display: none; }` but bootstrap.min.css set `[hidden] { display: none !important; }` so we also need the `!important` here to be able to override the default hidden behavior on the sphinx rendered scikit-learn.org. See: https://github.com/scikit-learn/scikit-learn/issues/21755 */display: inline-block !important;position: relative;}#sk-container-id-8 div.sk-text-repr-fallback {display: none;}</style><div id=\"sk-container-id-8\" class=\"sk-top-container\"><div class=\"sk-text-repr-fallback\"><pre>KMeans(random_state=42)</pre><b>In a Jupyter environment, please rerun this cell to show the HTML representation or trust the notebook. <br />On GitHub, the HTML representation is unable to render, please try loading this page with nbviewer.org.</b></div><div class=\"sk-container\" hidden><div class=\"sk-item\"><div class=\"sk-estimator sk-toggleable\"><input class=\"sk-toggleable__control sk-hidden--visually\" id=\"sk-estimator-id-8\" type=\"checkbox\" checked><label for=\"sk-estimator-id-8\" class=\"sk-toggleable__label sk-toggleable__label-arrow\">KMeans</label><div class=\"sk-toggleable__content\"><pre>KMeans(random_state=42)</pre></div></div></div></div></div>"
            ],
            "text/plain": [
              "KMeans(random_state=42)"
            ]
          },
          "execution_count": 4,
          "metadata": {},
          "output_type": "execute_result"
        },
        {
          "data": {
            "text/html": [
              "<style>#sk-container-id-9 {color: black;background-color: white;}#sk-container-id-9 pre{padding: 0;}#sk-container-id-9 div.sk-toggleable {background-color: white;}#sk-container-id-9 label.sk-toggleable__label {cursor: pointer;display: block;width: 100%;margin-bottom: 0;padding: 0.3em;box-sizing: border-box;text-align: center;}#sk-container-id-9 label.sk-toggleable__label-arrow:before {content: \"▸\";float: left;margin-right: 0.25em;color: #696969;}#sk-container-id-9 label.sk-toggleable__label-arrow:hover:before {color: black;}#sk-container-id-9 div.sk-estimator:hover label.sk-toggleable__label-arrow:before {color: black;}#sk-container-id-9 div.sk-toggleable__content {max-height: 0;max-width: 0;overflow: hidden;text-align: left;background-color: #f0f8ff;}#sk-container-id-9 div.sk-toggleable__content pre {margin: 0.2em;color: black;border-radius: 0.25em;background-color: #f0f8ff;}#sk-container-id-9 input.sk-toggleable__control:checked~div.sk-toggleable__content {max-height: 200px;max-width: 100%;overflow: auto;}#sk-container-id-9 input.sk-toggleable__control:checked~label.sk-toggleable__label-arrow:before {content: \"▾\";}#sk-container-id-9 div.sk-estimator input.sk-toggleable__control:checked~label.sk-toggleable__label {background-color: #d4ebff;}#sk-container-id-9 div.sk-label input.sk-toggleable__control:checked~label.sk-toggleable__label {background-color: #d4ebff;}#sk-container-id-9 input.sk-hidden--visually {border: 0;clip: rect(1px 1px 1px 1px);clip: rect(1px, 1px, 1px, 1px);height: 1px;margin: -1px;overflow: hidden;padding: 0;position: absolute;width: 1px;}#sk-container-id-9 div.sk-estimator {font-family: monospace;background-color: #f0f8ff;border: 1px dotted black;border-radius: 0.25em;box-sizing: border-box;margin-bottom: 0.5em;}#sk-container-id-9 div.sk-estimator:hover {background-color: #d4ebff;}#sk-container-id-9 div.sk-parallel-item::after {content: \"\";width: 100%;border-bottom: 1px solid gray;flex-grow: 1;}#sk-container-id-9 div.sk-label:hover label.sk-toggleable__label {background-color: #d4ebff;}#sk-container-id-9 div.sk-serial::before {content: \"\";position: absolute;border-left: 1px solid gray;box-sizing: border-box;top: 0;bottom: 0;left: 50%;z-index: 0;}#sk-container-id-9 div.sk-serial {display: flex;flex-direction: column;align-items: center;background-color: white;padding-right: 0.2em;padding-left: 0.2em;position: relative;}#sk-container-id-9 div.sk-item {position: relative;z-index: 1;}#sk-container-id-9 div.sk-parallel {display: flex;align-items: stretch;justify-content: center;background-color: white;position: relative;}#sk-container-id-9 div.sk-item::before, #sk-container-id-9 div.sk-parallel-item::before {content: \"\";position: absolute;border-left: 1px solid gray;box-sizing: border-box;top: 0;bottom: 0;left: 50%;z-index: -1;}#sk-container-id-9 div.sk-parallel-item {display: flex;flex-direction: column;z-index: 1;position: relative;background-color: white;}#sk-container-id-9 div.sk-parallel-item:first-child::after {align-self: flex-end;width: 50%;}#sk-container-id-9 div.sk-parallel-item:last-child::after {align-self: flex-start;width: 50%;}#sk-container-id-9 div.sk-parallel-item:only-child::after {width: 0;}#sk-container-id-9 div.sk-dashed-wrapped {border: 1px dashed gray;margin: 0 0.4em 0.5em 0.4em;box-sizing: border-box;padding-bottom: 0.4em;background-color: white;}#sk-container-id-9 div.sk-label label {font-family: monospace;font-weight: bold;display: inline-block;line-height: 1.2em;}#sk-container-id-9 div.sk-label-container {text-align: center;}#sk-container-id-9 div.sk-container {/* jupyter's `normalize.less` sets `[hidden] { display: none; }` but bootstrap.min.css set `[hidden] { display: none !important; }` so we also need the `!important` here to be able to override the default hidden behavior on the sphinx rendered scikit-learn.org. See: https://github.com/scikit-learn/scikit-learn/issues/21755 */display: inline-block !important;position: relative;}#sk-container-id-9 div.sk-text-repr-fallback {display: none;}</style><div id=\"sk-container-id-9\" class=\"sk-top-container\"><div class=\"sk-text-repr-fallback\"><pre>KMeans(n_clusters=9, random_state=42)</pre><b>In a Jupyter environment, please rerun this cell to show the HTML representation or trust the notebook. <br />On GitHub, the HTML representation is unable to render, please try loading this page with nbviewer.org.</b></div><div class=\"sk-container\" hidden><div class=\"sk-item\"><div class=\"sk-estimator sk-toggleable\"><input class=\"sk-toggleable__control sk-hidden--visually\" id=\"sk-estimator-id-9\" type=\"checkbox\" checked><label for=\"sk-estimator-id-9\" class=\"sk-toggleable__label sk-toggleable__label-arrow\">KMeans</label><div class=\"sk-toggleable__content\"><pre>KMeans(n_clusters=9, random_state=42)</pre></div></div></div></div></div>"
            ],
            "text/plain": [
              "KMeans(n_clusters=9, random_state=42)"
            ]
          },
          "execution_count": 4,
          "metadata": {},
          "output_type": "execute_result"
        },
        {
          "data": {
            "text/html": [
              "<style>#sk-container-id-10 {color: black;background-color: white;}#sk-container-id-10 pre{padding: 0;}#sk-container-id-10 div.sk-toggleable {background-color: white;}#sk-container-id-10 label.sk-toggleable__label {cursor: pointer;display: block;width: 100%;margin-bottom: 0;padding: 0.3em;box-sizing: border-box;text-align: center;}#sk-container-id-10 label.sk-toggleable__label-arrow:before {content: \"▸\";float: left;margin-right: 0.25em;color: #696969;}#sk-container-id-10 label.sk-toggleable__label-arrow:hover:before {color: black;}#sk-container-id-10 div.sk-estimator:hover label.sk-toggleable__label-arrow:before {color: black;}#sk-container-id-10 div.sk-toggleable__content {max-height: 0;max-width: 0;overflow: hidden;text-align: left;background-color: #f0f8ff;}#sk-container-id-10 div.sk-toggleable__content pre {margin: 0.2em;color: black;border-radius: 0.25em;background-color: #f0f8ff;}#sk-container-id-10 input.sk-toggleable__control:checked~div.sk-toggleable__content {max-height: 200px;max-width: 100%;overflow: auto;}#sk-container-id-10 input.sk-toggleable__control:checked~label.sk-toggleable__label-arrow:before {content: \"▾\";}#sk-container-id-10 div.sk-estimator input.sk-toggleable__control:checked~label.sk-toggleable__label {background-color: #d4ebff;}#sk-container-id-10 div.sk-label input.sk-toggleable__control:checked~label.sk-toggleable__label {background-color: #d4ebff;}#sk-container-id-10 input.sk-hidden--visually {border: 0;clip: rect(1px 1px 1px 1px);clip: rect(1px, 1px, 1px, 1px);height: 1px;margin: -1px;overflow: hidden;padding: 0;position: absolute;width: 1px;}#sk-container-id-10 div.sk-estimator {font-family: monospace;background-color: #f0f8ff;border: 1px dotted black;border-radius: 0.25em;box-sizing: border-box;margin-bottom: 0.5em;}#sk-container-id-10 div.sk-estimator:hover {background-color: #d4ebff;}#sk-container-id-10 div.sk-parallel-item::after {content: \"\";width: 100%;border-bottom: 1px solid gray;flex-grow: 1;}#sk-container-id-10 div.sk-label:hover label.sk-toggleable__label {background-color: #d4ebff;}#sk-container-id-10 div.sk-serial::before {content: \"\";position: absolute;border-left: 1px solid gray;box-sizing: border-box;top: 0;bottom: 0;left: 50%;z-index: 0;}#sk-container-id-10 div.sk-serial {display: flex;flex-direction: column;align-items: center;background-color: white;padding-right: 0.2em;padding-left: 0.2em;position: relative;}#sk-container-id-10 div.sk-item {position: relative;z-index: 1;}#sk-container-id-10 div.sk-parallel {display: flex;align-items: stretch;justify-content: center;background-color: white;position: relative;}#sk-container-id-10 div.sk-item::before, #sk-container-id-10 div.sk-parallel-item::before {content: \"\";position: absolute;border-left: 1px solid gray;box-sizing: border-box;top: 0;bottom: 0;left: 50%;z-index: -1;}#sk-container-id-10 div.sk-parallel-item {display: flex;flex-direction: column;z-index: 1;position: relative;background-color: white;}#sk-container-id-10 div.sk-parallel-item:first-child::after {align-self: flex-end;width: 50%;}#sk-container-id-10 div.sk-parallel-item:last-child::after {align-self: flex-start;width: 50%;}#sk-container-id-10 div.sk-parallel-item:only-child::after {width: 0;}#sk-container-id-10 div.sk-dashed-wrapped {border: 1px dashed gray;margin: 0 0.4em 0.5em 0.4em;box-sizing: border-box;padding-bottom: 0.4em;background-color: white;}#sk-container-id-10 div.sk-label label {font-family: monospace;font-weight: bold;display: inline-block;line-height: 1.2em;}#sk-container-id-10 div.sk-label-container {text-align: center;}#sk-container-id-10 div.sk-container {/* jupyter's `normalize.less` sets `[hidden] { display: none; }` but bootstrap.min.css set `[hidden] { display: none !important; }` so we also need the `!important` here to be able to override the default hidden behavior on the sphinx rendered scikit-learn.org. See: https://github.com/scikit-learn/scikit-learn/issues/21755 */display: inline-block !important;position: relative;}#sk-container-id-10 div.sk-text-repr-fallback {display: none;}</style><div id=\"sk-container-id-10\" class=\"sk-top-container\"><div class=\"sk-text-repr-fallback\"><pre>KMeans(n_clusters=10, random_state=42)</pre><b>In a Jupyter environment, please rerun this cell to show the HTML representation or trust the notebook. <br />On GitHub, the HTML representation is unable to render, please try loading this page with nbviewer.org.</b></div><div class=\"sk-container\" hidden><div class=\"sk-item\"><div class=\"sk-estimator sk-toggleable\"><input class=\"sk-toggleable__control sk-hidden--visually\" id=\"sk-estimator-id-10\" type=\"checkbox\" checked><label for=\"sk-estimator-id-10\" class=\"sk-toggleable__label sk-toggleable__label-arrow\">KMeans</label><div class=\"sk-toggleable__content\"><pre>KMeans(n_clusters=10, random_state=42)</pre></div></div></div></div></div>"
            ],
            "text/plain": [
              "KMeans(n_clusters=10, random_state=42)"
            ]
          },
          "execution_count": 4,
          "metadata": {},
          "output_type": "execute_result"
        },
        {
          "data": {
            "text/html": [
              "<style>#sk-container-id-11 {color: black;background-color: white;}#sk-container-id-11 pre{padding: 0;}#sk-container-id-11 div.sk-toggleable {background-color: white;}#sk-container-id-11 label.sk-toggleable__label {cursor: pointer;display: block;width: 100%;margin-bottom: 0;padding: 0.3em;box-sizing: border-box;text-align: center;}#sk-container-id-11 label.sk-toggleable__label-arrow:before {content: \"▸\";float: left;margin-right: 0.25em;color: #696969;}#sk-container-id-11 label.sk-toggleable__label-arrow:hover:before {color: black;}#sk-container-id-11 div.sk-estimator:hover label.sk-toggleable__label-arrow:before {color: black;}#sk-container-id-11 div.sk-toggleable__content {max-height: 0;max-width: 0;overflow: hidden;text-align: left;background-color: #f0f8ff;}#sk-container-id-11 div.sk-toggleable__content pre {margin: 0.2em;color: black;border-radius: 0.25em;background-color: #f0f8ff;}#sk-container-id-11 input.sk-toggleable__control:checked~div.sk-toggleable__content {max-height: 200px;max-width: 100%;overflow: auto;}#sk-container-id-11 input.sk-toggleable__control:checked~label.sk-toggleable__label-arrow:before {content: \"▾\";}#sk-container-id-11 div.sk-estimator input.sk-toggleable__control:checked~label.sk-toggleable__label {background-color: #d4ebff;}#sk-container-id-11 div.sk-label input.sk-toggleable__control:checked~label.sk-toggleable__label {background-color: #d4ebff;}#sk-container-id-11 input.sk-hidden--visually {border: 0;clip: rect(1px 1px 1px 1px);clip: rect(1px, 1px, 1px, 1px);height: 1px;margin: -1px;overflow: hidden;padding: 0;position: absolute;width: 1px;}#sk-container-id-11 div.sk-estimator {font-family: monospace;background-color: #f0f8ff;border: 1px dotted black;border-radius: 0.25em;box-sizing: border-box;margin-bottom: 0.5em;}#sk-container-id-11 div.sk-estimator:hover {background-color: #d4ebff;}#sk-container-id-11 div.sk-parallel-item::after {content: \"\";width: 100%;border-bottom: 1px solid gray;flex-grow: 1;}#sk-container-id-11 div.sk-label:hover label.sk-toggleable__label {background-color: #d4ebff;}#sk-container-id-11 div.sk-serial::before {content: \"\";position: absolute;border-left: 1px solid gray;box-sizing: border-box;top: 0;bottom: 0;left: 50%;z-index: 0;}#sk-container-id-11 div.sk-serial {display: flex;flex-direction: column;align-items: center;background-color: white;padding-right: 0.2em;padding-left: 0.2em;position: relative;}#sk-container-id-11 div.sk-item {position: relative;z-index: 1;}#sk-container-id-11 div.sk-parallel {display: flex;align-items: stretch;justify-content: center;background-color: white;position: relative;}#sk-container-id-11 div.sk-item::before, #sk-container-id-11 div.sk-parallel-item::before {content: \"\";position: absolute;border-left: 1px solid gray;box-sizing: border-box;top: 0;bottom: 0;left: 50%;z-index: -1;}#sk-container-id-11 div.sk-parallel-item {display: flex;flex-direction: column;z-index: 1;position: relative;background-color: white;}#sk-container-id-11 div.sk-parallel-item:first-child::after {align-self: flex-end;width: 50%;}#sk-container-id-11 div.sk-parallel-item:last-child::after {align-self: flex-start;width: 50%;}#sk-container-id-11 div.sk-parallel-item:only-child::after {width: 0;}#sk-container-id-11 div.sk-dashed-wrapped {border: 1px dashed gray;margin: 0 0.4em 0.5em 0.4em;box-sizing: border-box;padding-bottom: 0.4em;background-color: white;}#sk-container-id-11 div.sk-label label {font-family: monospace;font-weight: bold;display: inline-block;line-height: 1.2em;}#sk-container-id-11 div.sk-label-container {text-align: center;}#sk-container-id-11 div.sk-container {/* jupyter's `normalize.less` sets `[hidden] { display: none; }` but bootstrap.min.css set `[hidden] { display: none !important; }` so we also need the `!important` here to be able to override the default hidden behavior on the sphinx rendered scikit-learn.org. See: https://github.com/scikit-learn/scikit-learn/issues/21755 */display: inline-block !important;position: relative;}#sk-container-id-11 div.sk-text-repr-fallback {display: none;}</style><div id=\"sk-container-id-11\" class=\"sk-top-container\"><div class=\"sk-text-repr-fallback\"><pre>KElbowVisualizer(ax=&lt;Axes: &gt;, estimator=KMeans(n_clusters=10, random_state=42),\n",
              "                 k=(1, 11))</pre><b>In a Jupyter environment, please rerun this cell to show the HTML representation or trust the notebook. <br />On GitHub, the HTML representation is unable to render, please try loading this page with nbviewer.org.</b></div><div class=\"sk-container\" hidden><div class=\"sk-item sk-dashed-wrapped\"><div class=\"sk-label-container\"><div class=\"sk-label sk-toggleable\"><input class=\"sk-toggleable__control sk-hidden--visually\" id=\"sk-estimator-id-11\" type=\"checkbox\" ><label for=\"sk-estimator-id-11\" class=\"sk-toggleable__label sk-toggleable__label-arrow\">KElbowVisualizer</label><div class=\"sk-toggleable__content\"><pre>KElbowVisualizer(ax=&lt;Axes: &gt;, estimator=KMeans(n_clusters=10, random_state=42),\n",
              "                 k=(1, 11))</pre></div></div></div><div class=\"sk-parallel\"><div class=\"sk-parallel-item\"><div class=\"sk-item\"><div class=\"sk-label-container\"><div class=\"sk-label sk-toggleable\"><input class=\"sk-toggleable__control sk-hidden--visually\" id=\"sk-estimator-id-12\" type=\"checkbox\" ><label for=\"sk-estimator-id-12\" class=\"sk-toggleable__label sk-toggleable__label-arrow\">estimator: KMeans</label><div class=\"sk-toggleable__content\"><pre>KMeans(n_clusters=10, random_state=42)</pre></div></div></div><div class=\"sk-serial\"><div class=\"sk-item\"><div class=\"sk-estimator sk-toggleable\"><input class=\"sk-toggleable__control sk-hidden--visually\" id=\"sk-estimator-id-13\" type=\"checkbox\" ><label for=\"sk-estimator-id-13\" class=\"sk-toggleable__label sk-toggleable__label-arrow\">KMeans</label><div class=\"sk-toggleable__content\"><pre>KMeans(n_clusters=10, random_state=42)</pre></div></div></div></div></div></div></div></div></div></div>"
            ],
            "text/plain": [
              "KElbowVisualizer(ax=<Axes: >, estimator=KMeans(n_clusters=10, random_state=42),\n",
              "                 k=(1, 11))"
            ]
          },
          "execution_count": 4,
          "metadata": {},
          "output_type": "execute_result"
        },
        {
          "data": {
            "image/png": "[encoded data removed]",
            "text/plain": [
              "<Figure size 800x550 with 2 Axes>"
            ]
          },
          "metadata": {},
          "output_type": "display_data"
        },
        {
          "data": {
            "text/plain": [
              "<Axes: title={'center': 'Distortion Score Elbow for KMeans Clustering'}, xlabel='k', ylabel='distortion score'>"
            ]
          },
          "execution_count": 4,
          "metadata": {},
          "output_type": "execute_result"
        }
      ],
      "source": [
        "import matplotlib.pyplot as plt\n",
        "from sklearn.cluster import KMeans\n",
        "from yellowbrick.cluster import KElbowVisualizer\n",
        "\n",
        "features = ['CVDCRHD4',\n",
        " '_MICHD',\n",
        " 'CVDSTRK3',\n",
        " 'CVDINFR4',\n",
        " 'ALCDAY5',\n",
        " 'AVEDRNK2',\n",
        " 'BEANDAY_',\n",
        " 'BLOODCHO',\n",
        " 'BPHIGH4',\n",
        " 'BPMEDS',\n",
        " 'CHCSCNCR',\n",
        " 'CHOLCHK',\n",
        " 'DIABETE3',\n",
        " 'DRNKANY5',\n",
        " 'DROCDY3_',\n",
        " 'EDUCA',\n",
        " 'EXERANY2',\n",
        " 'EXERHMM1',\n",
        " 'EXERHMM2',\n",
        " 'EXEROFT1']\n",
        "#features = ['SEX', 'EXERANY2', '_RFBING5', '_RFDRHV5', '_VEGLT1', 'BPHIGH4',\n",
        " #      'BPMEDS', 'BLOODCHO', 'CHOLCHK', 'TOLDHI2', 'CVDCRHD4', 'CVDSTRK3',\n",
        "  #     '_MICHD', 'CHCSCNCR', 'DIABETE3', 'SMOKE100', 'SMOKDAY2', 'USENOW3','CVDINFR4',\n",
        "   #    '_SMOKER3', '_RFSMOK3']\n",
        "daf = df[features]\n",
        "\n",
        "# Standardize the data\n",
        "df_std = (daf - daf.mean()) / daf.std()\n",
        "\n",
        "# Apply PCA to reduce dimensionality\n",
        "pca = PCA(n_components=2)\n",
        "df_pca = pd.DataFrame(pca.fit_transform(df_std), columns=['PC1', 'PC2'])\n",
        "\n",
        "# Determine the optimal number of clusters using elbow method\n",
        "wcss = []\n",
        "for i in range(1, 11):\n",
        "    kmeans = KMeans(n_clusters=i, init='k-means++', random_state=42)\n",
        "    kmeans.fit(df_pca)\n",
        "    wcss.append(kmeans.inertia_)\n",
        "\n",
        "visualizer = KElbowVisualizer(kmeans, k=(1, 11))\n",
        "\n",
        "# Fit the data to the visualizer\n",
        "visualizer.fit(df_pca)\n",
        "\n",
        "# Visualize the elbow curve\n",
        "visualizer.show()"
      ]
    },
    {
      "cell_type": "code",
      "execution_count": 5,
      "id": "d6750b1d",
      "metadata": {
        "gather": {
          "logged": 1685113061970
        }
      },
      "outputs": [
        {
          "data": {
            "text/plain": [
              "<matplotlib.collections.PathCollection at 0x27950e877c0>"
            ]
          },
          "execution_count": 5,
          "metadata": {},
          "output_type": "execute_result"
        },
        {
          "data": {
            "text/plain": [
              "Text(0.5, 0, 'PC1')"
            ]
          },
          "execution_count": 5,
          "metadata": {},
          "output_type": "execute_result"
        },
        {
          "data": {
            "text/plain": [
              "Text(0, 0.5, 'PC2')"
            ]
          },
          "execution_count": 5,
          "metadata": {},
          "output_type": "execute_result"
        },
        {
          "data": {
            "text/plain": [
              "Text(0.5, 1.0, 'Behavioral Segmentation Clustering')"
            ]
          },
          "execution_count": 5,
          "metadata": {},
          "output_type": "execute_result"
        },
        {
          "data": {
            "image/png": "[encoded data removed]",
            "text/plain": [
              "<Figure size 800x550 with 1 Axes>"
            ]
          },
          "metadata": {},
          "output_type": "display_data"
        }
      ],
      "source": [
        "kmeans = KMeans(n_clusters=3, init='k-means++', random_state=42)\n",
        "kmodel = kmeans.fit_predict(df_pca)\n",
        "\n",
        "# Visualize the clusters\n",
        "plt.scatter(df_pca['PC1'], df_pca['PC2'], c=kmodel, cmap='viridis')\n",
        "plt.xlabel('PC1')\n",
        "plt.ylabel('PC2')\n",
        "plt.title('Behavioral Segmentation Clustering')\n",
        "plt.show()"
      ]
    },
    {
      "cell_type": "code",
      "execution_count": null,
      "id": "fc7e3035",
      "metadata": {},
      "outputs": [
        {
          "name": "stdout",
          "output_type": "stream",
          "text": [
            "Cluster Sizes:\n",
            "Cluster 0: 210286\n",
            "Cluster 1: 193760\n",
            "Cluster 2: 37410\n",
            "\n",
            "Cluster Means:\n",
            "         CVDCRHD4    _MICHD  CVDSTRK3  CVDINFR4     ALCDAY5  AVEDRNK2  \\\n",
            "cluster                                                                 \n",
            "0        1.998640  1.997342  1.974977  2.037073   11.489557  1.041077   \n",
            "1        1.999510  1.996573  1.992625  2.007984  171.652864  2.124086   \n",
            "2        1.334162  1.000000  1.843678  1.341754   60.995563  1.298316   \n",
            "\n",
            "          BEANDAY_  BLOODCHO   BPHIGH4    BPMEDS  CHCSCNCR   CHOLCHK  \\\n",
            "cluster                                                                \n",
            "0        23.850689  1.282896  2.119228  1.066666  1.917831  1.251229   \n",
            "1        27.421227  1.221589  2.413641  1.065586  1.907509  1.408232   \n",
            "2        24.611815  1.078134  1.489495  1.056295  1.824218  1.111735   \n",
            "\n",
            "         DIABETE3  DRNKANY5   DROCDY3_     EDUCA  EXERANY2   EXERHMM1  \\\n",
            "cluster                                                                 \n",
            "0        2.675043  1.910722  87.790048  4.650119  1.338168  52.351360   \n",
            "1        2.905564  1.057158  30.720768  5.243017  1.118631  93.797285   \n",
            "2        2.363860  1.653381  48.218391  4.619888  1.356750  61.025448   \n",
            "\n",
            "          EXERHMM2    EXEROFT1  \n",
            "cluster                         \n",
            "0        46.330997  116.834744  \n",
            "1        85.226533  133.928675  \n",
            "2        57.199145  123.391339  \n"
          ]
        },
        {
          "data": {
            "application/vnd.jupyter.widget-view+json": {
              "model_id": "39d02a67c05040babba492ece6a71e0a",
              "version_major": 2,
              "version_minor": 0
            },
            "text/plain": [
              "Summarize dataset:   0%|          | 0/5 [00:00<?, ?it/s]"
            ]
          },
          "metadata": {},
          "output_type": "display_data"
        },
        {
          "data": {
            "application/vnd.jupyter.widget-view+json": {
              "model_id": "350875952af34e478cab496b4495a43d",
              "version_major": 2,
              "version_minor": 0
            },
            "text/plain": [
              "Generate report structure:   0%|          | 0/1 [00:00<?, ?it/s]"
            ]
          },
          "metadata": {},
          "output_type": "display_data"
        },
        {
          "data": {
            "application/vnd.jupyter.widget-view+json": {
              "model_id": "c8d374ce5ce3406fa80da41db0bce3db",
              "version_major": 2,
              "version_minor": 0
            },
            "text/plain": [
              "Render HTML:   0%|          | 0/1 [00:00<?, ?it/s]"
            ]
          },
          "metadata": {},
          "output_type": "display_data"
        },
        {
          "data": {
            "application/vnd.jupyter.widget-view+json": {
              "model_id": "af2ae1b659bd45d29c60848fcf5f87f6",
              "version_major": 2,
              "version_minor": 0
            },
            "text/plain": [
              "Export report to file:   0%|          | 0/1 [00:00<?, ?it/s]"
            ]
          },
          "metadata": {},
          "output_type": "display_data"
        },
        {
          "data": {
            "application/vnd.jupyter.widget-view+json": {
              "model_id": "5fdb999498c84a82a721a6a6ce74536e",
              "version_major": 2,
              "version_minor": 0
            },
            "text/plain": [
              "Summarize dataset:   0%|          | 0/5 [00:00<?, ?it/s]"
            ]
          },
          "metadata": {},
          "output_type": "display_data"
        },
        {
          "data": {
            "application/vnd.jupyter.widget-view+json": {
              "model_id": "b1ef9666cf784110a7c361ecaafab6a2",
              "version_major": 2,
              "version_minor": 0
            },
            "text/plain": [
              "Generate report structure:   0%|          | 0/1 [00:00<?, ?it/s]"
            ]
          },
          "metadata": {},
          "output_type": "display_data"
        },
        {
          "data": {
            "application/vnd.jupyter.widget-view+json": {
              "model_id": "526eb7c50939447bb5d0a1e33d638fcd",
              "version_major": 2,
              "version_minor": 0
            },
            "text/plain": [
              "Render HTML:   0%|          | 0/1 [00:00<?, ?it/s]"
            ]
          },
          "metadata": {},
          "output_type": "display_data"
        },
        {
          "data": {
            "application/vnd.jupyter.widget-view+json": {
              "model_id": "81d1f085e13e4c49b04461ebefc5fe00",
              "version_major": 2,
              "version_minor": 0
            },
            "text/plain": [
              "Export report to file:   0%|          | 0/1 [00:00<?, ?it/s]"
            ]
          },
          "metadata": {},
          "output_type": "display_data"
        },
        {
          "data": {
            "application/vnd.jupyter.widget-view+json": {
              "model_id": "121b3b6ad2fb49fa9801b724b26ae954",
              "version_major": 2,
              "version_minor": 0
            },
            "text/plain": [
              "Summarize dataset:   0%|          | 0/5 [00:00<?, ?it/s]"
            ]
          },
          "metadata": {},
          "output_type": "display_data"
        },
        {
          "data": {
            "application/vnd.jupyter.widget-view+json": {
              "model_id": "cb63671a3f5d4a56a3cfc93828cb600c",
              "version_major": 2,
              "version_minor": 0
            },
            "text/plain": [
              "Generate report structure:   0%|          | 0/1 [00:00<?, ?it/s]"
            ]
          },
          "metadata": {},
          "output_type": "display_data"
        },
        {
          "data": {
            "application/vnd.jupyter.widget-view+json": {
              "model_id": "5126acb9813a430cae2841c2d5d51af5",
              "version_major": 2,
              "version_minor": 0
            },
            "text/plain": [
              "Render HTML:   0%|          | 0/1 [00:00<?, ?it/s]"
            ]
          },
          "metadata": {},
          "output_type": "display_data"
        },
        {
          "data": {
            "application/vnd.jupyter.widget-view+json": {
              "model_id": "b21ab9c99df94dfe9755281155f09e5e",
              "version_major": 2,
              "version_minor": 0
            },
            "text/plain": [
              "Export report to file:   0%|          | 0/1 [00:00<?, ?it/s]"
            ]
          },
          "metadata": {},
          "output_type": "display_data"
        }
      ],
      "source": [
        "# Create a new dataframe with the original features and the cluster labels\n",
        "clustered_data = pd.concat([daf.reset_index(drop=True), pd.DataFrame({'cluster': kmeans.labels_})], axis=1)\n",
        "\n",
        "# Calculate the size of each cluster\n",
        "cluster_sizes = clustered_data['cluster'].value_counts().sort_index()\n",
        "\n",
        "# Print the size of each cluster\n",
        "print('Cluster Sizes:')\n",
        "for i in range(len(cluster_sizes)):\n",
        "    print(f'Cluster {i}: {cluster_sizes[i]}')\n",
        "\n",
        "# Calculate the mean values of each feature for each cluster\n",
        "cluster_means = clustered_data.groupby('cluster').mean()\n",
        "\n",
        "# Print the mean values of each feature for each cluster\n",
        "print('\\nCluster Means:')\n",
        "print(cluster_means)\n",
        "\n",
        "for i in range(kmeans.n_clusters):\n",
        "    cluster = clustered_data.loc[clustered_data['cluster'] == i]\n",
        "    profile = ProfileReport(cluster, title=f\"Cluster {i} Profile Report\", explorative=True)\n",
        "    profile.to_file(f\"Heart_clustering_{i}_profile.html\")"
      ]
    },
    {
      "cell_type": "code",
      "execution_count": 10,
      "id": "83b8e01c",
      "metadata": {
        "gather": {
          "logged": 1685107224130
        }
      },
      "outputs": [
        {
          "data": {
            "text/plain": [
              "DecisionTreeClassifier(ccp_alpha=0.0, class_weight=None, criterion='gini',\n",
              "                       max_depth=None, max_features=None, max_leaf_nodes=None,\n",
              "                       min_impurity_decrease=0.0, min_impurity_split=None,\n",
              "                       min_samples_leaf=1, min_samples_split=2,\n",
              "                       min_weight_fraction_leaf=0.0, presort='deprecated',\n",
              "                       random_state=42, splitter='best')"
            ]
          },
          "execution_count": 10,
          "metadata": {},
          "output_type": "execute_result"
        },
        {
          "name": "stdout",
          "output_type": "stream",
          "text": [
            "Accuracy: 0.8607235083586282\n"
          ]
        }
      ],
      "source": [
        "from sklearn.model_selection import train_test_split\n",
        "from sklearn.metrics import accuracy_score\n",
        "target = ['CVDINFR4','CVDCRHD4','CVDSTRK3','_MICHD']\n",
        "cluster_labels = kmeans.labels_\n",
        "# Split data into training and testing sets\n",
        "X_train, X_test, y_train, y_test = train_test_split(daf.drop(daf[target], axis=1), cluster_labels, test_size=0.2, random_state=42)\n",
        "\n",
        "# Train a classifier on the training set\n",
        "from sklearn.tree import DecisionTreeClassifier\n",
        "clf = DecisionTreeClassifier(random_state=42)\n",
        "clf.fit(X_train, y_train)\n",
        "\n",
        "# Make predictions on the testing set\n",
        "y_pred = clf.predict(X_test)\n",
        "\n",
        "# Evaluate accuracy of predictions\n",
        "acc = accuracy_score(y_test, y_pred)\n",
        "print(f\"Accuracy: {acc}\")"
      ]
    },
    {
      "cell_type": "code",
      "execution_count": 6,
      "id": "c5d73d0b",
      "metadata": {},
      "outputs": [
        {
          "name": "stdout",
          "output_type": "stream",
          "text": [
            "KMeans - Calinski-Harabasz Index:  42656.92537914977\n",
            "KMeans - Davies-Bouldin Index:  2.034382444725976\n"
          ]
        }
      ],
      "source": [
        "from sklearn.metrics import silhouette_score, calinski_harabasz_score, davies_bouldin_score\n",
        "\n",
        "#kmeans_silhouette = silhouette_score(daf, kmodel)\n",
        "kmeans_calinski = calinski_harabasz_score(daf, kmodel)\n",
        "kmeans_davies = davies_bouldin_score(daf, kmodel)\n",
        "\n",
        "#print(\"KMeans - Silhouette Coefficient: \", kmeans_silhouette)\n",
        "print(\"KMeans - Calinski-Harabasz Index: \", kmeans_calinski)\n",
        "print(\"KMeans - Davies-Bouldin Index: \", kmeans_davies)"
      ]
    },
    {
      "attachments": {},
      "cell_type": "markdown",
      "id": "ac254df3",
      "metadata": {},
      "source": [
        "### Disease risk prediction:"
      ]
    },
    {
      "cell_type": "code",
      "execution_count": 6,
      "id": "dacd56d9",
      "metadata": {
        "gather": {
          "logged": 1685113062644
        }
      },
      "outputs": [],
      "source": [
        "# Split data into features (X) and target variable (y)\n",
        "X = daf.drop(['CVDINFR4','CVDCRHD4','CVDSTRK3','_MICHD'], axis=1)\n",
        "y = daf[['CVDINFR4','CVDCRHD4','CVDSTRK3','_MICHD']]\n",
        "\n",
        "\n",
        "# Add the cluster labels as a new column to the DataFrame\n",
        "#cluster_labels = kmeans.labels_\n",
        "#daf['cluster'] = cluster_labels\n"
      ]
    },
    {
      "cell_type": "code",
      "execution_count": 14,
      "id": "fbdda925",
      "metadata": {
        "gather": {
          "logged": 1685113067163
        }
      },
      "outputs": [],
      "source": [
        "from sklearn.model_selection import train_test_split\n",
        "\n",
        "# Split data into training and testing sets\n",
        "X_train, X_test, y_train, y_test = train_test_split(X, y, test_size=0.2, random_state=42)"
      ]
    },
    {
      "cell_type": "code",
      "execution_count": 7,
      "id": "61e79f77-a984-40a7-a96b-744b87f73cb5",
      "metadata": {
        "gather": {
          "logged": 1685113072742
        },
        "jupyter": {
          "outputs_hidden": false,
          "source_hidden": false
        },
        "nteract": {
          "transient": {
            "deleting": false
          }
        }
      },
      "outputs": [
        {
          "name": "stdout",
          "output_type": "stream",
          "text": [
            "Shape of y_train_list: (353164, 4)\n",
            "Shape of y_test_list: (88292, 4)\n"
          ]
        }
      ],
      "source": [
        "# Split data into training and testing sets\n",
        "from sklearn.model_selection import train_test_split\n",
        "X_train, X_test, y_train_list, y_test_list = train_test_split(X, y, test_size=0.2, random_state=42)\n",
        "print(\"Shape of y_train_list:\", y_train_list.shape)\n",
        "print(\"Shape of y_test_list:\", y_test_list.shape)"
      ]
    },
    {
      "cell_type": "code",
      "execution_count": 8,
      "id": "f83318d9",
      "metadata": {},
      "outputs": [],
      "source": [
        "from catboost import CatBoostClassifier\n",
        "# Define the hyperparameters for the CatBoost algorithm\n",
        "params = {'learning_rate': 0.1, 'depth': 6,\\\n",
        "          'l2_leaf_reg': 3, 'iterations': 100}\n",
        "  "
      ]
    },
    {
      "cell_type": "code",
      "execution_count": 9,
      "id": "cd053feb",
      "metadata": {
        "gather": {
          "logged": 1685112190983
        }
      },
      "outputs": [
        {
          "name": "stdout",
          "output_type": "stream",
          "text": [
            "0:\tlearn: 0.9413844\ttotal: 187ms\tremaining: 18.5s\n",
            "1:\tlearn: 0.8239055\ttotal: 234ms\tremaining: 11.5s\n",
            "2:\tlearn: 0.7319910\ttotal: 279ms\tremaining: 9.03s\n",
            "3:\tlearn: 0.6579246\ttotal: 322ms\tremaining: 7.72s\n",
            "4:\tlearn: 0.5972426\ttotal: 364ms\tremaining: 6.92s\n",
            "5:\tlearn: 0.5464340\ttotal: 411ms\tremaining: 6.44s\n",
            "6:\tlearn: 0.5039922\ttotal: 452ms\tremaining: 6s\n",
            "7:\tlearn: 0.4677263\ttotal: 497ms\tremaining: 5.72s\n",
            "8:\tlearn: 0.4368480\ttotal: 539ms\tremaining: 5.45s\n",
            "9:\tlearn: 0.4103353\ttotal: 582ms\tremaining: 5.24s\n",
            "10:\tlearn: 0.3872129\ttotal: 628ms\tremaining: 5.08s\n",
            "11:\tlearn: 0.3672606\ttotal: 676ms\tremaining: 4.96s\n",
            "12:\tlearn: 0.3497277\ttotal: 717ms\tremaining: 4.8s\n",
            "13:\tlearn: 0.3345409\ttotal: 758ms\tremaining: 4.66s\n",
            "14:\tlearn: 0.3212809\ttotal: 804ms\tremaining: 4.55s\n",
            "15:\tlearn: 0.3095921\ttotal: 845ms\tremaining: 4.44s\n",
            "16:\tlearn: 0.2996759\ttotal: 885ms\tremaining: 4.32s\n",
            "17:\tlearn: 0.2906119\ttotal: 940ms\tremaining: 4.28s\n",
            "18:\tlearn: 0.2827220\ttotal: 989ms\tremaining: 4.21s\n",
            "19:\tlearn: 0.2757876\ttotal: 1.04s\tremaining: 4.14s\n",
            "20:\tlearn: 0.2695482\ttotal: 1.09s\tremaining: 4.09s\n",
            "21:\tlearn: 0.2640729\ttotal: 1.13s\tremaining: 4.01s\n",
            "22:\tlearn: 0.2592238\ttotal: 1.18s\tremaining: 3.95s\n",
            "23:\tlearn: 0.2549924\ttotal: 1.23s\tremaining: 3.88s\n",
            "24:\tlearn: 0.2514992\ttotal: 1.27s\tremaining: 3.81s\n",
            "25:\tlearn: 0.2481565\ttotal: 1.32s\tremaining: 3.75s\n",
            "26:\tlearn: 0.2452598\ttotal: 1.37s\tremaining: 3.69s\n",
            "27:\tlearn: 0.2426757\ttotal: 1.41s\tremaining: 3.63s\n",
            "28:\tlearn: 0.2403796\ttotal: 1.46s\tremaining: 3.57s\n",
            "29:\tlearn: 0.2384308\ttotal: 1.5s\tremaining: 3.51s\n",
            "30:\tlearn: 0.2366848\ttotal: 1.55s\tremaining: 3.45s\n",
            "31:\tlearn: 0.2351335\ttotal: 1.6s\tremaining: 3.41s\n",
            "32:\tlearn: 0.2336465\ttotal: 1.65s\tremaining: 3.35s\n",
            "33:\tlearn: 0.2324037\ttotal: 1.69s\tremaining: 3.29s\n",
            "34:\tlearn: 0.2312893\ttotal: 1.74s\tremaining: 3.23s\n",
            "35:\tlearn: 0.2303089\ttotal: 1.78s\tremaining: 3.16s\n",
            "36:\tlearn: 0.2295175\ttotal: 1.83s\tremaining: 3.12s\n",
            "37:\tlearn: 0.2288287\ttotal: 1.88s\tremaining: 3.07s\n",
            "38:\tlearn: 0.2281285\ttotal: 1.94s\tremaining: 3.03s\n",
            "39:\tlearn: 0.2275132\ttotal: 2s\tremaining: 2.99s\n",
            "40:\tlearn: 0.2269987\ttotal: 2.05s\tremaining: 2.96s\n",
            "41:\tlearn: 0.2265364\ttotal: 2.11s\tremaining: 2.91s\n",
            "42:\tlearn: 0.2261558\ttotal: 2.15s\tremaining: 2.85s\n",
            "43:\tlearn: 0.2257462\ttotal: 2.2s\tremaining: 2.8s\n",
            "44:\tlearn: 0.2253929\ttotal: 2.25s\tremaining: 2.75s\n",
            "45:\tlearn: 0.2250689\ttotal: 2.29s\tremaining: 2.69s\n",
            "46:\tlearn: 0.2247854\ttotal: 2.34s\tremaining: 2.64s\n",
            "47:\tlearn: 0.2245195\ttotal: 2.38s\tremaining: 2.58s\n",
            "48:\tlearn: 0.2242918\ttotal: 2.43s\tremaining: 2.53s\n",
            "49:\tlearn: 0.2241291\ttotal: 2.48s\tremaining: 2.48s\n",
            "50:\tlearn: 0.2240125\ttotal: 2.52s\tremaining: 2.42s\n",
            "51:\tlearn: 0.2238024\ttotal: 2.58s\tremaining: 2.38s\n",
            "52:\tlearn: 0.2236376\ttotal: 2.63s\tremaining: 2.33s\n",
            "53:\tlearn: 0.2234822\ttotal: 2.69s\tremaining: 2.29s\n",
            "54:\tlearn: 0.2233309\ttotal: 2.75s\tremaining: 2.25s\n",
            "55:\tlearn: 0.2232428\ttotal: 2.8s\tremaining: 2.2s\n",
            "56:\tlearn: 0.2231748\ttotal: 2.85s\tremaining: 2.15s\n",
            "57:\tlearn: 0.2230879\ttotal: 2.9s\tremaining: 2.1s\n",
            "58:\tlearn: 0.2230068\ttotal: 2.95s\tremaining: 2.05s\n",
            "59:\tlearn: 0.2229220\ttotal: 3.01s\tremaining: 2.01s\n",
            "60:\tlearn: 0.2228202\ttotal: 3.07s\tremaining: 1.96s\n",
            "61:\tlearn: 0.2227106\ttotal: 3.13s\tremaining: 1.92s\n",
            "62:\tlearn: 0.2226514\ttotal: 3.18s\tremaining: 1.87s\n",
            "63:\tlearn: 0.2226204\ttotal: 3.23s\tremaining: 1.82s\n",
            "64:\tlearn: 0.2225675\ttotal: 3.29s\tremaining: 1.77s\n",
            "65:\tlearn: 0.2225000\ttotal: 3.33s\tremaining: 1.72s\n",
            "66:\tlearn: 0.2224419\ttotal: 3.38s\tremaining: 1.67s\n",
            "67:\tlearn: 0.2224040\ttotal: 3.43s\tremaining: 1.61s\n",
            "68:\tlearn: 0.2223587\ttotal: 3.48s\tremaining: 1.56s\n",
            "69:\tlearn: 0.2223008\ttotal: 3.55s\tremaining: 1.52s\n",
            "70:\tlearn: 0.2222606\ttotal: 3.6s\tremaining: 1.47s\n",
            "71:\tlearn: 0.2222175\ttotal: 3.65s\tremaining: 1.42s\n",
            "72:\tlearn: 0.2221408\ttotal: 3.71s\tremaining: 1.37s\n",
            "73:\tlearn: 0.2221053\ttotal: 3.76s\tremaining: 1.32s\n",
            "74:\tlearn: 0.2220743\ttotal: 3.81s\tremaining: 1.27s\n",
            "75:\tlearn: 0.2220421\ttotal: 3.86s\tremaining: 1.22s\n",
            "76:\tlearn: 0.2219819\ttotal: 3.91s\tremaining: 1.17s\n",
            "77:\tlearn: 0.2219464\ttotal: 3.96s\tremaining: 1.12s\n",
            "78:\tlearn: 0.2219185\ttotal: 4.01s\tremaining: 1.07s\n",
            "79:\tlearn: 0.2218832\ttotal: 4.06s\tremaining: 1.01s\n",
            "80:\tlearn: 0.2218442\ttotal: 4.12s\tremaining: 966ms\n",
            "81:\tlearn: 0.2218172\ttotal: 4.17s\tremaining: 916ms\n",
            "82:\tlearn: 0.2217880\ttotal: 4.23s\tremaining: 867ms\n",
            "83:\tlearn: 0.2217621\ttotal: 4.28s\tremaining: 816ms\n",
            "84:\tlearn: 0.2217185\ttotal: 4.33s\tremaining: 764ms\n",
            "85:\tlearn: 0.2216854\ttotal: 4.38s\tremaining: 713ms\n",
            "86:\tlearn: 0.2216575\ttotal: 4.43s\tremaining: 663ms\n",
            "87:\tlearn: 0.2216479\ttotal: 4.47s\tremaining: 610ms\n",
            "88:\tlearn: 0.2216127\ttotal: 4.52s\tremaining: 559ms\n",
            "89:\tlearn: 0.2215969\ttotal: 4.57s\tremaining: 507ms\n",
            "90:\tlearn: 0.2215797\ttotal: 4.61s\tremaining: 456ms\n",
            "91:\tlearn: 0.2215574\ttotal: 4.65s\tremaining: 405ms\n",
            "92:\tlearn: 0.2215150\ttotal: 4.7s\tremaining: 354ms\n",
            "93:\tlearn: 0.2214998\ttotal: 4.74s\tremaining: 303ms\n",
            "94:\tlearn: 0.2214830\ttotal: 4.78s\tremaining: 252ms\n",
            "95:\tlearn: 0.2214705\ttotal: 4.82s\tremaining: 201ms\n",
            "96:\tlearn: 0.2214458\ttotal: 4.87s\tremaining: 151ms\n",
            "97:\tlearn: 0.2214247\ttotal: 4.91s\tremaining: 100ms\n",
            "98:\tlearn: 0.2213957\ttotal: 4.95s\tremaining: 50ms\n",
            "99:\tlearn: 0.2213851\ttotal: 4.99s\tremaining: 0us\n"
          ]
        },
        {
          "data": {
            "text/plain": [
              "<catboost.core.CatBoostClassifier at 0x27951482b20>"
            ]
          },
          "execution_count": 9,
          "metadata": {},
          "output_type": "execute_result"
        },
        {
          "name": "stdout",
          "output_type": "stream",
          "text": [
            "0:\tlearn: 0.6177511\ttotal: 16.2ms\tremaining: 1.6s\n",
            "1:\tlearn: 0.5563547\ttotal: 32.1ms\tremaining: 1.57s\n",
            "2:\tlearn: 0.5053382\ttotal: 46.5ms\tremaining: 1.5s\n",
            "3:\tlearn: 0.4624037\ttotal: 64.8ms\tremaining: 1.55s\n",
            "4:\tlearn: 0.4260079\ttotal: 81.6ms\tremaining: 1.55s\n",
            "5:\tlearn: 0.3948618\ttotal: 97ms\tremaining: 1.52s\n",
            "6:\tlearn: 0.3683497\ttotal: 112ms\tremaining: 1.49s\n",
            "7:\tlearn: 0.3456162\ttotal: 127ms\tremaining: 1.47s\n",
            "8:\tlearn: 0.3258699\ttotal: 144ms\tremaining: 1.45s\n",
            "9:\tlearn: 0.3087758\ttotal: 163ms\tremaining: 1.47s\n",
            "10:\tlearn: 0.2941165\ttotal: 179ms\tremaining: 1.45s\n",
            "11:\tlearn: 0.2815681\ttotal: 194ms\tremaining: 1.43s\n",
            "12:\tlearn: 0.2701900\ttotal: 211ms\tremaining: 1.41s\n",
            "13:\tlearn: 0.2603762\ttotal: 227ms\tremaining: 1.4s\n",
            "14:\tlearn: 0.2521326\ttotal: 239ms\tremaining: 1.35s\n",
            "15:\tlearn: 0.2445711\ttotal: 258ms\tremaining: 1.35s\n",
            "16:\tlearn: 0.2379944\ttotal: 278ms\tremaining: 1.36s\n",
            "17:\tlearn: 0.2322862\ttotal: 299ms\tremaining: 1.36s\n",
            "18:\tlearn: 0.2274770\ttotal: 314ms\tremaining: 1.34s\n",
            "19:\tlearn: 0.2230443\ttotal: 331ms\tremaining: 1.32s\n",
            "20:\tlearn: 0.2194427\ttotal: 348ms\tremaining: 1.31s\n",
            "21:\tlearn: 0.2160718\ttotal: 365ms\tremaining: 1.29s\n",
            "22:\tlearn: 0.2132015\ttotal: 382ms\tremaining: 1.28s\n",
            "23:\tlearn: 0.2106070\ttotal: 399ms\tremaining: 1.26s\n",
            "24:\tlearn: 0.2082659\ttotal: 416ms\tremaining: 1.25s\n",
            "25:\tlearn: 0.2062952\ttotal: 433ms\tremaining: 1.23s\n",
            "26:\tlearn: 0.2046403\ttotal: 453ms\tremaining: 1.22s\n",
            "27:\tlearn: 0.2031795\ttotal: 473ms\tremaining: 1.22s\n",
            "28:\tlearn: 0.2020485\ttotal: 487ms\tremaining: 1.19s\n",
            "29:\tlearn: 0.2010504\ttotal: 507ms\tremaining: 1.18s\n",
            "30:\tlearn: 0.1999657\ttotal: 529ms\tremaining: 1.18s\n",
            "31:\tlearn: 0.1992032\ttotal: 550ms\tremaining: 1.17s\n",
            "32:\tlearn: 0.1983669\ttotal: 568ms\tremaining: 1.15s\n",
            "33:\tlearn: 0.1975491\ttotal: 587ms\tremaining: 1.14s\n",
            "34:\tlearn: 0.1969509\ttotal: 604ms\tremaining: 1.12s\n",
            "35:\tlearn: 0.1963937\ttotal: 620ms\tremaining: 1.1s\n",
            "36:\tlearn: 0.1958906\ttotal: 636ms\tremaining: 1.08s\n",
            "37:\tlearn: 0.1953978\ttotal: 653ms\tremaining: 1.06s\n",
            "38:\tlearn: 0.1949106\ttotal: 671ms\tremaining: 1.05s\n",
            "39:\tlearn: 0.1946055\ttotal: 688ms\tremaining: 1.03s\n",
            "40:\tlearn: 0.1943330\ttotal: 709ms\tremaining: 1.02s\n",
            "41:\tlearn: 0.1940380\ttotal: 728ms\tremaining: 1s\n",
            "42:\tlearn: 0.1937719\ttotal: 744ms\tremaining: 987ms\n",
            "43:\tlearn: 0.1935344\ttotal: 775ms\tremaining: 986ms\n",
            "44:\tlearn: 0.1933427\ttotal: 790ms\tremaining: 966ms\n",
            "45:\tlearn: 0.1931485\ttotal: 804ms\tremaining: 944ms\n",
            "46:\tlearn: 0.1929912\ttotal: 821ms\tremaining: 926ms\n",
            "47:\tlearn: 0.1928306\ttotal: 838ms\tremaining: 908ms\n",
            "48:\tlearn: 0.1927051\ttotal: 855ms\tremaining: 890ms\n",
            "49:\tlearn: 0.1925782\ttotal: 872ms\tremaining: 872ms\n",
            "50:\tlearn: 0.1924812\ttotal: 889ms\tremaining: 854ms\n",
            "51:\tlearn: 0.1923694\ttotal: 908ms\tremaining: 838ms\n",
            "52:\tlearn: 0.1923036\ttotal: 926ms\tremaining: 821ms\n",
            "53:\tlearn: 0.1922086\ttotal: 944ms\tremaining: 804ms\n",
            "54:\tlearn: 0.1921189\ttotal: 963ms\tremaining: 788ms\n",
            "55:\tlearn: 0.1920555\ttotal: 981ms\tremaining: 770ms\n",
            "56:\tlearn: 0.1919577\ttotal: 997ms\tremaining: 752ms\n",
            "57:\tlearn: 0.1918722\ttotal: 1.02s\tremaining: 738ms\n",
            "58:\tlearn: 0.1918059\ttotal: 1.04s\tremaining: 721ms\n",
            "59:\tlearn: 0.1917391\ttotal: 1.06s\tremaining: 706ms\n",
            "60:\tlearn: 0.1916906\ttotal: 1.08s\tremaining: 691ms\n",
            "61:\tlearn: 0.1916360\ttotal: 1.1s\tremaining: 675ms\n",
            "62:\tlearn: 0.1915576\ttotal: 1.12s\tremaining: 660ms\n",
            "63:\tlearn: 0.1914998\ttotal: 1.14s\tremaining: 644ms\n",
            "64:\tlearn: 0.1914643\ttotal: 1.16s\tremaining: 627ms\n",
            "65:\tlearn: 0.1914409\ttotal: 1.18s\tremaining: 610ms\n",
            "66:\tlearn: 0.1914091\ttotal: 1.2s\tremaining: 592ms\n",
            "67:\tlearn: 0.1913903\ttotal: 1.22s\tremaining: 573ms\n",
            "68:\tlearn: 0.1913579\ttotal: 1.23s\tremaining: 555ms\n",
            "69:\tlearn: 0.1913031\ttotal: 1.26s\tremaining: 539ms\n",
            "70:\tlearn: 0.1912639\ttotal: 1.27s\tremaining: 521ms\n",
            "71:\tlearn: 0.1912336\ttotal: 1.29s\tremaining: 502ms\n",
            "72:\tlearn: 0.1912119\ttotal: 1.31s\tremaining: 484ms\n",
            "73:\tlearn: 0.1911862\ttotal: 1.32s\tremaining: 466ms\n",
            "74:\tlearn: 0.1911541\ttotal: 1.34s\tremaining: 448ms\n",
            "75:\tlearn: 0.1911293\ttotal: 1.36s\tremaining: 429ms\n",
            "76:\tlearn: 0.1910964\ttotal: 1.38s\tremaining: 411ms\n",
            "77:\tlearn: 0.1910800\ttotal: 1.39s\tremaining: 392ms\n",
            "78:\tlearn: 0.1910455\ttotal: 1.41s\tremaining: 374ms\n",
            "79:\tlearn: 0.1910342\ttotal: 1.42s\tremaining: 356ms\n",
            "80:\tlearn: 0.1910169\ttotal: 1.44s\tremaining: 338ms\n",
            "81:\tlearn: 0.1910057\ttotal: 1.46s\tremaining: 320ms\n",
            "82:\tlearn: 0.1909854\ttotal: 1.48s\tremaining: 302ms\n",
            "83:\tlearn: 0.1909522\ttotal: 1.5s\tremaining: 286ms\n",
            "84:\tlearn: 0.1909279\ttotal: 1.52s\tremaining: 268ms\n",
            "85:\tlearn: 0.1909099\ttotal: 1.54s\tremaining: 250ms\n",
            "86:\tlearn: 0.1908876\ttotal: 1.55s\tremaining: 232ms\n",
            "87:\tlearn: 0.1908526\ttotal: 1.58s\tremaining: 215ms\n",
            "88:\tlearn: 0.1908399\ttotal: 1.59s\tremaining: 197ms\n",
            "89:\tlearn: 0.1908182\ttotal: 1.61s\tremaining: 179ms\n",
            "90:\tlearn: 0.1908031\ttotal: 1.63s\tremaining: 161ms\n",
            "91:\tlearn: 0.1907857\ttotal: 1.64s\tremaining: 143ms\n",
            "92:\tlearn: 0.1907636\ttotal: 1.66s\tremaining: 125ms\n",
            "93:\tlearn: 0.1907370\ttotal: 1.67s\tremaining: 107ms\n",
            "94:\tlearn: 0.1907226\ttotal: 1.69s\tremaining: 89ms\n",
            "95:\tlearn: 0.1907139\ttotal: 1.71s\tremaining: 71.1ms\n",
            "96:\tlearn: 0.1906887\ttotal: 1.72s\tremaining: 53.3ms\n",
            "97:\tlearn: 0.1906605\ttotal: 1.74s\tremaining: 35.5ms\n",
            "98:\tlearn: 0.1906471\ttotal: 1.76s\tremaining: 17.7ms\n",
            "99:\tlearn: 0.1906359\ttotal: 1.77s\tremaining: 0us\n"
          ]
        },
        {
          "data": {
            "text/plain": [
              "<catboost.core.CatBoostClassifier at 0x2795049cf10>"
            ]
          },
          "execution_count": 9,
          "metadata": {},
          "output_type": "execute_result"
        },
        {
          "name": "stdout",
          "output_type": "stream",
          "text": [
            "0:\tlearn: 0.9323812\ttotal: 43.9ms\tremaining: 4.35s\n",
            "1:\tlearn: 0.8084544\ttotal: 119ms\tremaining: 5.83s\n",
            "2:\tlearn: 0.7117424\ttotal: 167ms\tremaining: 5.4s\n",
            "3:\tlearn: 0.6338328\ttotal: 214ms\tremaining: 5.13s\n",
            "4:\tlearn: 0.5698498\ttotal: 261ms\tremaining: 4.97s\n",
            "5:\tlearn: 0.5166203\ttotal: 312ms\tremaining: 4.89s\n",
            "6:\tlearn: 0.4716543\ttotal: 363ms\tremaining: 4.82s\n",
            "7:\tlearn: 0.4334057\ttotal: 408ms\tremaining: 4.69s\n",
            "8:\tlearn: 0.4007167\ttotal: 450ms\tremaining: 4.55s\n",
            "9:\tlearn: 0.3724606\ttotal: 495ms\tremaining: 4.46s\n",
            "10:\tlearn: 0.3480422\ttotal: 547ms\tremaining: 4.43s\n",
            "11:\tlearn: 0.3268491\ttotal: 596ms\tremaining: 4.37s\n",
            "12:\tlearn: 0.3084897\ttotal: 646ms\tremaining: 4.32s\n",
            "13:\tlearn: 0.2924721\ttotal: 693ms\tremaining: 4.26s\n",
            "14:\tlearn: 0.2784169\ttotal: 734ms\tremaining: 4.16s\n",
            "15:\tlearn: 0.2659296\ttotal: 784ms\tremaining: 4.12s\n",
            "16:\tlearn: 0.2549576\ttotal: 835ms\tremaining: 4.08s\n",
            "17:\tlearn: 0.2453682\ttotal: 882ms\tremaining: 4.02s\n",
            "18:\tlearn: 0.2369070\ttotal: 933ms\tremaining: 3.98s\n",
            "19:\tlearn: 0.2296580\ttotal: 980ms\tremaining: 3.92s\n",
            "20:\tlearn: 0.2230078\ttotal: 1.03s\tremaining: 3.86s\n",
            "21:\tlearn: 0.2173134\ttotal: 1.07s\tremaining: 3.8s\n",
            "22:\tlearn: 0.2122979\ttotal: 1.12s\tremaining: 3.74s\n",
            "23:\tlearn: 0.2077185\ttotal: 1.17s\tremaining: 3.7s\n",
            "24:\tlearn: 0.2036252\ttotal: 1.22s\tremaining: 3.67s\n",
            "25:\tlearn: 0.2001557\ttotal: 1.26s\tremaining: 3.6s\n",
            "26:\tlearn: 0.1969177\ttotal: 1.31s\tremaining: 3.55s\n",
            "27:\tlearn: 0.1941993\ttotal: 1.37s\tremaining: 3.52s\n",
            "28:\tlearn: 0.1916813\ttotal: 1.45s\tremaining: 3.56s\n",
            "29:\tlearn: 0.1894507\ttotal: 1.52s\tremaining: 3.54s\n",
            "30:\tlearn: 0.1874453\ttotal: 1.57s\tremaining: 3.5s\n",
            "31:\tlearn: 0.1857347\ttotal: 1.62s\tremaining: 3.44s\n",
            "32:\tlearn: 0.1841819\ttotal: 1.67s\tremaining: 3.38s\n",
            "33:\tlearn: 0.1828723\ttotal: 1.72s\tremaining: 3.33s\n",
            "34:\tlearn: 0.1816628\ttotal: 1.77s\tremaining: 3.28s\n",
            "35:\tlearn: 0.1805712\ttotal: 1.81s\tremaining: 3.22s\n",
            "36:\tlearn: 0.1796286\ttotal: 1.87s\tremaining: 3.18s\n",
            "37:\tlearn: 0.1788231\ttotal: 1.93s\tremaining: 3.14s\n",
            "38:\tlearn: 0.1780684\ttotal: 1.98s\tremaining: 3.09s\n",
            "39:\tlearn: 0.1774601\ttotal: 2.02s\tremaining: 3.04s\n",
            "40:\tlearn: 0.1768376\ttotal: 2.07s\tremaining: 2.98s\n",
            "41:\tlearn: 0.1762709\ttotal: 2.12s\tremaining: 2.92s\n",
            "42:\tlearn: 0.1758228\ttotal: 2.16s\tremaining: 2.87s\n",
            "43:\tlearn: 0.1754165\ttotal: 2.21s\tremaining: 2.82s\n",
            "44:\tlearn: 0.1750212\ttotal: 2.26s\tremaining: 2.77s\n",
            "45:\tlearn: 0.1747040\ttotal: 2.31s\tremaining: 2.72s\n",
            "46:\tlearn: 0.1744223\ttotal: 2.36s\tremaining: 2.66s\n",
            "47:\tlearn: 0.1741418\ttotal: 2.42s\tremaining: 2.62s\n",
            "48:\tlearn: 0.1739011\ttotal: 2.47s\tremaining: 2.57s\n",
            "49:\tlearn: 0.1737172\ttotal: 2.52s\tremaining: 2.52s\n",
            "50:\tlearn: 0.1735486\ttotal: 2.57s\tremaining: 2.47s\n",
            "51:\tlearn: 0.1733770\ttotal: 2.62s\tremaining: 2.41s\n",
            "52:\tlearn: 0.1732567\ttotal: 2.66s\tremaining: 2.36s\n",
            "53:\tlearn: 0.1731570\ttotal: 2.7s\tremaining: 2.3s\n",
            "54:\tlearn: 0.1730238\ttotal: 2.75s\tremaining: 2.25s\n",
            "55:\tlearn: 0.1729149\ttotal: 2.79s\tremaining: 2.19s\n",
            "56:\tlearn: 0.1727876\ttotal: 2.84s\tremaining: 2.14s\n",
            "57:\tlearn: 0.1726772\ttotal: 2.89s\tremaining: 2.09s\n",
            "58:\tlearn: 0.1725673\ttotal: 2.95s\tremaining: 2.05s\n",
            "59:\tlearn: 0.1724829\ttotal: 3s\tremaining: 2s\n",
            "60:\tlearn: 0.1723878\ttotal: 3.06s\tremaining: 1.96s\n",
            "61:\tlearn: 0.1723090\ttotal: 3.11s\tremaining: 1.91s\n",
            "62:\tlearn: 0.1722257\ttotal: 3.16s\tremaining: 1.85s\n",
            "63:\tlearn: 0.1721595\ttotal: 3.2s\tremaining: 1.8s\n",
            "64:\tlearn: 0.1721146\ttotal: 3.25s\tremaining: 1.75s\n",
            "65:\tlearn: 0.1720771\ttotal: 3.29s\tremaining: 1.7s\n",
            "66:\tlearn: 0.1720437\ttotal: 3.33s\tremaining: 1.64s\n",
            "67:\tlearn: 0.1720127\ttotal: 3.38s\tremaining: 1.59s\n",
            "68:\tlearn: 0.1719676\ttotal: 3.43s\tremaining: 1.54s\n",
            "69:\tlearn: 0.1719363\ttotal: 3.47s\tremaining: 1.49s\n",
            "70:\tlearn: 0.1719125\ttotal: 3.52s\tremaining: 1.44s\n",
            "71:\tlearn: 0.1718781\ttotal: 3.57s\tremaining: 1.39s\n",
            "72:\tlearn: 0.1718442\ttotal: 3.62s\tremaining: 1.34s\n",
            "73:\tlearn: 0.1717974\ttotal: 3.68s\tremaining: 1.29s\n",
            "74:\tlearn: 0.1717717\ttotal: 3.73s\tremaining: 1.24s\n",
            "75:\tlearn: 0.1717214\ttotal: 3.77s\tremaining: 1.19s\n",
            "76:\tlearn: 0.1716826\ttotal: 3.82s\tremaining: 1.14s\n",
            "77:\tlearn: 0.1716537\ttotal: 3.88s\tremaining: 1.09s\n",
            "78:\tlearn: 0.1716155\ttotal: 3.93s\tremaining: 1.04s\n",
            "79:\tlearn: 0.1715998\ttotal: 3.99s\tremaining: 997ms\n",
            "80:\tlearn: 0.1715806\ttotal: 4.04s\tremaining: 947ms\n",
            "81:\tlearn: 0.1715513\ttotal: 4.08s\tremaining: 896ms\n",
            "82:\tlearn: 0.1715215\ttotal: 4.13s\tremaining: 847ms\n",
            "83:\tlearn: 0.1715000\ttotal: 4.19s\tremaining: 798ms\n",
            "84:\tlearn: 0.1714689\ttotal: 4.24s\tremaining: 748ms\n",
            "85:\tlearn: 0.1714582\ttotal: 4.28s\tremaining: 697ms\n",
            "86:\tlearn: 0.1714398\ttotal: 4.33s\tremaining: 647ms\n",
            "87:\tlearn: 0.1714280\ttotal: 4.37s\tremaining: 596ms\n",
            "88:\tlearn: 0.1714085\ttotal: 4.42s\tremaining: 546ms\n",
            "89:\tlearn: 0.1713963\ttotal: 4.46s\tremaining: 496ms\n",
            "90:\tlearn: 0.1713773\ttotal: 4.51s\tremaining: 446ms\n",
            "91:\tlearn: 0.1713492\ttotal: 4.55s\tremaining: 396ms\n",
            "92:\tlearn: 0.1713332\ttotal: 4.59s\tremaining: 346ms\n",
            "93:\tlearn: 0.1713082\ttotal: 4.64s\tremaining: 296ms\n",
            "94:\tlearn: 0.1712756\ttotal: 4.68s\tremaining: 247ms\n",
            "95:\tlearn: 0.1712540\ttotal: 4.72s\tremaining: 197ms\n",
            "96:\tlearn: 0.1712354\ttotal: 4.77s\tremaining: 148ms\n",
            "97:\tlearn: 0.1712191\ttotal: 4.81s\tremaining: 98.2ms\n",
            "98:\tlearn: 0.1712062\ttotal: 4.85s\tremaining: 49ms\n",
            "99:\tlearn: 0.1711847\ttotal: 4.9s\tremaining: 0us\n"
          ]
        },
        {
          "data": {
            "text/plain": [
              "<catboost.core.CatBoostClassifier at 0x27950d0b820>"
            ]
          },
          "execution_count": 9,
          "metadata": {},
          "output_type": "execute_result"
        },
        {
          "name": "stdout",
          "output_type": "stream",
          "text": [
            "0:\tlearn: 0.6265067\ttotal: 17.1ms\tremaining: 1.69s\n",
            "1:\tlearn: 0.5721401\ttotal: 35.5ms\tremaining: 1.74s\n",
            "2:\tlearn: 0.5272175\ttotal: 55.1ms\tremaining: 1.78s\n",
            "3:\tlearn: 0.4894785\ttotal: 74.7ms\tremaining: 1.79s\n",
            "4:\tlearn: 0.4575009\ttotal: 96ms\tremaining: 1.82s\n",
            "5:\tlearn: 0.4302176\ttotal: 114ms\tremaining: 1.79s\n",
            "6:\tlearn: 0.4070398\ttotal: 141ms\tremaining: 1.87s\n",
            "7:\tlearn: 0.3873518\ttotal: 182ms\tremaining: 2.1s\n",
            "8:\tlearn: 0.3701550\ttotal: 207ms\tremaining: 2.09s\n",
            "9:\tlearn: 0.3554213\ttotal: 232ms\tremaining: 2.09s\n",
            "10:\tlearn: 0.3427365\ttotal: 254ms\tremaining: 2.06s\n",
            "11:\tlearn: 0.3317903\ttotal: 279ms\tremaining: 2.04s\n",
            "12:\tlearn: 0.3221200\ttotal: 299ms\tremaining: 2s\n",
            "13:\tlearn: 0.3138221\ttotal: 316ms\tremaining: 1.94s\n",
            "14:\tlearn: 0.3066295\ttotal: 333ms\tremaining: 1.88s\n",
            "15:\tlearn: 0.3006272\ttotal: 348ms\tremaining: 1.82s\n",
            "16:\tlearn: 0.2952740\ttotal: 366ms\tremaining: 1.79s\n",
            "17:\tlearn: 0.2905974\ttotal: 383ms\tremaining: 1.75s\n",
            "18:\tlearn: 0.2866797\ttotal: 401ms\tremaining: 1.71s\n",
            "19:\tlearn: 0.2830907\ttotal: 418ms\tremaining: 1.67s\n",
            "20:\tlearn: 0.2798875\ttotal: 436ms\tremaining: 1.64s\n",
            "21:\tlearn: 0.2770828\ttotal: 455ms\tremaining: 1.61s\n",
            "22:\tlearn: 0.2746790\ttotal: 476ms\tremaining: 1.59s\n",
            "23:\tlearn: 0.2725759\ttotal: 497ms\tremaining: 1.57s\n",
            "24:\tlearn: 0.2707671\ttotal: 516ms\tremaining: 1.55s\n",
            "25:\tlearn: 0.2692275\ttotal: 534ms\tremaining: 1.52s\n",
            "26:\tlearn: 0.2679586\ttotal: 549ms\tremaining: 1.48s\n",
            "27:\tlearn: 0.2668061\ttotal: 568ms\tremaining: 1.46s\n",
            "28:\tlearn: 0.2657659\ttotal: 586ms\tremaining: 1.43s\n",
            "29:\tlearn: 0.2648579\ttotal: 603ms\tremaining: 1.41s\n",
            "30:\tlearn: 0.2641696\ttotal: 619ms\tremaining: 1.38s\n",
            "31:\tlearn: 0.2635057\ttotal: 637ms\tremaining: 1.35s\n",
            "32:\tlearn: 0.2627983\ttotal: 655ms\tremaining: 1.33s\n",
            "33:\tlearn: 0.2621920\ttotal: 674ms\tremaining: 1.31s\n",
            "34:\tlearn: 0.2616963\ttotal: 694ms\tremaining: 1.29s\n",
            "35:\tlearn: 0.2612918\ttotal: 713ms\tremaining: 1.27s\n",
            "36:\tlearn: 0.2608327\ttotal: 733ms\tremaining: 1.25s\n",
            "37:\tlearn: 0.2605079\ttotal: 753ms\tremaining: 1.23s\n",
            "38:\tlearn: 0.2603100\ttotal: 772ms\tremaining: 1.21s\n",
            "39:\tlearn: 0.2599974\ttotal: 791ms\tremaining: 1.19s\n",
            "40:\tlearn: 0.2597212\ttotal: 810ms\tremaining: 1.17s\n",
            "41:\tlearn: 0.2594417\ttotal: 829ms\tremaining: 1.14s\n",
            "42:\tlearn: 0.2591983\ttotal: 847ms\tremaining: 1.12s\n",
            "43:\tlearn: 0.2590191\ttotal: 866ms\tremaining: 1.1s\n",
            "44:\tlearn: 0.2588748\ttotal: 884ms\tremaining: 1.08s\n",
            "45:\tlearn: 0.2587323\ttotal: 904ms\tremaining: 1.06s\n",
            "46:\tlearn: 0.2585725\ttotal: 926ms\tremaining: 1.04s\n",
            "47:\tlearn: 0.2584206\ttotal: 949ms\tremaining: 1.03s\n",
            "48:\tlearn: 0.2582976\ttotal: 972ms\tremaining: 1.01s\n",
            "49:\tlearn: 0.2581805\ttotal: 994ms\tremaining: 994ms\n",
            "50:\tlearn: 0.2580851\ttotal: 1.02s\tremaining: 976ms\n",
            "51:\tlearn: 0.2579685\ttotal: 1.04s\tremaining: 957ms\n",
            "52:\tlearn: 0.2578805\ttotal: 1.05s\tremaining: 936ms\n",
            "53:\tlearn: 0.2577872\ttotal: 1.07s\tremaining: 914ms\n",
            "54:\tlearn: 0.2577088\ttotal: 1.09s\tremaining: 896ms\n",
            "55:\tlearn: 0.2576754\ttotal: 1.11s\tremaining: 876ms\n",
            "56:\tlearn: 0.2576164\ttotal: 1.13s\tremaining: 855ms\n",
            "57:\tlearn: 0.2575142\ttotal: 1.15s\tremaining: 834ms\n",
            "58:\tlearn: 0.2574377\ttotal: 1.17s\tremaining: 812ms\n",
            "59:\tlearn: 0.2573794\ttotal: 1.18s\tremaining: 789ms\n",
            "60:\tlearn: 0.2573020\ttotal: 1.2s\tremaining: 768ms\n",
            "61:\tlearn: 0.2572067\ttotal: 1.22s\tremaining: 747ms\n",
            "62:\tlearn: 0.2571582\ttotal: 1.23s\tremaining: 725ms\n",
            "63:\tlearn: 0.2571123\ttotal: 1.25s\tremaining: 704ms\n",
            "64:\tlearn: 0.2570739\ttotal: 1.27s\tremaining: 683ms\n",
            "65:\tlearn: 0.2570407\ttotal: 1.29s\tremaining: 663ms\n",
            "66:\tlearn: 0.2569992\ttotal: 1.3s\tremaining: 643ms\n",
            "67:\tlearn: 0.2569651\ttotal: 1.32s\tremaining: 623ms\n",
            "68:\tlearn: 0.2569390\ttotal: 1.34s\tremaining: 604ms\n",
            "69:\tlearn: 0.2569087\ttotal: 1.36s\tremaining: 584ms\n",
            "70:\tlearn: 0.2568725\ttotal: 1.38s\tremaining: 564ms\n",
            "71:\tlearn: 0.2568400\ttotal: 1.4s\tremaining: 545ms\n",
            "72:\tlearn: 0.2568186\ttotal: 1.42s\tremaining: 526ms\n",
            "73:\tlearn: 0.2567872\ttotal: 1.44s\tremaining: 506ms\n",
            "74:\tlearn: 0.2567562\ttotal: 1.46s\tremaining: 487ms\n",
            "75:\tlearn: 0.2567331\ttotal: 1.48s\tremaining: 468ms\n",
            "76:\tlearn: 0.2567096\ttotal: 1.5s\tremaining: 449ms\n",
            "77:\tlearn: 0.2566770\ttotal: 1.52s\tremaining: 429ms\n",
            "78:\tlearn: 0.2566316\ttotal: 1.54s\tremaining: 409ms\n",
            "79:\tlearn: 0.2566143\ttotal: 1.56s\tremaining: 389ms\n",
            "80:\tlearn: 0.2565848\ttotal: 1.57s\tremaining: 369ms\n",
            "81:\tlearn: 0.2565657\ttotal: 1.59s\tremaining: 349ms\n",
            "82:\tlearn: 0.2565398\ttotal: 1.61s\tremaining: 329ms\n",
            "83:\tlearn: 0.2565185\ttotal: 1.62s\tremaining: 309ms\n",
            "84:\tlearn: 0.2564919\ttotal: 1.64s\tremaining: 289ms\n",
            "85:\tlearn: 0.2564653\ttotal: 1.66s\tremaining: 270ms\n",
            "86:\tlearn: 0.2564460\ttotal: 1.67s\tremaining: 250ms\n",
            "87:\tlearn: 0.2564294\ttotal: 1.69s\tremaining: 230ms\n",
            "88:\tlearn: 0.2563913\ttotal: 1.7s\tremaining: 210ms\n",
            "89:\tlearn: 0.2563825\ttotal: 1.72s\tremaining: 191ms\n",
            "90:\tlearn: 0.2563401\ttotal: 1.73s\tremaining: 171ms\n",
            "91:\tlearn: 0.2563086\ttotal: 1.75s\tremaining: 152ms\n",
            "92:\tlearn: 0.2562962\ttotal: 1.77s\tremaining: 133ms\n",
            "93:\tlearn: 0.2562819\ttotal: 1.78s\tremaining: 114ms\n",
            "94:\tlearn: 0.2562596\ttotal: 1.8s\tremaining: 94.6ms\n",
            "95:\tlearn: 0.2562439\ttotal: 1.81s\tremaining: 75.6ms\n",
            "96:\tlearn: 0.2562344\ttotal: 1.83s\tremaining: 56.6ms\n",
            "97:\tlearn: 0.2562104\ttotal: 1.85s\tremaining: 37.7ms\n",
            "98:\tlearn: 0.2562015\ttotal: 1.86s\tremaining: 18.8ms\n",
            "99:\tlearn: 0.2561840\ttotal: 1.88s\tremaining: 0us\n"
          ]
        },
        {
          "data": {
            "text/plain": [
              "<catboost.core.CatBoostClassifier at 0x27950e712e0>"
            ]
          },
          "execution_count": 9,
          "metadata": {},
          "output_type": "execute_result"
        },
        {
          "name": "stdout",
          "output_type": "stream",
          "text": [
            "Metrics for Target Feature 1:\n",
            "Accuracy: 0.9386580890680922\n",
            "Precision: 0.3128860296893641\n",
            "Recall: 0.3333333333333333\n",
            "\n",
            "Metrics for Target Feature 2:\n",
            "Accuracy: 0.9436981833008653\n",
            "Precision: 0.47184909165043265\n",
            "Recall: 0.5\n",
            "\n",
            "Metrics for Target Feature 3:\n",
            "Accuracy: 0.955511258098129\n",
            "Precision: 0.3185037526993763\n",
            "Recall: 0.3333333333333333\n",
            "\n",
            "Metrics for Target Feature 4:\n",
            "Accuracy: 0.9132990531418476\n",
            "Precision: 0.4566495265709238\n",
            "Recall: 0.5\n",
            "\n"
          ]
        }
      ],
      "source": [
        "from sklearn.metrics import precision_score, recall_score\n",
        "\n",
        "# Initialize and train separate logistic regression models for each target feature\n",
        "models = []\n",
        "for i in range(y_train_list.shape[1]):\n",
        "    model = CatBoostClassifier(**params)\n",
        "    model.fit(X_train, y_train_list.iloc[:, i])\n",
        "    models.append(model)\n",
        "\n",
        "# Predict disease risk for new data for each target feature\n",
        "y_pred_list = [model.predict(X_test) for model in models]\n",
        "\n",
        "# Evaluate the performance of the models for each target feature\n",
        "accuracies = [model.score(X_test, y_test_list.iloc[:, i]) for i, model in enumerate(models)]\n",
        "precisions = [precision_score(y_test_list.iloc[:, i], y_pred_list[i], average='macro', zero_division=0) for i in range(len(y_test_list.columns))]\n",
        "recalls = [recall_score(y_test_list.iloc[:, i], y_pred_list[i], average='macro', zero_division=0) for i in range(len(y_test_list.columns))]\n",
        "\n",
        "# Print the evaluation metrics for each target feature\n",
        "for i in range(len(y_train_list.columns)):\n",
        "    print(f\"Metrics for Target Feature {i+1}:\")\n",
        "    print(\"Accuracy:\", accuracies[i])\n",
        "    print(\"Precision:\", precisions[i])\n",
        "    print(\"Recall:\", recalls[i])\n",
        "    print()"
      ]
    },
    {
      "cell_type": "markdown",
      "id": "4fdce431-c8dd-446f-88aa-e39c56ed9c3c",
      "metadata": {
        "nteract": {
          "transient": {
            "deleting": false
          }
        }
      },
      "source": [
        "we use logistic regression as the predictive model to calculate the risk scores. We select a subset of features and the target variable (CVDINFR4 in this case) for risk prediction. The data is preprocessed, split into training and testing sets, and a logistic regression model is trained on the training data. The model is then used to predict the risk scores for all data points, and the average predicted risk score is calculated for each cluster. Finally, the predicted risk scores for each cluster are printed."
      ]
    },
    {
      "cell_type": "code",
      "execution_count": 24,
      "id": "6edbf6f0",
      "metadata": {
        "gather": {
          "logged": 1685110231841
        }
      },
      "outputs": [
        {
          "name": "stdout",
          "output_type": "stream",
          "text": [
            "0:\tlearn: 0.9413844\ttotal: 58.3ms\tremaining: 5.77s\n",
            "1:\tlearn: 0.8239055\ttotal: 115ms\tremaining: 5.64s\n",
            "2:\tlearn: 0.7319910\ttotal: 168ms\tremaining: 5.42s\n",
            "3:\tlearn: 0.6579246\ttotal: 216ms\tremaining: 5.18s\n",
            "4:\tlearn: 0.5972426\ttotal: 264ms\tremaining: 5.01s\n",
            "5:\tlearn: 0.5464340\ttotal: 317ms\tremaining: 4.96s\n",
            "6:\tlearn: 0.5039922\ttotal: 355ms\tremaining: 4.72s\n",
            "7:\tlearn: 0.4677263\ttotal: 405ms\tremaining: 4.65s\n",
            "8:\tlearn: 0.4368480\ttotal: 453ms\tremaining: 4.58s\n",
            "9:\tlearn: 0.4103353\ttotal: 495ms\tremaining: 4.46s\n",
            "10:\tlearn: 0.3872129\ttotal: 540ms\tremaining: 4.37s\n",
            "11:\tlearn: 0.3672606\ttotal: 583ms\tremaining: 4.28s\n",
            "12:\tlearn: 0.3497277\ttotal: 628ms\tremaining: 4.2s\n",
            "13:\tlearn: 0.3345409\ttotal: 675ms\tremaining: 4.15s\n",
            "14:\tlearn: 0.3212809\ttotal: 734ms\tremaining: 4.16s\n",
            "15:\tlearn: 0.3095921\ttotal: 789ms\tremaining: 4.14s\n",
            "16:\tlearn: 0.2996759\ttotal: 837ms\tremaining: 4.09s\n",
            "17:\tlearn: 0.2906119\ttotal: 894ms\tremaining: 4.07s\n",
            "18:\tlearn: 0.2827220\ttotal: 945ms\tremaining: 4.03s\n",
            "19:\tlearn: 0.2757876\ttotal: 990ms\tremaining: 3.96s\n",
            "20:\tlearn: 0.2695482\ttotal: 1.04s\tremaining: 3.91s\n",
            "21:\tlearn: 0.2640729\ttotal: 1.08s\tremaining: 3.84s\n",
            "22:\tlearn: 0.2592238\ttotal: 1.13s\tremaining: 3.78s\n",
            "23:\tlearn: 0.2549924\ttotal: 1.17s\tremaining: 3.72s\n",
            "24:\tlearn: 0.2514992\ttotal: 1.23s\tremaining: 3.69s\n",
            "25:\tlearn: 0.2481565\ttotal: 1.27s\tremaining: 3.63s\n",
            "26:\tlearn: 0.2452598\ttotal: 1.32s\tremaining: 3.58s\n",
            "27:\tlearn: 0.2426757\ttotal: 1.37s\tremaining: 3.52s\n",
            "28:\tlearn: 0.2403796\ttotal: 1.42s\tremaining: 3.49s\n",
            "29:\tlearn: 0.2384308\ttotal: 1.47s\tremaining: 3.44s\n",
            "30:\tlearn: 0.2366848\ttotal: 1.53s\tremaining: 3.4s\n",
            "31:\tlearn: 0.2351335\ttotal: 1.6s\tremaining: 3.4s\n",
            "32:\tlearn: 0.2336465\ttotal: 1.66s\tremaining: 3.38s\n",
            "33:\tlearn: 0.2324037\ttotal: 1.71s\tremaining: 3.33s\n",
            "34:\tlearn: 0.2312893\ttotal: 1.76s\tremaining: 3.27s\n",
            "35:\tlearn: 0.2303089\ttotal: 1.8s\tremaining: 3.21s\n",
            "36:\tlearn: 0.2295175\ttotal: 1.85s\tremaining: 3.15s\n",
            "37:\tlearn: 0.2288287\ttotal: 1.89s\tremaining: 3.09s\n",
            "38:\tlearn: 0.2281285\ttotal: 1.94s\tremaining: 3.04s\n",
            "39:\tlearn: 0.2275132\ttotal: 1.99s\tremaining: 2.99s\n",
            "40:\tlearn: 0.2269987\ttotal: 2.04s\tremaining: 2.94s\n",
            "41:\tlearn: 0.2265364\ttotal: 2.09s\tremaining: 2.89s\n",
            "42:\tlearn: 0.2261558\ttotal: 2.15s\tremaining: 2.85s\n",
            "43:\tlearn: 0.2257462\ttotal: 2.2s\tremaining: 2.8s\n",
            "44:\tlearn: 0.2253929\ttotal: 2.26s\tremaining: 2.76s\n",
            "45:\tlearn: 0.2250689\ttotal: 2.32s\tremaining: 2.72s\n",
            "46:\tlearn: 0.2247854\ttotal: 2.38s\tremaining: 2.68s\n",
            "47:\tlearn: 0.2245195\ttotal: 2.43s\tremaining: 2.63s\n",
            "48:\tlearn: 0.2242918\ttotal: 2.48s\tremaining: 2.59s\n",
            "49:\tlearn: 0.2241291\ttotal: 2.54s\tremaining: 2.54s\n",
            "50:\tlearn: 0.2240125\ttotal: 2.58s\tremaining: 2.48s\n",
            "51:\tlearn: 0.2238024\ttotal: 2.64s\tremaining: 2.44s\n",
            "52:\tlearn: 0.2236376\ttotal: 2.7s\tremaining: 2.39s\n",
            "53:\tlearn: 0.2234822\ttotal: 2.75s\tremaining: 2.34s\n",
            "54:\tlearn: 0.2233309\ttotal: 2.81s\tremaining: 2.3s\n",
            "55:\tlearn: 0.2232428\ttotal: 2.86s\tremaining: 2.25s\n",
            "56:\tlearn: 0.2231748\ttotal: 2.9s\tremaining: 2.19s\n",
            "57:\tlearn: 0.2230879\ttotal: 2.95s\tremaining: 2.14s\n",
            "58:\tlearn: 0.2230068\ttotal: 3s\tremaining: 2.09s\n",
            "59:\tlearn: 0.2229220\ttotal: 3.06s\tremaining: 2.04s\n",
            "60:\tlearn: 0.2228202\ttotal: 3.12s\tremaining: 1.99s\n",
            "61:\tlearn: 0.2227106\ttotal: 3.17s\tremaining: 1.94s\n",
            "62:\tlearn: 0.2226514\ttotal: 3.22s\tremaining: 1.89s\n",
            "63:\tlearn: 0.2226204\ttotal: 3.26s\tremaining: 1.84s\n",
            "64:\tlearn: 0.2225675\ttotal: 3.32s\tremaining: 1.79s\n",
            "65:\tlearn: 0.2225000\ttotal: 3.37s\tremaining: 1.74s\n",
            "66:\tlearn: 0.2224419\ttotal: 3.43s\tremaining: 1.69s\n",
            "67:\tlearn: 0.2224040\ttotal: 3.48s\tremaining: 1.64s\n",
            "68:\tlearn: 0.2223587\ttotal: 3.53s\tremaining: 1.58s\n",
            "69:\tlearn: 0.2223008\ttotal: 3.57s\tremaining: 1.53s\n",
            "70:\tlearn: 0.2222606\ttotal: 3.62s\tremaining: 1.48s\n",
            "71:\tlearn: 0.2222175\ttotal: 3.68s\tremaining: 1.43s\n",
            "72:\tlearn: 0.2221408\ttotal: 3.73s\tremaining: 1.38s\n",
            "73:\tlearn: 0.2221053\ttotal: 3.78s\tremaining: 1.33s\n",
            "74:\tlearn: 0.2220743\ttotal: 3.84s\tremaining: 1.28s\n",
            "75:\tlearn: 0.2220421\ttotal: 3.89s\tremaining: 1.23s\n",
            "76:\tlearn: 0.2219819\ttotal: 3.94s\tremaining: 1.18s\n",
            "77:\tlearn: 0.2219464\ttotal: 3.98s\tremaining: 1.12s\n",
            "78:\tlearn: 0.2219185\ttotal: 4.02s\tremaining: 1.07s\n",
            "79:\tlearn: 0.2218832\ttotal: 4.07s\tremaining: 1.02s\n",
            "80:\tlearn: 0.2218442\ttotal: 4.12s\tremaining: 966ms\n",
            "81:\tlearn: 0.2218172\ttotal: 4.17s\tremaining: 915ms\n",
            "82:\tlearn: 0.2217880\ttotal: 4.22s\tremaining: 864ms\n",
            "83:\tlearn: 0.2217621\ttotal: 4.28s\tremaining: 814ms\n",
            "84:\tlearn: 0.2217185\ttotal: 4.33s\tremaining: 764ms\n",
            "85:\tlearn: 0.2216854\ttotal: 4.39s\tremaining: 715ms\n",
            "86:\tlearn: 0.2216575\ttotal: 4.45s\tremaining: 665ms\n",
            "87:\tlearn: 0.2216479\ttotal: 4.5s\tremaining: 614ms\n",
            "88:\tlearn: 0.2216127\ttotal: 4.57s\tremaining: 564ms\n",
            "89:\tlearn: 0.2215969\ttotal: 4.63s\tremaining: 514ms\n",
            "90:\tlearn: 0.2215797\ttotal: 4.68s\tremaining: 463ms\n",
            "91:\tlearn: 0.2215574\ttotal: 4.74s\tremaining: 412ms\n",
            "92:\tlearn: 0.2215150\ttotal: 4.8s\tremaining: 361ms\n",
            "93:\tlearn: 0.2214998\ttotal: 4.86s\tremaining: 310ms\n",
            "94:\tlearn: 0.2214830\ttotal: 4.91s\tremaining: 259ms\n",
            "95:\tlearn: 0.2214705\ttotal: 4.96s\tremaining: 207ms\n",
            "96:\tlearn: 0.2214458\ttotal: 5.01s\tremaining: 155ms\n",
            "97:\tlearn: 0.2214247\ttotal: 5.07s\tremaining: 103ms\n",
            "98:\tlearn: 0.2213957\ttotal: 5.12s\tremaining: 51.7ms\n",
            "99:\tlearn: 0.2213851\ttotal: 5.16s\tremaining: 0us\n"
          ]
        },
        {
          "data": {
            "text/plain": [
              "<catboost.core.CatBoostClassifier at 0x1eea7b265b0>"
            ]
          },
          "execution_count": 24,
          "metadata": {},
          "output_type": "execute_result"
        },
        {
          "name": "stdout",
          "output_type": "stream",
          "text": [
            "0:\tlearn: 0.6177511\ttotal: 39.3ms\tremaining: 3.89s\n",
            "1:\tlearn: 0.5563547\ttotal: 59.4ms\tremaining: 2.91s\n",
            "2:\tlearn: 0.5053382\ttotal: 74ms\tremaining: 2.39s\n",
            "3:\tlearn: 0.4624037\ttotal: 89.7ms\tremaining: 2.15s\n",
            "4:\tlearn: 0.4260079\ttotal: 105ms\tremaining: 2s\n",
            "5:\tlearn: 0.3948618\ttotal: 120ms\tremaining: 1.88s\n",
            "6:\tlearn: 0.3683497\ttotal: 137ms\tremaining: 1.82s\n",
            "7:\tlearn: 0.3456162\ttotal: 153ms\tremaining: 1.76s\n",
            "8:\tlearn: 0.3258699\ttotal: 170ms\tremaining: 1.71s\n",
            "9:\tlearn: 0.3087758\ttotal: 189ms\tremaining: 1.7s\n",
            "10:\tlearn: 0.2941165\ttotal: 206ms\tremaining: 1.67s\n",
            "11:\tlearn: 0.2815681\ttotal: 225ms\tremaining: 1.65s\n",
            "12:\tlearn: 0.2701900\ttotal: 247ms\tremaining: 1.65s\n",
            "13:\tlearn: 0.2603762\ttotal: 266ms\tremaining: 1.64s\n",
            "14:\tlearn: 0.2521326\ttotal: 281ms\tremaining: 1.59s\n",
            "15:\tlearn: 0.2445711\ttotal: 301ms\tremaining: 1.58s\n",
            "16:\tlearn: 0.2379944\ttotal: 324ms\tremaining: 1.58s\n",
            "17:\tlearn: 0.2322862\ttotal: 346ms\tremaining: 1.57s\n",
            "18:\tlearn: 0.2274770\ttotal: 365ms\tremaining: 1.55s\n",
            "19:\tlearn: 0.2230443\ttotal: 381ms\tremaining: 1.52s\n",
            "20:\tlearn: 0.2194427\ttotal: 399ms\tremaining: 1.5s\n",
            "21:\tlearn: 0.2160718\ttotal: 415ms\tremaining: 1.47s\n",
            "22:\tlearn: 0.2132015\ttotal: 433ms\tremaining: 1.45s\n",
            "23:\tlearn: 0.2106070\ttotal: 450ms\tremaining: 1.42s\n",
            "24:\tlearn: 0.2082659\ttotal: 467ms\tremaining: 1.4s\n",
            "25:\tlearn: 0.2062952\ttotal: 485ms\tremaining: 1.38s\n",
            "26:\tlearn: 0.2046403\ttotal: 504ms\tremaining: 1.36s\n",
            "27:\tlearn: 0.2031795\ttotal: 524ms\tremaining: 1.35s\n",
            "28:\tlearn: 0.2020485\ttotal: 538ms\tremaining: 1.32s\n",
            "29:\tlearn: 0.2010504\ttotal: 557ms\tremaining: 1.3s\n",
            "30:\tlearn: 0.1999657\ttotal: 574ms\tremaining: 1.28s\n",
            "31:\tlearn: 0.1992033\ttotal: 589ms\tremaining: 1.25s\n",
            "32:\tlearn: 0.1983672\ttotal: 605ms\tremaining: 1.23s\n",
            "33:\tlearn: 0.1975492\ttotal: 623ms\tremaining: 1.21s\n",
            "34:\tlearn: 0.1969509\ttotal: 641ms\tremaining: 1.19s\n",
            "35:\tlearn: 0.1963934\ttotal: 657ms\tremaining: 1.17s\n",
            "36:\tlearn: 0.1958905\ttotal: 673ms\tremaining: 1.15s\n",
            "37:\tlearn: 0.1953978\ttotal: 689ms\tremaining: 1.12s\n",
            "38:\tlearn: 0.1949107\ttotal: 706ms\tremaining: 1.1s\n",
            "39:\tlearn: 0.1946057\ttotal: 724ms\tremaining: 1.09s\n",
            "40:\tlearn: 0.1943328\ttotal: 746ms\tremaining: 1.07s\n",
            "41:\tlearn: 0.1940379\ttotal: 763ms\tremaining: 1.05s\n",
            "42:\tlearn: 0.1937719\ttotal: 780ms\tremaining: 1.03s\n",
            "43:\tlearn: 0.1935345\ttotal: 796ms\tremaining: 1.01s\n",
            "44:\tlearn: 0.1933429\ttotal: 814ms\tremaining: 995ms\n",
            "45:\tlearn: 0.1931485\ttotal: 829ms\tremaining: 973ms\n",
            "46:\tlearn: 0.1929915\ttotal: 845ms\tremaining: 953ms\n",
            "47:\tlearn: 0.1928306\ttotal: 862ms\tremaining: 934ms\n",
            "48:\tlearn: 0.1927051\ttotal: 877ms\tremaining: 913ms\n",
            "49:\tlearn: 0.1925783\ttotal: 893ms\tremaining: 893ms\n",
            "50:\tlearn: 0.1924812\ttotal: 909ms\tremaining: 873ms\n",
            "51:\tlearn: 0.1923694\ttotal: 926ms\tremaining: 855ms\n",
            "52:\tlearn: 0.1923039\ttotal: 945ms\tremaining: 838ms\n",
            "53:\tlearn: 0.1922086\ttotal: 961ms\tremaining: 818ms\n",
            "54:\tlearn: 0.1921189\ttotal: 978ms\tremaining: 800ms\n",
            "55:\tlearn: 0.1920556\ttotal: 993ms\tremaining: 780ms\n",
            "56:\tlearn: 0.1919580\ttotal: 1.01s\tremaining: 761ms\n",
            "57:\tlearn: 0.1918723\ttotal: 1.03s\tremaining: 744ms\n",
            "58:\tlearn: 0.1918060\ttotal: 1.04s\tremaining: 725ms\n",
            "59:\tlearn: 0.1917393\ttotal: 1.06s\tremaining: 706ms\n",
            "60:\tlearn: 0.1916907\ttotal: 1.07s\tremaining: 687ms\n",
            "61:\tlearn: 0.1916360\ttotal: 1.09s\tremaining: 668ms\n",
            "62:\tlearn: 0.1915578\ttotal: 1.1s\tremaining: 649ms\n",
            "63:\tlearn: 0.1915000\ttotal: 1.12s\tremaining: 632ms\n",
            "64:\tlearn: 0.1914644\ttotal: 1.14s\tremaining: 614ms\n",
            "65:\tlearn: 0.1914410\ttotal: 1.16s\tremaining: 596ms\n",
            "66:\tlearn: 0.1914093\ttotal: 1.17s\tremaining: 578ms\n",
            "67:\tlearn: 0.1913905\ttotal: 1.19s\tremaining: 560ms\n",
            "68:\tlearn: 0.1913581\ttotal: 1.21s\tremaining: 542ms\n",
            "69:\tlearn: 0.1913031\ttotal: 1.22s\tremaining: 524ms\n",
            "70:\tlearn: 0.1912641\ttotal: 1.24s\tremaining: 507ms\n",
            "71:\tlearn: 0.1912338\ttotal: 1.26s\tremaining: 489ms\n",
            "72:\tlearn: 0.1912120\ttotal: 1.27s\tremaining: 471ms\n",
            "73:\tlearn: 0.1911863\ttotal: 1.29s\tremaining: 452ms\n",
            "74:\tlearn: 0.1911541\ttotal: 1.3s\tremaining: 435ms\n",
            "75:\tlearn: 0.1911293\ttotal: 1.32s\tremaining: 417ms\n",
            "76:\tlearn: 0.1910965\ttotal: 1.34s\tremaining: 399ms\n",
            "77:\tlearn: 0.1910800\ttotal: 1.35s\tremaining: 382ms\n",
            "78:\tlearn: 0.1910455\ttotal: 1.37s\tremaining: 365ms\n",
            "79:\tlearn: 0.1910343\ttotal: 1.39s\tremaining: 347ms\n",
            "80:\tlearn: 0.1910170\ttotal: 1.4s\tremaining: 330ms\n",
            "81:\tlearn: 0.1910057\ttotal: 1.42s\tremaining: 312ms\n",
            "82:\tlearn: 0.1909856\ttotal: 1.44s\tremaining: 294ms\n",
            "83:\tlearn: 0.1909524\ttotal: 1.45s\tremaining: 277ms\n",
            "84:\tlearn: 0.1909281\ttotal: 1.47s\tremaining: 259ms\n",
            "85:\tlearn: 0.1909101\ttotal: 1.49s\tremaining: 242ms\n",
            "86:\tlearn: 0.1908877\ttotal: 1.5s\tremaining: 225ms\n",
            "87:\tlearn: 0.1908526\ttotal: 1.52s\tremaining: 207ms\n",
            "88:\tlearn: 0.1908401\ttotal: 1.53s\tremaining: 190ms\n",
            "89:\tlearn: 0.1908183\ttotal: 1.55s\tremaining: 172ms\n",
            "90:\tlearn: 0.1908031\ttotal: 1.56s\tremaining: 155ms\n",
            "91:\tlearn: 0.1907859\ttotal: 1.58s\tremaining: 138ms\n",
            "92:\tlearn: 0.1907638\ttotal: 1.6s\tremaining: 120ms\n",
            "93:\tlearn: 0.1907371\ttotal: 1.62s\tremaining: 103ms\n",
            "94:\tlearn: 0.1907226\ttotal: 1.63s\tremaining: 86ms\n",
            "95:\tlearn: 0.1907140\ttotal: 1.65s\tremaining: 68.7ms\n",
            "96:\tlearn: 0.1906888\ttotal: 1.66s\tremaining: 51.5ms\n",
            "97:\tlearn: 0.1906606\ttotal: 1.68s\tremaining: 34.3ms\n",
            "98:\tlearn: 0.1906473\ttotal: 1.7s\tremaining: 17.1ms\n",
            "99:\tlearn: 0.1906359\ttotal: 1.71s\tremaining: 0us\n"
          ]
        },
        {
          "data": {
            "text/plain": [
              "<catboost.core.CatBoostClassifier at 0x1eea7b0da30>"
            ]
          },
          "execution_count": 24,
          "metadata": {},
          "output_type": "execute_result"
        },
        {
          "name": "stdout",
          "output_type": "stream",
          "text": [
            "0:\tlearn: 0.9323812\ttotal: 43.8ms\tremaining: 4.33s\n",
            "1:\tlearn: 0.8084544\ttotal: 86.7ms\tremaining: 4.25s\n",
            "2:\tlearn: 0.7117424\ttotal: 128ms\tremaining: 4.13s\n",
            "3:\tlearn: 0.6338328\ttotal: 172ms\tremaining: 4.13s\n",
            "4:\tlearn: 0.5698498\ttotal: 217ms\tremaining: 4.13s\n",
            "5:\tlearn: 0.5166203\ttotal: 261ms\tremaining: 4.08s\n",
            "6:\tlearn: 0.4716543\ttotal: 313ms\tremaining: 4.15s\n",
            "7:\tlearn: 0.4334057\ttotal: 359ms\tremaining: 4.12s\n",
            "8:\tlearn: 0.4007167\ttotal: 400ms\tremaining: 4.04s\n",
            "9:\tlearn: 0.3724606\ttotal: 447ms\tremaining: 4.03s\n",
            "10:\tlearn: 0.3480422\ttotal: 503ms\tremaining: 4.07s\n",
            "11:\tlearn: 0.3268491\ttotal: 555ms\tremaining: 4.07s\n",
            "12:\tlearn: 0.3084897\ttotal: 601ms\tremaining: 4.02s\n",
            "13:\tlearn: 0.2924721\ttotal: 645ms\tremaining: 3.96s\n",
            "14:\tlearn: 0.2784169\ttotal: 682ms\tremaining: 3.86s\n",
            "15:\tlearn: 0.2659296\ttotal: 732ms\tremaining: 3.84s\n",
            "16:\tlearn: 0.2549576\ttotal: 785ms\tremaining: 3.83s\n",
            "17:\tlearn: 0.2453682\ttotal: 830ms\tremaining: 3.78s\n",
            "18:\tlearn: 0.2369070\ttotal: 873ms\tremaining: 3.72s\n",
            "19:\tlearn: 0.2296580\ttotal: 915ms\tremaining: 3.66s\n",
            "20:\tlearn: 0.2230078\ttotal: 961ms\tremaining: 3.62s\n",
            "21:\tlearn: 0.2173134\ttotal: 1.01s\tremaining: 3.58s\n",
            "22:\tlearn: 0.2122979\ttotal: 1.05s\tremaining: 3.53s\n",
            "23:\tlearn: 0.2077185\ttotal: 1.1s\tremaining: 3.48s\n",
            "24:\tlearn: 0.2036252\ttotal: 1.15s\tremaining: 3.45s\n",
            "25:\tlearn: 0.2001557\ttotal: 1.19s\tremaining: 3.39s\n",
            "26:\tlearn: 0.1969177\ttotal: 1.25s\tremaining: 3.37s\n",
            "27:\tlearn: 0.1941993\ttotal: 1.29s\tremaining: 3.32s\n",
            "28:\tlearn: 0.1916813\ttotal: 1.33s\tremaining: 3.27s\n",
            "29:\tlearn: 0.1894507\ttotal: 1.38s\tremaining: 3.22s\n",
            "30:\tlearn: 0.1874453\ttotal: 1.43s\tremaining: 3.19s\n",
            "31:\tlearn: 0.1857347\ttotal: 1.49s\tremaining: 3.16s\n",
            "32:\tlearn: 0.1841819\ttotal: 1.53s\tremaining: 3.12s\n",
            "33:\tlearn: 0.1828723\ttotal: 1.58s\tremaining: 3.07s\n",
            "34:\tlearn: 0.1816628\ttotal: 1.63s\tremaining: 3.02s\n",
            "35:\tlearn: 0.1805712\ttotal: 1.68s\tremaining: 2.98s\n",
            "36:\tlearn: 0.1796286\ttotal: 1.73s\tremaining: 2.94s\n",
            "37:\tlearn: 0.1788231\ttotal: 1.78s\tremaining: 2.91s\n",
            "38:\tlearn: 0.1780684\ttotal: 1.83s\tremaining: 2.86s\n",
            "39:\tlearn: 0.1774601\ttotal: 1.88s\tremaining: 2.81s\n",
            "40:\tlearn: 0.1768376\ttotal: 1.92s\tremaining: 2.76s\n",
            "41:\tlearn: 0.1762709\ttotal: 1.97s\tremaining: 2.72s\n",
            "42:\tlearn: 0.1758228\ttotal: 2.02s\tremaining: 2.68s\n",
            "43:\tlearn: 0.1754165\ttotal: 2.08s\tremaining: 2.64s\n",
            "44:\tlearn: 0.1750212\ttotal: 2.13s\tremaining: 2.6s\n",
            "45:\tlearn: 0.1747040\ttotal: 2.19s\tremaining: 2.57s\n",
            "46:\tlearn: 0.1744223\ttotal: 2.23s\tremaining: 2.51s\n",
            "47:\tlearn: 0.1741418\ttotal: 2.28s\tremaining: 2.47s\n",
            "48:\tlearn: 0.1739011\ttotal: 2.32s\tremaining: 2.42s\n",
            "49:\tlearn: 0.1737172\ttotal: 2.37s\tremaining: 2.37s\n",
            "50:\tlearn: 0.1735486\ttotal: 2.41s\tremaining: 2.32s\n",
            "51:\tlearn: 0.1733770\ttotal: 2.46s\tremaining: 2.27s\n",
            "52:\tlearn: 0.1732567\ttotal: 2.5s\tremaining: 2.22s\n",
            "53:\tlearn: 0.1731570\ttotal: 2.54s\tremaining: 2.17s\n",
            "54:\tlearn: 0.1730238\ttotal: 2.59s\tremaining: 2.12s\n",
            "55:\tlearn: 0.1729149\ttotal: 2.63s\tremaining: 2.07s\n",
            "56:\tlearn: 0.1727876\ttotal: 2.68s\tremaining: 2.02s\n",
            "57:\tlearn: 0.1726772\ttotal: 2.73s\tremaining: 1.98s\n",
            "58:\tlearn: 0.1725673\ttotal: 2.77s\tremaining: 1.93s\n",
            "59:\tlearn: 0.1724829\ttotal: 2.82s\tremaining: 1.88s\n",
            "60:\tlearn: 0.1723878\ttotal: 2.87s\tremaining: 1.83s\n",
            "61:\tlearn: 0.1723090\ttotal: 2.92s\tremaining: 1.79s\n",
            "62:\tlearn: 0.1722257\ttotal: 2.97s\tremaining: 1.74s\n",
            "63:\tlearn: 0.1721595\ttotal: 3.01s\tremaining: 1.7s\n",
            "64:\tlearn: 0.1721146\ttotal: 3.06s\tremaining: 1.65s\n",
            "65:\tlearn: 0.1720771\ttotal: 3.13s\tremaining: 1.61s\n",
            "66:\tlearn: 0.1720437\ttotal: 3.18s\tremaining: 1.56s\n",
            "67:\tlearn: 0.1720127\ttotal: 3.22s\tremaining: 1.51s\n",
            "68:\tlearn: 0.1719676\ttotal: 3.27s\tremaining: 1.47s\n",
            "69:\tlearn: 0.1719363\ttotal: 3.31s\tremaining: 1.42s\n",
            "70:\tlearn: 0.1719125\ttotal: 3.37s\tremaining: 1.37s\n",
            "71:\tlearn: 0.1718781\ttotal: 3.42s\tremaining: 1.33s\n",
            "72:\tlearn: 0.1718442\ttotal: 3.46s\tremaining: 1.28s\n",
            "73:\tlearn: 0.1717974\ttotal: 3.51s\tremaining: 1.23s\n",
            "74:\tlearn: 0.1717717\ttotal: 3.56s\tremaining: 1.19s\n",
            "75:\tlearn: 0.1717214\ttotal: 3.6s\tremaining: 1.14s\n",
            "76:\tlearn: 0.1716826\ttotal: 3.66s\tremaining: 1.09s\n",
            "77:\tlearn: 0.1716537\ttotal: 3.71s\tremaining: 1.04s\n",
            "78:\tlearn: 0.1716155\ttotal: 3.76s\tremaining: 999ms\n",
            "79:\tlearn: 0.1715998\ttotal: 3.8s\tremaining: 951ms\n",
            "80:\tlearn: 0.1715806\ttotal: 3.86s\tremaining: 905ms\n",
            "81:\tlearn: 0.1715513\ttotal: 3.91s\tremaining: 859ms\n",
            "82:\tlearn: 0.1715215\ttotal: 3.96s\tremaining: 811ms\n",
            "83:\tlearn: 0.1715000\ttotal: 4.01s\tremaining: 764ms\n",
            "84:\tlearn: 0.1714689\ttotal: 4.05s\tremaining: 715ms\n",
            "85:\tlearn: 0.1714582\ttotal: 4.09s\tremaining: 666ms\n",
            "86:\tlearn: 0.1714398\ttotal: 4.14s\tremaining: 618ms\n",
            "87:\tlearn: 0.1714280\ttotal: 4.18s\tremaining: 570ms\n",
            "88:\tlearn: 0.1714085\ttotal: 4.22s\tremaining: 521ms\n",
            "89:\tlearn: 0.1713963\ttotal: 4.26s\tremaining: 473ms\n",
            "90:\tlearn: 0.1713773\ttotal: 4.3s\tremaining: 426ms\n",
            "91:\tlearn: 0.1713492\ttotal: 4.35s\tremaining: 378ms\n",
            "92:\tlearn: 0.1713332\ttotal: 4.39s\tremaining: 331ms\n",
            "93:\tlearn: 0.1713082\ttotal: 4.44s\tremaining: 283ms\n",
            "94:\tlearn: 0.1712756\ttotal: 4.48s\tremaining: 236ms\n",
            "95:\tlearn: 0.1712540\ttotal: 4.53s\tremaining: 189ms\n",
            "96:\tlearn: 0.1712354\ttotal: 4.58s\tremaining: 141ms\n",
            "97:\tlearn: 0.1712191\ttotal: 4.62s\tremaining: 94.2ms\n",
            "98:\tlearn: 0.1712062\ttotal: 4.66s\tremaining: 47.1ms\n",
            "99:\tlearn: 0.1711847\ttotal: 4.71s\tremaining: 0us\n"
          ]
        },
        {
          "data": {
            "text/plain": [
              "<catboost.core.CatBoostClassifier at 0x1eea7afd3d0>"
            ]
          },
          "execution_count": 24,
          "metadata": {},
          "output_type": "execute_result"
        },
        {
          "name": "stdout",
          "output_type": "stream",
          "text": [
            "0:\tlearn: 0.6265067\ttotal: 17.2ms\tremaining: 1.71s\n",
            "1:\tlearn: 0.5721401\ttotal: 34.1ms\tremaining: 1.67s\n",
            "2:\tlearn: 0.5272175\ttotal: 51.7ms\tremaining: 1.67s\n",
            "3:\tlearn: 0.4894785\ttotal: 68.3ms\tremaining: 1.64s\n",
            "4:\tlearn: 0.4575009\ttotal: 88.4ms\tremaining: 1.68s\n",
            "5:\tlearn: 0.4302176\ttotal: 104ms\tremaining: 1.63s\n",
            "6:\tlearn: 0.4070398\ttotal: 120ms\tremaining: 1.6s\n",
            "7:\tlearn: 0.3873518\ttotal: 136ms\tremaining: 1.56s\n",
            "8:\tlearn: 0.3701550\ttotal: 155ms\tremaining: 1.57s\n",
            "9:\tlearn: 0.3554213\ttotal: 172ms\tremaining: 1.55s\n",
            "10:\tlearn: 0.3427365\ttotal: 189ms\tremaining: 1.53s\n",
            "11:\tlearn: 0.3317903\ttotal: 205ms\tremaining: 1.5s\n",
            "12:\tlearn: 0.3221200\ttotal: 224ms\tremaining: 1.5s\n",
            "13:\tlearn: 0.3138221\ttotal: 242ms\tremaining: 1.49s\n",
            "14:\tlearn: 0.3066295\ttotal: 280ms\tremaining: 1.58s\n",
            "15:\tlearn: 0.3006272\ttotal: 303ms\tremaining: 1.59s\n",
            "16:\tlearn: 0.2952740\ttotal: 323ms\tremaining: 1.57s\n",
            "17:\tlearn: 0.2905974\ttotal: 340ms\tremaining: 1.55s\n",
            "18:\tlearn: 0.2866797\ttotal: 357ms\tremaining: 1.52s\n",
            "19:\tlearn: 0.2830907\ttotal: 373ms\tremaining: 1.49s\n",
            "20:\tlearn: 0.2798875\ttotal: 391ms\tremaining: 1.47s\n",
            "21:\tlearn: 0.2770828\ttotal: 409ms\tremaining: 1.45s\n",
            "22:\tlearn: 0.2746790\ttotal: 427ms\tremaining: 1.43s\n",
            "23:\tlearn: 0.2725759\ttotal: 444ms\tremaining: 1.4s\n",
            "24:\tlearn: 0.2707671\ttotal: 462ms\tremaining: 1.39s\n",
            "25:\tlearn: 0.2692275\ttotal: 485ms\tremaining: 1.38s\n",
            "26:\tlearn: 0.2679586\ttotal: 504ms\tremaining: 1.36s\n",
            "27:\tlearn: 0.2668061\ttotal: 525ms\tremaining: 1.35s\n",
            "28:\tlearn: 0.2657659\ttotal: 541ms\tremaining: 1.32s\n",
            "29:\tlearn: 0.2648579\ttotal: 558ms\tremaining: 1.3s\n",
            "30:\tlearn: 0.2641696\ttotal: 573ms\tremaining: 1.27s\n",
            "31:\tlearn: 0.2635057\ttotal: 589ms\tremaining: 1.25s\n",
            "32:\tlearn: 0.2627983\ttotal: 608ms\tremaining: 1.23s\n",
            "33:\tlearn: 0.2621920\ttotal: 626ms\tremaining: 1.21s\n",
            "34:\tlearn: 0.2616963\ttotal: 641ms\tremaining: 1.19s\n",
            "35:\tlearn: 0.2612918\ttotal: 657ms\tremaining: 1.17s\n",
            "36:\tlearn: 0.2608327\ttotal: 674ms\tremaining: 1.15s\n",
            "37:\tlearn: 0.2605079\ttotal: 694ms\tremaining: 1.13s\n",
            "38:\tlearn: 0.2603100\ttotal: 714ms\tremaining: 1.12s\n",
            "39:\tlearn: 0.2599974\ttotal: 732ms\tremaining: 1.1s\n",
            "40:\tlearn: 0.2597212\ttotal: 749ms\tremaining: 1.08s\n",
            "41:\tlearn: 0.2594417\ttotal: 767ms\tremaining: 1.06s\n",
            "42:\tlearn: 0.2591983\ttotal: 782ms\tremaining: 1.04s\n",
            "43:\tlearn: 0.2590191\ttotal: 799ms\tremaining: 1.02s\n",
            "44:\tlearn: 0.2588748\ttotal: 814ms\tremaining: 995ms\n",
            "45:\tlearn: 0.2587323\ttotal: 830ms\tremaining: 975ms\n",
            "46:\tlearn: 0.2585725\ttotal: 846ms\tremaining: 954ms\n",
            "47:\tlearn: 0.2584206\ttotal: 863ms\tremaining: 935ms\n",
            "48:\tlearn: 0.2582976\ttotal: 879ms\tremaining: 915ms\n",
            "49:\tlearn: 0.2581805\ttotal: 897ms\tremaining: 897ms\n",
            "50:\tlearn: 0.2580851\ttotal: 915ms\tremaining: 879ms\n",
            "51:\tlearn: 0.2579685\ttotal: 932ms\tremaining: 860ms\n",
            "52:\tlearn: 0.2578805\ttotal: 947ms\tremaining: 840ms\n",
            "53:\tlearn: 0.2577872\ttotal: 964ms\tremaining: 821ms\n",
            "54:\tlearn: 0.2577088\ttotal: 980ms\tremaining: 802ms\n",
            "55:\tlearn: 0.2576754\ttotal: 995ms\tremaining: 782ms\n",
            "56:\tlearn: 0.2576164\ttotal: 1.01s\tremaining: 762ms\n",
            "57:\tlearn: 0.2575142\ttotal: 1.03s\tremaining: 745ms\n",
            "58:\tlearn: 0.2574377\ttotal: 1.04s\tremaining: 726ms\n",
            "59:\tlearn: 0.2573794\ttotal: 1.06s\tremaining: 707ms\n",
            "60:\tlearn: 0.2573021\ttotal: 1.08s\tremaining: 688ms\n",
            "61:\tlearn: 0.2572068\ttotal: 1.09s\tremaining: 670ms\n",
            "62:\tlearn: 0.2571582\ttotal: 1.11s\tremaining: 653ms\n",
            "63:\tlearn: 0.2571123\ttotal: 1.13s\tremaining: 636ms\n",
            "64:\tlearn: 0.2570738\ttotal: 1.15s\tremaining: 617ms\n",
            "65:\tlearn: 0.2570408\ttotal: 1.16s\tremaining: 599ms\n",
            "66:\tlearn: 0.2569992\ttotal: 1.18s\tremaining: 581ms\n",
            "67:\tlearn: 0.2569652\ttotal: 1.2s\tremaining: 562ms\n",
            "68:\tlearn: 0.2569391\ttotal: 1.21s\tremaining: 545ms\n",
            "69:\tlearn: 0.2569088\ttotal: 1.23s\tremaining: 526ms\n",
            "70:\tlearn: 0.2568726\ttotal: 1.25s\tremaining: 509ms\n",
            "71:\tlearn: 0.2568401\ttotal: 1.26s\tremaining: 491ms\n",
            "72:\tlearn: 0.2568186\ttotal: 1.28s\tremaining: 473ms\n",
            "73:\tlearn: 0.2567871\ttotal: 1.29s\tremaining: 454ms\n",
            "74:\tlearn: 0.2567563\ttotal: 1.31s\tremaining: 436ms\n",
            "75:\tlearn: 0.2567331\ttotal: 1.33s\tremaining: 419ms\n",
            "76:\tlearn: 0.2567094\ttotal: 1.34s\tremaining: 402ms\n",
            "77:\tlearn: 0.2566770\ttotal: 1.36s\tremaining: 384ms\n",
            "78:\tlearn: 0.2566316\ttotal: 1.38s\tremaining: 366ms\n",
            "79:\tlearn: 0.2566143\ttotal: 1.39s\tremaining: 349ms\n",
            "80:\tlearn: 0.2565848\ttotal: 1.41s\tremaining: 331ms\n",
            "81:\tlearn: 0.2565656\ttotal: 1.43s\tremaining: 313ms\n",
            "82:\tlearn: 0.2565399\ttotal: 1.44s\tremaining: 296ms\n",
            "83:\tlearn: 0.2565184\ttotal: 1.46s\tremaining: 278ms\n",
            "84:\tlearn: 0.2564919\ttotal: 1.47s\tremaining: 260ms\n",
            "85:\tlearn: 0.2564654\ttotal: 1.49s\tremaining: 243ms\n",
            "86:\tlearn: 0.2564461\ttotal: 1.5s\tremaining: 225ms\n",
            "87:\tlearn: 0.2564294\ttotal: 1.52s\tremaining: 208ms\n",
            "88:\tlearn: 0.2563913\ttotal: 1.54s\tremaining: 190ms\n",
            "89:\tlearn: 0.2563826\ttotal: 1.55s\tremaining: 173ms\n",
            "90:\tlearn: 0.2563402\ttotal: 1.57s\tremaining: 155ms\n",
            "91:\tlearn: 0.2563085\ttotal: 1.59s\tremaining: 138ms\n",
            "92:\tlearn: 0.2562962\ttotal: 1.6s\tremaining: 121ms\n",
            "93:\tlearn: 0.2562818\ttotal: 1.62s\tremaining: 103ms\n",
            "94:\tlearn: 0.2562595\ttotal: 1.63s\tremaining: 86ms\n",
            "95:\tlearn: 0.2562439\ttotal: 1.65s\tremaining: 68.7ms\n",
            "96:\tlearn: 0.2562343\ttotal: 1.67s\tremaining: 51.5ms\n",
            "97:\tlearn: 0.2562103\ttotal: 1.68s\tremaining: 34.3ms\n",
            "98:\tlearn: 0.2562016\ttotal: 1.7s\tremaining: 17.1ms\n",
            "99:\tlearn: 0.2561840\ttotal: 1.71s\tremaining: 0us\n"
          ]
        },
        {
          "data": {
            "text/plain": [
              "<catboost.core.CatBoostClassifier at 0x1eea7a7e490>"
            ]
          },
          "execution_count": 24,
          "metadata": {},
          "output_type": "execute_result"
        },
        {
          "name": "stdout",
          "output_type": "stream",
          "text": [
            "Cluster 0: Predicted risk of CVDINFR4 - 0.9233\n",
            "Cluster 1: Predicted risk of CVDINFR4 - 0.9635\n",
            "Cluster 2: Predicted risk of CVDINFR4 - 0.8821\n",
            "Cluster 0: Predicted risk of CVDCRHD4 - 0.9320\n",
            "Cluster 1: Predicted risk of CVDCRHD4 - 0.9644\n",
            "Cluster 2: Predicted risk of CVDCRHD4 - 0.8876\n",
            "Cluster 0: Predicted risk of CVDSTRK3 - 0.9442\n",
            "Cluster 1: Predicted risk of CVDSTRK3 - 0.9762\n",
            "Cluster 2: Predicted risk of CVDSTRK3 - 0.9198\n",
            "Cluster 0: Predicted risk of _MICHD - 0.8948\n",
            "Cluster 1: Predicted risk of _MICHD - 0.9466\n",
            "Cluster 2: Predicted risk of _MICHD - 0.8333\n"
          ]
        }
      ],
      "source": [
        "import pandas as pd\n",
        "from sklearn.preprocessing import StandardScaler\n",
        "from sklearn.linear_model import LogisticRegression\n",
        "from sklearn.model_selection import train_test_split\n",
        "\n",
        "# Preprocess the data (scaling, handling missing values, etc.)\n",
        "scaler = StandardScaler()\n",
        "X_scaled = scaler.fit_transform(X)\n",
        "\n",
        "# Split the data into training and testing sets\n",
        "X_train, X_test, y_train, y_test = train_test_split(\n",
        "    X_scaled, y, test_size=0.2, random_state=42)\n",
        "\n",
        "# Train separate logistic regression models for each target feature\n",
        "cat_models = {}\n",
        "predicted_risk_scores = {}\n",
        "cluster_labels = kmeans.labels_\n",
        "daf['cluster'] = cluster_labels\n",
        "for feature in y.columns:\n",
        "    cat = CatBoostClassifier(**params)\n",
        "    cat.fit(X_train, y_train[feature])\n",
        "    cat_models[feature] = cat\n",
        "    predicted_risk_scores[feature] = cat.predict_proba(X_scaled)[:, 1]\n",
        "\n",
        "# Assign the predicted risk scores to each target feature using the same cluster labels\n",
        "for feature in y.columns:\n",
        "    daf[f'PredictedRisk_{feature}'] = predicted_risk_scores[feature]\n",
        "\n",
        "# Calculate the average predicted risk score for each cluster and each target feature\n",
        "average_risk_scores = {}\n",
        "\n",
        "for feature in y.columns:\n",
        "    average_risk_scores[feature] = {}\n",
        "    for cluster in set(cluster_labels):\n",
        "        cluster_indices = cluster_labels == cluster\n",
        "        average_risk_scores[feature][cluster] = predicted_risk_scores[feature][cluster_indices].mean()\n",
        "\n",
        "# Print the predicted risk scores for each cluster and each target feature\n",
        "for feature in y.columns:\n",
        "    for cluster, prediction in average_risk_scores[feature].items():\n",
        "        print(f\"Cluster {cluster}: Predicted risk of {feature} - {prediction:.4f}\")"
      ]
    },
    {
      "cell_type": "code",
      "execution_count": 138,
      "id": "6439821f",
      "metadata": {},
      "outputs": [
        {
          "name": "stdout",
          "output_type": "stream",
          "text": [
            "        ALCDAY5  AVEDRNK2  BEANDAY_  BLOODCHO  BPHIGH4  BPMEDS  CHCSCNCR  \\\n",
            "35327     207.0      24.0      33.0         2      3.0     2.0       1.0   \n",
            "100976    213.0      21.0     120.0         1      2.0     2.0       1.0   \n",
            "368629    206.0       5.0     143.0         2      2.0     1.0       1.0   \n",
            "\n",
            "        CHOLCHK  DIABETE3  DRNKANY5  DROCDY3_  EDUCA  EXERANY2  EXERHMM1  \\\n",
            "35327       2.0       3.0         1        50      1       2.0     215.0   \n",
            "100976      2.0       4.0         7        97      4       2.0     215.0   \n",
            "368629      1.0       1.0         7        67      1       1.0      58.0   \n",
            "\n",
            "        EXERHMM2  EXEROFT1  \n",
            "35327      830.0     104.0  \n",
            "100976     400.0     262.0  \n",
            "368629     924.0     218.0  \n",
            "        ALCDAY5  AVEDRNK2  BEANDAY_  BLOODCHO  BPHIGH4  BPMEDS  CHCSCNCR  \\\n",
            "35327     207.0      24.0      33.0         2      3.0     2.0       1.0   \n",
            "100976    213.0      21.0     120.0         1      2.0     2.0       1.0   \n",
            "368629    206.0       5.0     143.0         2      2.0     1.0       1.0   \n",
            "\n",
            "        CHOLCHK  DIABETE3  DRNKANY5  DROCDY3_  EDUCA  EXERANY2  EXERHMM1  \\\n",
            "35327       2.0       3.0         1        50      1       2.0     215.0   \n",
            "100976      2.0       4.0         7        97      4       2.0     215.0   \n",
            "368629      1.0       1.0         7        67      1       1.0      58.0   \n",
            "\n",
            "        EXERHMM2  EXEROFT1  cluster  \n",
            "35327      830.0     104.0      2.0  \n",
            "100976     400.0     262.0      2.0  \n",
            "368629     924.0     218.0      2.0  \n"
          ]
        }
      ],
      "source": [
        "# Randomly choose new individuals from the dataset\n",
        "num_new_individuals = 3  # Specify the desired number of new individuals\n",
        "new_individuals = daf.sample(n=num_new_individuals, replace=True)\n",
        "\n",
        "# Generate random numbers for each column based on the dataset column values\n",
        "for column in new_individuals.columns:\n",
        "    if column != 'cluster':  # Skip the 'cluster' column\n",
        "        unique_values = daf[column].unique()\n",
        "        new_individuals[column] = np.random.choice(unique_values, size=num_new_individuals)\n",
        "new_individuals.drop(['CVDINFR4','CVDCRHD4','CVDSTRK3','_MICHD'],axis=1,inplace=True)\n",
        "# Print the generated new individuals\n",
        "print(new_individuals)\n",
        "\n",
        "# Predict the health outcomes for new individuals\n",
        "predicted_outcomes = model.predict(new_individuals)\n",
        "predicted_outcomes= predicted_outcomes.flatten().tolist()\n",
        "# Assign the new individuals to clusters based on their predicted health outcomes\n",
        "new_individuals['cluster'] = predicted_outcomes\n",
        "\n",
        "# Print the generated new individuals and their assigned clusters\n",
        "print(new_individuals)"
      ]
    },
    {
      "cell_type": "code",
      "execution_count": null,
      "id": "cb183eb1",
      "metadata": {},
      "outputs": [],
      "source": [
        "# Define the personalized doctor recommendations for each segment\n",
        "recommendations = {\n",
        "    1: \"Congratulations, the patient is healthy.\",\n",
        "    2: \"Quit smoking, limit alcohol consumption and try to stay healthy to avoid getting diabetes.\",\n",
        "    3: \"Patient is at risk! Please visit a specialist!\",\n",
        "}\n",
        "\n",
        "\n",
        "# Provide personalized doctor recommendations for each new individual\n",
        "for segment in predicted_outcomes:\n",
        "    if segment in recommendations:\n",
        "        recommendation = recommendations[segment]\n",
        "        print(\"Recommendation for patient {}: {}\".format(segment, recommendation))\n",
        "    else:\n",
        "        print(\"No specific recommendation available for patient {}\".format(segment))"
      ]
    },
    {
      "cell_type": "code",
      "execution_count": null,
      "id": "dfacdec8",
      "metadata": {},
      "outputs": [],
      "source": [
        "doc_df=pd.read_csv(\"healthcare_docs.csv\")\n",
        "doc_df.rename(columns={'CredentialType': 'Specialty'},inplace=True)\n",
        "doc_df['FullName'] = doc_df['LastName'].str.cat(doc_df['FirstName'], sep=' ')\n",
        "doc_df.drop([\"LastName\",\"FirstName\"],axis=1,inplace=True)\n",
        "filtered_doc_df = doc_df.copy()  # Create a copy of the DataFrame to avoid modifying the original data\n",
        "\n",
        "# Iterate over the DataFrame and drop rows containing \"Nurse\" or \"Pharmacy\" in the \"Specialty\" column\n",
        "for index, row in doc_df.iterrows():\n",
        "    if (\"Nurse\" in row['Specialty']) or (\"Pharmacy\" in row['Specialty']) or (\"Nursing\" in row['Specialty']) or (\"Dental\" in row['Specialty']):\n",
        "        filtered_doc_df.drop(index, inplace=True)\n",
        "\n",
        "# Reset the index of the filtered DataFrame\n",
        "filtered_doc_df.reset_index(drop=True, inplace=True)\n",
        "\n",
        "doc_df = filtered_doc_df\n",
        "doc_df"
      ]
    },
    {
      "cell_type": "code",
      "execution_count": null,
      "id": "777d6aa7",
      "metadata": {},
      "outputs": [],
      "source": [
        "from sklearn.feature_extraction.text import TfidfVectorizer\n",
        "from sklearn.metrics.pairwise import cosine_similarity\n",
        "\n",
        "specialties = doc_df['Specialty'].fillna('').astype(str).tolist()  # Convert to list of strings\n",
        "\n",
        "# Compute TF-IDF scores for the specialties\n",
        "tfidf_vectorizer = TfidfVectorizer()\n",
        "tfidf_matrix = tfidf_vectorizer.fit_transform(specialties)\n",
        "\n",
        "# Convert predicted_outcomes to a list of strings\n",
        "predicted_outcomes = [str(outcome) for outcome in predicted_outcomes]\n",
        "\n",
        "# Compute the TF-IDF vector for each patient's predicted disease or risk category\n",
        "patient_tfidf = tfidf_vectorizer.transform(predicted_outcomes)\n",
        "\n",
        "# Calculate cosine similarity between each patient's TF-IDF vector and all doctors' TF-IDF vectors\n",
        "similarity_scores = cosine_similarity(patient_tfidf, tfidf_matrix)\n",
        "\n",
        "# Retrieve top N doctors based on similarity scores for each patient\n",
        "top_n = 10 # Number of recommendations to retrieve\n",
        "\n",
        "# Print the recommended doctors for each patient, only if there is a predicted risk\n",
        "print(\"Recommended Doctors:\")\n",
        "for i in range(len(new_individuals)):\n",
        "    patient = new_individuals.iloc[i]\n",
        "    if predicted_outcomes[i] == \"3.0\":  # Check if there is a predicted risk\n",
        "        patient_similarity_scores = similarity_scores[i]\n",
        "        top_indices = patient_similarity_scores.argsort()[-top_n:][::-1]  # Indices of top recommendations\n",
        "\n",
        "        print(f\"Recommendations for Patient {i+1}:\")\n",
        "        for index in top_indices:\n",
        "            doctor = doc_df.iloc[index]\n",
        "            if \"medical\" in doctor['Specialty'].lower() or \"physical\" in doctor['Specialty'].lower() or \"physician\" in doctor['Specialty'].lower():\n",
        "                print(f\"- {doctor['FullName']}, Specialty: {doctor['Specialty']}\")\n",
        "    else:\n",
        "        print(f\"No recommendations for Patient {i+1} as there is no predicted risk.\")\n",
        "    print()"
      ]
    },
    {
      "cell_type": "code",
      "execution_count": null,
      "id": "68a36f18",
      "metadata": {},
      "outputs": [],
      "source": []
    }
  ],
  "metadata": {
    "kernel_info": {
      "name": "python38-azureml"
    },
    "kernelspec": {
      "display_name": "Python 3",
      "language": "python",
      "name": "python3"
    },
    "language_info": {
      "codemirror_mode": {
        "name": "ipython",
        "version": 3
      },
      "file_extension": ".py",
      "mimetype": "text/x-python",
      "name": "python",
      "nbconvert_exporter": "python",
      "pygments_lexer": "ipython3",
      "version": "3.8.8"
    },
    "microsoft": {
      "host": {
        "AzureML": {
          "notebookHasBeenCompleted": true
        }
      },
      "ms_spell_check": {
        "ms_spell_check_language": "en"
      }
    },
    "nteract": {
      "version": "nteract-front-end@1.0.0"
    }
  },
  "nbformat": 4,
  "nbformat_minor": 5
}
