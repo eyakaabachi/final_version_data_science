{
  "cells": [
    {
      "attachments": {},
      "cell_type": "markdown",
      "source": [
        "# Clustering for Heart Disease"
      ],
      "metadata": {},
      "id": "523b2163"
    },
    {
      "cell_type": "code",
      "source": [
        "import pandas as pd\n",
        "import matplotlib.pyplot as plt\n",
        "from IPython.core.interactiveshell import InteractiveShell\n",
        "InteractiveShell.ast_node_interactivity = \"all\"\n",
        "import numpy as np\n",
        "import datetime\n",
        "import matplotlib\n",
        "import matplotlib.pyplot as plt\n",
        "from matplotlib import colors\n",
        "import seaborn as sns\n",
        "#from pandas_profiling import ProfileReport\n",
        "from sklearn.preprocessing import LabelEncoder\n",
        "from sklearn.preprocessing import StandardScaler\n",
        "from sklearn.decomposition import PCA\n",
        "from sklearn.cluster import KMeans\n",
        "import matplotlib.pyplot as plt, numpy as np\n",
        "from mpl_toolkits.mplot3d import Axes3D\n",
        "from sklearn.cluster import AgglomerativeClustering\n",
        "from matplotlib.colors import ListedColormap\n",
        "from sklearn import metrics\n",
        "import sys\n",
        "import warnings\n",
        "warnings.filterwarnings('ignore')"
      ],
      "outputs": [],
      "execution_count": 1,
      "metadata": {
        "gather": {
          "logged": 1685096000279
        }
      },
      "id": "827a1745"
    },
    {
      "cell_type": "code",
      "source": [
        "df=pd.read_csv(\"new_datapfe.csv\")\n",
        "pd.set_option('display.max_columns', None)\n",
        "df "
      ],
      "outputs": [
        {
          "output_type": "execute_result",
          "execution_count": 2,
          "data": {
            "text/plain": "        Patient_ID  SEX  MARITAL  EDUCA  WEIGHT2  HEIGHT3  _INCOMG   _BMI5  \\\n0                1    2        1      4    280.0    510.0        2  4018.0   \n1                2    2        2      6    165.0    508.0        1  2509.0   \n2                3    2        2      4    158.0    511.0        5  2204.0   \n3                4    2        1      4    180.0    507.0        5  2819.0   \n4                5    2        1      5    142.0    504.0        5  2437.0   \n...            ...  ...      ...    ...      ...      ...      ...     ...   \n441451      441452    2        3      2    104.0    503.0        2  1842.0   \n441452      441453    2        1      5    160.0    503.0        1  2834.0   \n441453      441454    2        1      4    247.0    505.0        3  4110.0   \n441454      441455    1        5      5    166.0    511.0        1  2315.0   \n441455      441456    2        1      6    135.0    502.0        1  2469.0   \n\n        _AGEG5YR  GENHLTH  EXERANY2   EXRACT11  EXEROFT1  EXERHMM1  EXRACT21  \\\n0              9      5.0       2.0  52.432544     103.0      30.0       0.0   \n1              7      3.0       1.0  64.000000     212.0     100.0      69.0   \n2             11      4.0       1.0  52.432544     103.0      30.0       0.0   \n3              9      5.0       2.0  52.432544     103.0      30.0       0.0   \n4              9      5.0       2.0  52.432544     103.0      30.0       0.0   \n...          ...      ...       ...        ...       ...       ...       ...   \n441451        11      4.0       2.0  52.432544     103.0      30.0       0.0   \n441452         2      1.0       1.0  64.000000     105.0      30.0       0.0   \n441453        11      4.0       1.0  52.432544     103.0      30.0       0.0   \n441454         7      3.0       2.0  52.432544     103.0      30.0       0.0   \n441455         9      2.0       1.0  64.000000     103.0      30.0       0.0   \n\n        EXEROFT2  EXERHMM2  ALCDAY5  AVEDRNK2  MAXDRNKS  DROCDY3_  _RFBING5  \\\n0          102.0      30.0      0.0       1.0       2.0         0         1   \n1          212.0     100.0      0.0       1.0       2.0         0         1   \n2          102.0      30.0      0.0       1.0       2.0       900         1   \n3          102.0      30.0      0.0       1.0       2.0         0         1   \n4          102.0      30.0      0.0       1.0       2.0         0         1   \n...          ...       ...      ...       ...       ...       ...       ...   \n441451     102.0      30.0      0.0       1.0       2.0         0         1   \n441452     102.0      30.0      0.0       1.0       2.0         0         1   \n441453     102.0      30.0    202.0       2.0       2.0         7         1   \n441454     102.0      30.0      0.0       1.0       2.0         0         1   \n441455     102.0      30.0      0.0       1.0       2.0         0         1   \n\n        _DRNKWEK  _RFDRHV5  DRNKANY5  MENTHLTH  FRUIT1  FVBEANS  FVGREEN  \\\n0              0         1         2        18   310.0    320.0    310.0   \n1              0         1         2         0   305.0    302.0    202.0   \n2          99900         1         1         0   101.0    555.0    101.0   \n3              0         1         2        30   101.0    555.0    301.0   \n4              0         1         2         0   102.0    203.0    204.0   \n...          ...       ...       ...       ...     ...      ...      ...   \n441451         0         1         2         0   555.0    205.0    555.0   \n441452         0         1         2         0   101.0    202.0    303.0   \n441453        93         1         1        20   101.0    555.0    101.0   \n441454         0         1         2         0   101.0    101.0    202.0   \n441455         0         1         2         0   101.0    201.0    201.0   \n\n        FVORANG  VEGETAB1  FRUTDA1_  BEANDAY_  GRENDAY_  ORNGDAY_  VEGEDA1_  \\\n0         305.0     101.0      33.0      67.0      33.0      17.0     100.0   \n1         202.0     304.0      17.0       7.0      29.0      29.0      13.0   \n2         555.0     101.0     100.0       0.0     100.0       0.0     100.0   \n3         301.0     201.0     100.0       0.0       3.0       3.0      14.0   \n4         310.0     320.0     200.0      43.0      57.0      33.0      67.0   \n...         ...       ...       ...       ...       ...       ...       ...   \n441451    201.0     201.0       0.0      71.0       0.0      14.0      14.0   \n441452    201.0     202.0     100.0      29.0      10.0      14.0      29.0   \n441453    555.0     101.0     100.0       0.0     100.0       0.0     100.0   \n441454    301.0     301.0     100.0     100.0      29.0       3.0       3.0   \n441455    201.0     202.0     100.0      14.0      14.0      14.0      29.0   \n\n        _FRUTSUM  _VEGESUM  _FRTLT1  _VEGLT1  BPHIGH4  BPMEDS  BLOODCHO  \\\n0           50.0     217.0        2        1      1.0     1.0         1   \n1           24.0      78.0        2        2      3.0     1.0         1   \n2          100.0     200.0        1        1      3.0     1.0         1   \n3          100.0      20.0        1        2      1.0     1.0         1   \n4          100.0     200.0        1        1      3.0     1.0         1   \n...          ...       ...      ...      ...      ...     ...       ...   \n441451      29.0     200.0        2        2      1.0     1.0         1   \n441452     117.0      82.0        1        2      3.0     1.0         1   \n441453     100.0     200.0        1        1      1.0     1.0         1   \n441454     200.0     135.0        1        1      1.0     1.0         1   \n441455     200.0      71.0        1        2      1.0     1.0         1   \n\n        CHOLCHK  TOLDHI2  CVDINFR4  CVDCRHD4  CVDSTRK3  _MICHD  CHCSCNCR  \\\n0           1.0      1.0         2       2.0         2     2.0       2.0   \n1           4.0      2.0         2       2.0         2     2.0       2.0   \n2           1.0      1.0         7       2.0         1     2.0       2.0   \n3           1.0      1.0         2       2.0         2     2.0       2.0   \n4           1.0      2.0         2       2.0         2     2.0       2.0   \n...         ...      ...       ...       ...       ...     ...       ...   \n441451      1.0      1.0         2       2.0         2     2.0       2.0   \n441452      1.0      2.0         2       2.0         2     2.0       2.0   \n441453      1.0      1.0         2       2.0         2     2.0       2.0   \n441454      1.0      2.0         2       2.0         2     2.0       2.0   \n441455      1.0      1.0         1       2.0         2     1.0       1.0   \n\n        DIABETE3  SMOKE100  SMOKDAY2  USENOW3  _SMOKER3  _RFSMOK3  PHYSHLTH  \n0            3.0       1.0       3.0      3.0         2         1      15.0  \n1            3.0       1.0       1.0      3.0         1         2       0.0  \n2            3.0       2.0       3.0      3.0         2         1      15.0  \n3            3.0       2.0       3.0      3.0         2         1      30.0  \n4            3.0       2.0       3.0      3.0         2         1      20.0  \n...          ...       ...       ...      ...       ...       ...       ...  \n441451       1.0       2.0       3.0      3.0         2         1       0.0  \n441452       3.0       2.0       3.0      3.0         2         1       0.0  \n441453       3.0       1.0       3.0      3.0         2         1       0.0  \n441454       3.0       2.0       3.0      3.0         2         1       0.0  \n441455       1.0       2.0       3.0      3.0         2         1       0.0  \n\n[441456 rows x 57 columns]",
            "text/html": "<div>\n<style scoped>\n    .dataframe tbody tr th:only-of-type {\n        vertical-align: middle;\n    }\n\n    .dataframe tbody tr th {\n        vertical-align: top;\n    }\n\n    .dataframe thead th {\n        text-align: right;\n    }\n</style>\n<table border=\"1\" class=\"dataframe\">\n  <thead>\n    <tr style=\"text-align: right;\">\n      <th></th>\n      <th>Patient_ID</th>\n      <th>SEX</th>\n      <th>MARITAL</th>\n      <th>EDUCA</th>\n      <th>WEIGHT2</th>\n      <th>HEIGHT3</th>\n      <th>_INCOMG</th>\n      <th>_BMI5</th>\n      <th>_AGEG5YR</th>\n      <th>GENHLTH</th>\n      <th>EXERANY2</th>\n      <th>EXRACT11</th>\n      <th>EXEROFT1</th>\n      <th>EXERHMM1</th>\n      <th>EXRACT21</th>\n      <th>EXEROFT2</th>\n      <th>EXERHMM2</th>\n      <th>ALCDAY5</th>\n      <th>AVEDRNK2</th>\n      <th>MAXDRNKS</th>\n      <th>DROCDY3_</th>\n      <th>_RFBING5</th>\n      <th>_DRNKWEK</th>\n      <th>_RFDRHV5</th>\n      <th>DRNKANY5</th>\n      <th>MENTHLTH</th>\n      <th>FRUIT1</th>\n      <th>FVBEANS</th>\n      <th>FVGREEN</th>\n      <th>FVORANG</th>\n      <th>VEGETAB1</th>\n      <th>FRUTDA1_</th>\n      <th>BEANDAY_</th>\n      <th>GRENDAY_</th>\n      <th>ORNGDAY_</th>\n      <th>VEGEDA1_</th>\n      <th>_FRUTSUM</th>\n      <th>_VEGESUM</th>\n      <th>_FRTLT1</th>\n      <th>_VEGLT1</th>\n      <th>BPHIGH4</th>\n      <th>BPMEDS</th>\n      <th>BLOODCHO</th>\n      <th>CHOLCHK</th>\n      <th>TOLDHI2</th>\n      <th>CVDINFR4</th>\n      <th>CVDCRHD4</th>\n      <th>CVDSTRK3</th>\n      <th>_MICHD</th>\n      <th>CHCSCNCR</th>\n      <th>DIABETE3</th>\n      <th>SMOKE100</th>\n      <th>SMOKDAY2</th>\n      <th>USENOW3</th>\n      <th>_SMOKER3</th>\n      <th>_RFSMOK3</th>\n      <th>PHYSHLTH</th>\n    </tr>\n  </thead>\n  <tbody>\n    <tr>\n      <th>0</th>\n      <td>1</td>\n      <td>2</td>\n      <td>1</td>\n      <td>4</td>\n      <td>280.0</td>\n      <td>510.0</td>\n      <td>2</td>\n      <td>4018.0</td>\n      <td>9</td>\n      <td>5.0</td>\n      <td>2.0</td>\n      <td>52.432544</td>\n      <td>103.0</td>\n      <td>30.0</td>\n      <td>0.0</td>\n      <td>102.0</td>\n      <td>30.0</td>\n      <td>0.0</td>\n      <td>1.0</td>\n      <td>2.0</td>\n      <td>0</td>\n      <td>1</td>\n      <td>0</td>\n      <td>1</td>\n      <td>2</td>\n      <td>18</td>\n      <td>310.0</td>\n      <td>320.0</td>\n      <td>310.0</td>\n      <td>305.0</td>\n      <td>101.0</td>\n      <td>33.0</td>\n      <td>67.0</td>\n      <td>33.0</td>\n      <td>17.0</td>\n      <td>100.0</td>\n      <td>50.0</td>\n      <td>217.0</td>\n      <td>2</td>\n      <td>1</td>\n      <td>1.0</td>\n      <td>1.0</td>\n      <td>1</td>\n      <td>1.0</td>\n      <td>1.0</td>\n      <td>2</td>\n      <td>2.0</td>\n      <td>2</td>\n      <td>2.0</td>\n      <td>2.0</td>\n      <td>3.0</td>\n      <td>1.0</td>\n      <td>3.0</td>\n      <td>3.0</td>\n      <td>2</td>\n      <td>1</td>\n      <td>15.0</td>\n    </tr>\n    <tr>\n      <th>1</th>\n      <td>2</td>\n      <td>2</td>\n      <td>2</td>\n      <td>6</td>\n      <td>165.0</td>\n      <td>508.0</td>\n      <td>1</td>\n      <td>2509.0</td>\n      <td>7</td>\n      <td>3.0</td>\n      <td>1.0</td>\n      <td>64.000000</td>\n      <td>212.0</td>\n      <td>100.0</td>\n      <td>69.0</td>\n      <td>212.0</td>\n      <td>100.0</td>\n      <td>0.0</td>\n      <td>1.0</td>\n      <td>2.0</td>\n      <td>0</td>\n      <td>1</td>\n      <td>0</td>\n      <td>1</td>\n      <td>2</td>\n      <td>0</td>\n      <td>305.0</td>\n      <td>302.0</td>\n      <td>202.0</td>\n      <td>202.0</td>\n      <td>304.0</td>\n      <td>17.0</td>\n      <td>7.0</td>\n      <td>29.0</td>\n      <td>29.0</td>\n      <td>13.0</td>\n      <td>24.0</td>\n      <td>78.0</td>\n      <td>2</td>\n      <td>2</td>\n      <td>3.0</td>\n      <td>1.0</td>\n      <td>1</td>\n      <td>4.0</td>\n      <td>2.0</td>\n      <td>2</td>\n      <td>2.0</td>\n      <td>2</td>\n      <td>2.0</td>\n      <td>2.0</td>\n      <td>3.0</td>\n      <td>1.0</td>\n      <td>1.0</td>\n      <td>3.0</td>\n      <td>1</td>\n      <td>2</td>\n      <td>0.0</td>\n    </tr>\n    <tr>\n      <th>2</th>\n      <td>3</td>\n      <td>2</td>\n      <td>2</td>\n      <td>4</td>\n      <td>158.0</td>\n      <td>511.0</td>\n      <td>5</td>\n      <td>2204.0</td>\n      <td>11</td>\n      <td>4.0</td>\n      <td>1.0</td>\n      <td>52.432544</td>\n      <td>103.0</td>\n      <td>30.0</td>\n      <td>0.0</td>\n      <td>102.0</td>\n      <td>30.0</td>\n      <td>0.0</td>\n      <td>1.0</td>\n      <td>2.0</td>\n      <td>900</td>\n      <td>1</td>\n      <td>99900</td>\n      <td>1</td>\n      <td>1</td>\n      <td>0</td>\n      <td>101.0</td>\n      <td>555.0</td>\n      <td>101.0</td>\n      <td>555.0</td>\n      <td>101.0</td>\n      <td>100.0</td>\n      <td>0.0</td>\n      <td>100.0</td>\n      <td>0.0</td>\n      <td>100.0</td>\n      <td>100.0</td>\n      <td>200.0</td>\n      <td>1</td>\n      <td>1</td>\n      <td>3.0</td>\n      <td>1.0</td>\n      <td>1</td>\n      <td>1.0</td>\n      <td>1.0</td>\n      <td>7</td>\n      <td>2.0</td>\n      <td>1</td>\n      <td>2.0</td>\n      <td>2.0</td>\n      <td>3.0</td>\n      <td>2.0</td>\n      <td>3.0</td>\n      <td>3.0</td>\n      <td>2</td>\n      <td>1</td>\n      <td>15.0</td>\n    </tr>\n    <tr>\n      <th>3</th>\n      <td>4</td>\n      <td>2</td>\n      <td>1</td>\n      <td>4</td>\n      <td>180.0</td>\n      <td>507.0</td>\n      <td>5</td>\n      <td>2819.0</td>\n      <td>9</td>\n      <td>5.0</td>\n      <td>2.0</td>\n      <td>52.432544</td>\n      <td>103.0</td>\n      <td>30.0</td>\n      <td>0.0</td>\n      <td>102.0</td>\n      <td>30.0</td>\n      <td>0.0</td>\n      <td>1.0</td>\n      <td>2.0</td>\n      <td>0</td>\n      <td>1</td>\n      <td>0</td>\n      <td>1</td>\n      <td>2</td>\n      <td>30</td>\n      <td>101.0</td>\n      <td>555.0</td>\n      <td>301.0</td>\n      <td>301.0</td>\n      <td>201.0</td>\n      <td>100.0</td>\n      <td>0.0</td>\n      <td>3.0</td>\n      <td>3.0</td>\n      <td>14.0</td>\n      <td>100.0</td>\n      <td>20.0</td>\n      <td>1</td>\n      <td>2</td>\n      <td>1.0</td>\n      <td>1.0</td>\n      <td>1</td>\n      <td>1.0</td>\n      <td>1.0</td>\n      <td>2</td>\n      <td>2.0</td>\n      <td>2</td>\n      <td>2.0</td>\n      <td>2.0</td>\n      <td>3.0</td>\n      <td>2.0</td>\n      <td>3.0</td>\n      <td>3.0</td>\n      <td>2</td>\n      <td>1</td>\n      <td>30.0</td>\n    </tr>\n    <tr>\n      <th>4</th>\n      <td>5</td>\n      <td>2</td>\n      <td>1</td>\n      <td>5</td>\n      <td>142.0</td>\n      <td>504.0</td>\n      <td>5</td>\n      <td>2437.0</td>\n      <td>9</td>\n      <td>5.0</td>\n      <td>2.0</td>\n      <td>52.432544</td>\n      <td>103.0</td>\n      <td>30.0</td>\n      <td>0.0</td>\n      <td>102.0</td>\n      <td>30.0</td>\n      <td>0.0</td>\n      <td>1.0</td>\n      <td>2.0</td>\n      <td>0</td>\n      <td>1</td>\n      <td>0</td>\n      <td>1</td>\n      <td>2</td>\n      <td>0</td>\n      <td>102.0</td>\n      <td>203.0</td>\n      <td>204.0</td>\n      <td>310.0</td>\n      <td>320.0</td>\n      <td>200.0</td>\n      <td>43.0</td>\n      <td>57.0</td>\n      <td>33.0</td>\n      <td>67.0</td>\n      <td>100.0</td>\n      <td>200.0</td>\n      <td>1</td>\n      <td>1</td>\n      <td>3.0</td>\n      <td>1.0</td>\n      <td>1</td>\n      <td>1.0</td>\n      <td>2.0</td>\n      <td>2</td>\n      <td>2.0</td>\n      <td>2</td>\n      <td>2.0</td>\n      <td>2.0</td>\n      <td>3.0</td>\n      <td>2.0</td>\n      <td>3.0</td>\n      <td>3.0</td>\n      <td>2</td>\n      <td>1</td>\n      <td>20.0</td>\n    </tr>\n    <tr>\n      <th>...</th>\n      <td>...</td>\n      <td>...</td>\n      <td>...</td>\n      <td>...</td>\n      <td>...</td>\n      <td>...</td>\n      <td>...</td>\n      <td>...</td>\n      <td>...</td>\n      <td>...</td>\n      <td>...</td>\n      <td>...</td>\n      <td>...</td>\n      <td>...</td>\n      <td>...</td>\n      <td>...</td>\n      <td>...</td>\n      <td>...</td>\n      <td>...</td>\n      <td>...</td>\n      <td>...</td>\n      <td>...</td>\n      <td>...</td>\n      <td>...</td>\n      <td>...</td>\n      <td>...</td>\n      <td>...</td>\n      <td>...</td>\n      <td>...</td>\n      <td>...</td>\n      <td>...</td>\n      <td>...</td>\n      <td>...</td>\n      <td>...</td>\n      <td>...</td>\n      <td>...</td>\n      <td>...</td>\n      <td>...</td>\n      <td>...</td>\n      <td>...</td>\n      <td>...</td>\n      <td>...</td>\n      <td>...</td>\n      <td>...</td>\n      <td>...</td>\n      <td>...</td>\n      <td>...</td>\n      <td>...</td>\n      <td>...</td>\n      <td>...</td>\n      <td>...</td>\n      <td>...</td>\n      <td>...</td>\n      <td>...</td>\n      <td>...</td>\n      <td>...</td>\n      <td>...</td>\n    </tr>\n    <tr>\n      <th>441451</th>\n      <td>441452</td>\n      <td>2</td>\n      <td>3</td>\n      <td>2</td>\n      <td>104.0</td>\n      <td>503.0</td>\n      <td>2</td>\n      <td>1842.0</td>\n      <td>11</td>\n      <td>4.0</td>\n      <td>2.0</td>\n      <td>52.432544</td>\n      <td>103.0</td>\n      <td>30.0</td>\n      <td>0.0</td>\n      <td>102.0</td>\n      <td>30.0</td>\n      <td>0.0</td>\n      <td>1.0</td>\n      <td>2.0</td>\n      <td>0</td>\n      <td>1</td>\n      <td>0</td>\n      <td>1</td>\n      <td>2</td>\n      <td>0</td>\n      <td>555.0</td>\n      <td>205.0</td>\n      <td>555.0</td>\n      <td>201.0</td>\n      <td>201.0</td>\n      <td>0.0</td>\n      <td>71.0</td>\n      <td>0.0</td>\n      <td>14.0</td>\n      <td>14.0</td>\n      <td>29.0</td>\n      <td>200.0</td>\n      <td>2</td>\n      <td>2</td>\n      <td>1.0</td>\n      <td>1.0</td>\n      <td>1</td>\n      <td>1.0</td>\n      <td>1.0</td>\n      <td>2</td>\n      <td>2.0</td>\n      <td>2</td>\n      <td>2.0</td>\n      <td>2.0</td>\n      <td>1.0</td>\n      <td>2.0</td>\n      <td>3.0</td>\n      <td>3.0</td>\n      <td>2</td>\n      <td>1</td>\n      <td>0.0</td>\n    </tr>\n    <tr>\n      <th>441452</th>\n      <td>441453</td>\n      <td>2</td>\n      <td>1</td>\n      <td>5</td>\n      <td>160.0</td>\n      <td>503.0</td>\n      <td>1</td>\n      <td>2834.0</td>\n      <td>2</td>\n      <td>1.0</td>\n      <td>1.0</td>\n      <td>64.000000</td>\n      <td>105.0</td>\n      <td>30.0</td>\n      <td>0.0</td>\n      <td>102.0</td>\n      <td>30.0</td>\n      <td>0.0</td>\n      <td>1.0</td>\n      <td>2.0</td>\n      <td>0</td>\n      <td>1</td>\n      <td>0</td>\n      <td>1</td>\n      <td>2</td>\n      <td>0</td>\n      <td>101.0</td>\n      <td>202.0</td>\n      <td>303.0</td>\n      <td>201.0</td>\n      <td>202.0</td>\n      <td>100.0</td>\n      <td>29.0</td>\n      <td>10.0</td>\n      <td>14.0</td>\n      <td>29.0</td>\n      <td>117.0</td>\n      <td>82.0</td>\n      <td>1</td>\n      <td>2</td>\n      <td>3.0</td>\n      <td>1.0</td>\n      <td>1</td>\n      <td>1.0</td>\n      <td>2.0</td>\n      <td>2</td>\n      <td>2.0</td>\n      <td>2</td>\n      <td>2.0</td>\n      <td>2.0</td>\n      <td>3.0</td>\n      <td>2.0</td>\n      <td>3.0</td>\n      <td>3.0</td>\n      <td>2</td>\n      <td>1</td>\n      <td>0.0</td>\n    </tr>\n    <tr>\n      <th>441453</th>\n      <td>441454</td>\n      <td>2</td>\n      <td>1</td>\n      <td>4</td>\n      <td>247.0</td>\n      <td>505.0</td>\n      <td>3</td>\n      <td>4110.0</td>\n      <td>11</td>\n      <td>4.0</td>\n      <td>1.0</td>\n      <td>52.432544</td>\n      <td>103.0</td>\n      <td>30.0</td>\n      <td>0.0</td>\n      <td>102.0</td>\n      <td>30.0</td>\n      <td>202.0</td>\n      <td>2.0</td>\n      <td>2.0</td>\n      <td>7</td>\n      <td>1</td>\n      <td>93</td>\n      <td>1</td>\n      <td>1</td>\n      <td>20</td>\n      <td>101.0</td>\n      <td>555.0</td>\n      <td>101.0</td>\n      <td>555.0</td>\n      <td>101.0</td>\n      <td>100.0</td>\n      <td>0.0</td>\n      <td>100.0</td>\n      <td>0.0</td>\n      <td>100.0</td>\n      <td>100.0</td>\n      <td>200.0</td>\n      <td>1</td>\n      <td>1</td>\n      <td>1.0</td>\n      <td>1.0</td>\n      <td>1</td>\n      <td>1.0</td>\n      <td>1.0</td>\n      <td>2</td>\n      <td>2.0</td>\n      <td>2</td>\n      <td>2.0</td>\n      <td>2.0</td>\n      <td>3.0</td>\n      <td>1.0</td>\n      <td>3.0</td>\n      <td>3.0</td>\n      <td>2</td>\n      <td>1</td>\n      <td>0.0</td>\n    </tr>\n    <tr>\n      <th>441454</th>\n      <td>441455</td>\n      <td>1</td>\n      <td>5</td>\n      <td>5</td>\n      <td>166.0</td>\n      <td>511.0</td>\n      <td>1</td>\n      <td>2315.0</td>\n      <td>7</td>\n      <td>3.0</td>\n      <td>2.0</td>\n      <td>52.432544</td>\n      <td>103.0</td>\n      <td>30.0</td>\n      <td>0.0</td>\n      <td>102.0</td>\n      <td>30.0</td>\n      <td>0.0</td>\n      <td>1.0</td>\n      <td>2.0</td>\n      <td>0</td>\n      <td>1</td>\n      <td>0</td>\n      <td>1</td>\n      <td>2</td>\n      <td>0</td>\n      <td>101.0</td>\n      <td>101.0</td>\n      <td>202.0</td>\n      <td>301.0</td>\n      <td>301.0</td>\n      <td>100.0</td>\n      <td>100.0</td>\n      <td>29.0</td>\n      <td>3.0</td>\n      <td>3.0</td>\n      <td>200.0</td>\n      <td>135.0</td>\n      <td>1</td>\n      <td>1</td>\n      <td>1.0</td>\n      <td>1.0</td>\n      <td>1</td>\n      <td>1.0</td>\n      <td>2.0</td>\n      <td>2</td>\n      <td>2.0</td>\n      <td>2</td>\n      <td>2.0</td>\n      <td>2.0</td>\n      <td>3.0</td>\n      <td>2.0</td>\n      <td>3.0</td>\n      <td>3.0</td>\n      <td>2</td>\n      <td>1</td>\n      <td>0.0</td>\n    </tr>\n    <tr>\n      <th>441455</th>\n      <td>441456</td>\n      <td>2</td>\n      <td>1</td>\n      <td>6</td>\n      <td>135.0</td>\n      <td>502.0</td>\n      <td>1</td>\n      <td>2469.0</td>\n      <td>9</td>\n      <td>2.0</td>\n      <td>1.0</td>\n      <td>64.000000</td>\n      <td>103.0</td>\n      <td>30.0</td>\n      <td>0.0</td>\n      <td>102.0</td>\n      <td>30.0</td>\n      <td>0.0</td>\n      <td>1.0</td>\n      <td>2.0</td>\n      <td>0</td>\n      <td>1</td>\n      <td>0</td>\n      <td>1</td>\n      <td>2</td>\n      <td>0</td>\n      <td>101.0</td>\n      <td>201.0</td>\n      <td>201.0</td>\n      <td>201.0</td>\n      <td>202.0</td>\n      <td>100.0</td>\n      <td>14.0</td>\n      <td>14.0</td>\n      <td>14.0</td>\n      <td>29.0</td>\n      <td>200.0</td>\n      <td>71.0</td>\n      <td>1</td>\n      <td>2</td>\n      <td>1.0</td>\n      <td>1.0</td>\n      <td>1</td>\n      <td>1.0</td>\n      <td>1.0</td>\n      <td>1</td>\n      <td>2.0</td>\n      <td>2</td>\n      <td>1.0</td>\n      <td>1.0</td>\n      <td>1.0</td>\n      <td>2.0</td>\n      <td>3.0</td>\n      <td>3.0</td>\n      <td>2</td>\n      <td>1</td>\n      <td>0.0</td>\n    </tr>\n  </tbody>\n</table>\n<p>441456 rows × 57 columns</p>\n</div>"
          },
          "metadata": {}
        }
      ],
      "execution_count": 2,
      "metadata": {
        "gather": {
          "logged": 1685096005862
        }
      },
      "id": "bd8b6b5c"
    },
    {
      "attachments": {},
      "cell_type": "markdown",
      "source": [
        "* CVDINFR4: you had a heart attack, also called a myocardial infarction? \n",
        "* CVDCRHD4: you had angina or coronary heart disease? \n",
        "* CVDSTRK3: you had a stroke ?\n",
        "* _MICHD:  have ever reported having coronary heart disease (CHD) or myocardial infarction (MI)"
      ],
      "metadata": {},
      "id": "a7e72e7d"
    },
    {
      "cell_type": "code",
      "source": [
        "from sklearn.feature_selection import SelectKBest, mutual_info_classif\n",
        "\n",
        "# Separate target variable from features\n",
        "X = df.drop('CVDINFR4', axis=1)\n",
        "y = df['CVDINFR4']\n"
      ],
      "outputs": [],
      "execution_count": 3,
      "metadata": {},
      "id": "34514409"
    },
    {
      "cell_type": "code",
      "source": [
        "# Select top k features using mutual information score\n",
        "k = 20\n",
        "selector = SelectKBest(mutual_info_classif, k=k)\n",
        "selector.fit(X, y)"
      ],
      "outputs": [],
      "execution_count": 12,
      "metadata": {},
      "id": "b5096b24"
    },
    {
      "cell_type": "code",
      "source": [
        "# Get selected feature indices and names\n",
        "selected_features = X.columns[selector.get_support()]\n",
        "print('Selected features:', selected_features)"
      ],
      "outputs": [
        {
          "output_type": "stream",
          "name": "stdout",
          "text": "Selected features: Index(['SEX', 'EXERANY2', '_RFBING5', '_RFDRHV5', '_VEGLT1', 'BPHIGH4',\n       'BPMEDS', 'BLOODCHO', 'CHOLCHK', 'TOLDHI2', 'CVDCRHD4', 'CVDSTRK3',\n       '_MICHD', 'CHCSCNCR', 'DIABETE3', 'SMOKE100', 'SMOKDAY2', 'USENOW3',\n       '_SMOKER3', '_RFSMOK3'],\n      dtype='object')\n"
        }
      ],
      "execution_count": null,
      "metadata": {},
      "id": "9fb28b9c"
    },
    {
      "cell_type": "code",
      "source": [
        "#features = ['Patient_ID', 'WEIGHT2', 'HEIGHT3', '_BMI5', '_AGEG5YR', 'GENHLTH',\n",
        "#       '_DRNKWEK', 'FRUIT1', 'FVBEANS', 'FVGREEN', 'FVORANG', 'VEGETAB1',\n",
        "#       'BEANDAY_', 'GRENDAY_', 'ORNGDAY_', 'VEGEDA1_', '_FRUTSUM', '_VEGESUM',\n",
        "#       'BPHIGH4', 'PHYSHLTH','CVDINFR4']\n",
        "features = ['SEX', 'EXERANY2', '_RFBING5', '_RFDRHV5', '_VEGLT1', 'BPHIGH4',\n",
        "       'BPMEDS', 'BLOODCHO', 'CHOLCHK', 'TOLDHI2', 'CVDCRHD4', 'CVDSTRK3',\n",
        "       '_MICHD', 'CHCSCNCR', 'DIABETE3', 'SMOKE100', 'SMOKDAY2', 'USENOW3','CVDINFR4',\n",
        "       '_SMOKER3', '_RFSMOK3']\n",
        "daf = df[features]\n",
        "\n",
        "# Standardize the data\n",
        "df_std = (daf - daf.mean()) / daf.std()\n",
        "\n",
        "# Apply PCA to reduce dimensionality\n",
        "pca = PCA(n_components=2)\n",
        "df_pca = pd.DataFrame(pca.fit_transform(df_std), columns=['PC1', 'PC2'])\n",
        "\n",
        "# Determine the optimal number of clusters using elbow method\n",
        "wcss = []\n",
        "for i in range(1, 11):\n",
        "    kmeans = KMeans(n_clusters=i, init='k-means++', random_state=42)\n",
        "    kmeans.fit(df_pca)\n",
        "    wcss.append(kmeans.inertia_)\n",
        "from yellowbrick.cluster import KElbowVisualizer\n",
        "visualizer = KElbowVisualizer(kmeans, k=(1, 11))\n",
        "\n",
        "# Fit the data to the visualizer\n",
        "visualizer.fit(df_pca)\n",
        "\n",
        "# Visualize the elbow curve\n",
        "visualizer.show()"
      ],
      "outputs": [
        {
          "output_type": "execute_result",
          "execution_count": 3,
          "data": {
            "text/plain": "KMeans(algorithm='auto', copy_x=True, init='k-means++', max_iter=300,\n       n_clusters=1, n_init=10, n_jobs=None, precompute_distances='auto',\n       random_state=42, tol=0.0001, verbose=0)"
          },
          "metadata": {}
        },
        {
          "output_type": "execute_result",
          "execution_count": 3,
          "data": {
            "text/plain": "KMeans(algorithm='auto', copy_x=True, init='k-means++', max_iter=300,\n       n_clusters=2, n_init=10, n_jobs=None, precompute_distances='auto',\n       random_state=42, tol=0.0001, verbose=0)"
          },
          "metadata": {}
        },
        {
          "output_type": "execute_result",
          "execution_count": 3,
          "data": {
            "text/plain": "KMeans(algorithm='auto', copy_x=True, init='k-means++', max_iter=300,\n       n_clusters=3, n_init=10, n_jobs=None, precompute_distances='auto',\n       random_state=42, tol=0.0001, verbose=0)"
          },
          "metadata": {}
        },
        {
          "output_type": "execute_result",
          "execution_count": 3,
          "data": {
            "text/plain": "KMeans(algorithm='auto', copy_x=True, init='k-means++', max_iter=300,\n       n_clusters=4, n_init=10, n_jobs=None, precompute_distances='auto',\n       random_state=42, tol=0.0001, verbose=0)"
          },
          "metadata": {}
        },
        {
          "output_type": "execute_result",
          "execution_count": 3,
          "data": {
            "text/plain": "KMeans(algorithm='auto', copy_x=True, init='k-means++', max_iter=300,\n       n_clusters=5, n_init=10, n_jobs=None, precompute_distances='auto',\n       random_state=42, tol=0.0001, verbose=0)"
          },
          "metadata": {}
        },
        {
          "output_type": "execute_result",
          "execution_count": 3,
          "data": {
            "text/plain": "KMeans(algorithm='auto', copy_x=True, init='k-means++', max_iter=300,\n       n_clusters=6, n_init=10, n_jobs=None, precompute_distances='auto',\n       random_state=42, tol=0.0001, verbose=0)"
          },
          "metadata": {}
        },
        {
          "output_type": "execute_result",
          "execution_count": 3,
          "data": {
            "text/plain": "KMeans(algorithm='auto', copy_x=True, init='k-means++', max_iter=300,\n       n_clusters=7, n_init=10, n_jobs=None, precompute_distances='auto',\n       random_state=42, tol=0.0001, verbose=0)"
          },
          "metadata": {}
        },
        {
          "output_type": "execute_result",
          "execution_count": 3,
          "data": {
            "text/plain": "KMeans(algorithm='auto', copy_x=True, init='k-means++', max_iter=300,\n       n_clusters=8, n_init=10, n_jobs=None, precompute_distances='auto',\n       random_state=42, tol=0.0001, verbose=0)"
          },
          "metadata": {}
        },
        {
          "output_type": "execute_result",
          "execution_count": 3,
          "data": {
            "text/plain": "KMeans(algorithm='auto', copy_x=True, init='k-means++', max_iter=300,\n       n_clusters=9, n_init=10, n_jobs=None, precompute_distances='auto',\n       random_state=42, tol=0.0001, verbose=0)"
          },
          "metadata": {}
        },
        {
          "output_type": "execute_result",
          "execution_count": 3,
          "data": {
            "text/plain": "KMeans(algorithm='auto', copy_x=True, init='k-means++', max_iter=300,\n       n_clusters=10, n_init=10, n_jobs=None, precompute_distances='auto',\n       random_state=42, tol=0.0001, verbose=0)"
          },
          "metadata": {}
        },
        {
          "output_type": "execute_result",
          "execution_count": 3,
          "data": {
            "text/plain": "[<matplotlib.lines.Line2D at 0x7f59aac470a0>]"
          },
          "metadata": {}
        },
        {
          "output_type": "execute_result",
          "execution_count": 3,
          "data": {
            "text/plain": "Text(0.5, 1.0, 'Elbow Method')"
          },
          "metadata": {}
        },
        {
          "output_type": "execute_result",
          "execution_count": 3,
          "data": {
            "text/plain": "Text(0.5, 0, 'Number of clusters')"
          },
          "metadata": {}
        },
        {
          "output_type": "execute_result",
          "execution_count": 3,
          "data": {
            "text/plain": "Text(0, 0.5, 'WCSS')"
          },
          "metadata": {}
        },
        {
          "output_type": "display_data",
          "data": {
            "text/plain": "<Figure size 640x480 with 1 Axes>",
            "image/png": "[encoded data removed]"
          },
          "metadata": {}
        }
      ],
      "execution_count": 3,
      "metadata": {
        "gather": {
          "logged": 1685096059923
        }
      },
      "id": "07965f20"
    },
    {
      "cell_type": "code",
      "source": [
        "kmeans = KMeans(n_clusters=3, init='k-means++', random_state=42)\n",
        "kmodel = kmeans.fit_predict(df_pca)\n",
        "\n",
        "# Visualize the clusters\n",
        "plt.scatter(df_pca['PC1'], df_pca['PC2'], c=kmodel, cmap='viridis')\n",
        "plt.xlabel('PC1')\n",
        "plt.ylabel('PC2')\n",
        "plt.title('Behavioral Segmentation Clustering')\n",
        "plt.show()"
      ],
      "outputs": [
        {
          "output_type": "execute_result",
          "execution_count": 4,
          "data": {
            "text/plain": "<matplotlib.collections.PathCollection at 0x7f59aa781700>"
          },
          "metadata": {}
        },
        {
          "output_type": "execute_result",
          "execution_count": 4,
          "data": {
            "text/plain": "Text(0.5, 0, 'PC1')"
          },
          "metadata": {}
        },
        {
          "output_type": "execute_result",
          "execution_count": 4,
          "data": {
            "text/plain": "Text(0, 0.5, 'PC2')"
          },
          "metadata": {}
        },
        {
          "output_type": "execute_result",
          "execution_count": 4,
          "data": {
            "text/plain": "Text(0.5, 1.0, 'Behavioral Segmentation Clustering')"
          },
          "metadata": {}
        },
        {
          "output_type": "display_data",
          "data": {
            "text/plain": "<Figure size 640x480 with 1 Axes>",
            "image/png": "[encoded data removed]"
          },
          "metadata": {}
        }
      ],
      "execution_count": 4,
      "metadata": {
        "gather": {
          "logged": 1685096061869
        }
      },
      "id": "d6750b1d"
    },
    {
      "cell_type": "code",
      "source": [
        "# Create a new dataframe with the original features and the cluster labels\n",
        "clustered_data = pd.concat([daf.reset_index(drop=True), pd.DataFrame({'cluster': kmeans.labels_})], axis=1)\n",
        "\n",
        "# Calculate the size of each cluster\n",
        "cluster_sizes = clustered_data['cluster'].value_counts().sort_index()\n",
        "\n",
        "# Print the size of each cluster\n",
        "print('Cluster Sizes:')\n",
        "for i in range(len(cluster_sizes)):\n",
        "    print(f'Cluster {i}: {cluster_sizes[i]}')\n",
        "\n",
        "# Calculate the mean values of each feature for each cluster\n",
        "cluster_means = clustered_data.groupby('cluster').mean()\n",
        "\n",
        "# Print the mean values of each feature for each cluster\n",
        "print('\\nCluster Means:')\n",
        "print(cluster_means)\n",
        "\n",
        "#for i in range(kmeans.n_clusters):\n",
        " #   cluster = clustered_data.loc[clustered_data['cluster'] == i]\n",
        "  #  profile = ProfileReport(cluster, title=f\"Cluster {i} Profile Report\", explorative=True)\n",
        "   # profile.to_file(f\"clustering9_{i}_profile.html\")"
      ],
      "outputs": [
        {
          "output_type": "stream",
          "name": "stdout",
          "text": "Cluster Sizes:\nCluster 0: 348451\nCluster 1: 58795\nCluster 2: 34210\n\nCluster Means:\n              SEX  EXERANY2  _RFBING5  _RFDRHV5   _VEGLT1   BPHIGH4    BPMEDS  \\\ncluster                                                                         \n0        1.594787  1.215152  1.102382  1.042804  1.168661  2.258803  1.060746   \n1        1.533107  1.340879  1.230802  1.108547  1.248763  2.268594  1.098852   \n2        1.465361  1.363403  1.039784  1.022450  1.215785  1.419731  1.054195   \n\n         BLOODCHO   CHOLCHK   TOLDHI2  CVDCRHD4  CVDSTRK3    _MICHD  CHCSCNCR  \\\ncluster                                                                         \n0        1.234991  1.315436  1.663795  1.999128  1.984546  1.995041  1.908595   \n1        1.366426  1.392806  1.682201  1.983825  1.974675  1.942325  1.945472   \n2        1.056124  1.090617  1.294534  1.297428  1.834405  1.020345  1.803566   \n\n         DIABETE3  SMOKE100  SMOKDAY2   USENOW3  CVDINFR4  _SMOKER3  _RFSMOK3  \ncluster                                                                        \n0        2.786377  1.695495  3.000000  2.958390  2.019842  2.000000  1.000000  \n1        2.799864  1.000000  1.288188  2.911455  1.983604  1.000000  2.000000  \n2        2.291844  1.432944  2.867933  2.959252  1.379363  1.918562  1.081438  \n"
        }
      ],
      "execution_count": null,
      "metadata": {},
      "id": "fc7e3035"
    },
    {
      "cell_type": "code",
      "source": [
        "from sklearn.model_selection import train_test_split\n",
        "from sklearn.metrics import accuracy_score\n",
        "\n",
        "cluster_labels = kmeans.labels_\n",
        "# Split data into training and testing sets\n",
        "X_train, X_test, y_train, y_test = train_test_split(daf.drop('CVDINFR4', axis=1), cluster_labels, test_size=0.2, random_state=42)\n",
        "\n",
        "# Train a classifier on the training set\n",
        "from sklearn.tree import DecisionTreeClassifier\n",
        "clf = DecisionTreeClassifier(random_state=42)\n",
        "clf.fit(X_train, y_train)\n",
        "\n",
        "# Make predictions on the testing set\n",
        "y_pred = clf.predict(X_test)\n",
        "\n",
        "# Evaluate accuracy of predictions\n",
        "acc = accuracy_score(y_test, y_pred)\n",
        "print(f\"Accuracy: {acc}\")"
      ],
      "outputs": [
        {
          "output_type": "execute_result",
          "execution_count": 20,
          "data": {
            "text/plain": "DecisionTreeClassifier(random_state=42)"
          },
          "metadata": {}
        },
        {
          "output_type": "stream",
          "name": "stdout",
          "text": "Accuracy: 0.9977461151633217\n"
        }
      ],
      "execution_count": 20,
      "metadata": {},
      "id": "83b8e01c"
    },
    {
      "cell_type": "code",
      "source": [
        "from sklearn.metrics import silhouette_score, calinski_harabasz_score, davies_bouldin_score\n",
        "\n",
        "#kmeans_silhouette = silhouette_score(daf, kmodel)\n",
        "kmeans_calinski = calinski_harabasz_score(daf, kmodel)\n",
        "kmeans_davies = davies_bouldin_score(daf, kmodel)\n",
        "\n",
        "#print(\"KMeans - Silhouette Coefficient: \", kmeans_silhouette)\n",
        "print(\"KMeans - Calinski-Harabasz Index: \", kmeans_calinski)\n",
        "print(\"KMeans - Davies-Bouldin Index: \", kmeans_davies)"
      ],
      "outputs": [
        {
          "output_type": "stream",
          "name": "stdout",
          "text": "KMeans - Calinski-Harabasz Index:  42656.92537914977\nKMeans - Davies-Bouldin Index:  2.034382444725976\n"
        }
      ],
      "execution_count": 6,
      "metadata": {},
      "id": "c5d73d0b"
    },
    {
      "attachments": {},
      "cell_type": "markdown",
      "source": [
        "### Disease risk prediction:"
      ],
      "metadata": {},
      "id": "ac254df3"
    },
    {
      "cell_type": "code",
      "source": [
        "# Split data into features (X) and target variable (y)\n",
        "X = daf.drop('CVDINFR4', axis=1)\n",
        "y = daf['CVDINFR4']\n",
        "\n",
        "# Add the cluster labels as a new column to the DataFrame\n",
        "cluster_labels = kmeans.labels_\n",
        "daf['cluster'] = cluster_labels\n"
      ],
      "outputs": [],
      "execution_count": 5,
      "metadata": {
        "gather": {
          "logged": 1685096062007
        }
      },
      "id": "dacd56d9"
    },
    {
      "cell_type": "code",
      "source": [
        "from sklearn.model_selection import train_test_split\n",
        "\n",
        "# Split data into training and testing sets\n",
        "X_train, X_test, y_train, y_test = train_test_split(X, y, test_size=0.2, random_state=42)"
      ],
      "outputs": [],
      "execution_count": 7,
      "metadata": {
        "gather": {
          "logged": 1685096077690
        }
      },
      "id": "fbdda925"
    },
    {
      "cell_type": "code",
      "source": [
        "from sklearn.metrics import precision_score, recall_score\n",
        "from sklearn.linear_model import LogisticRegression\n",
        "\n",
        "# Initialize and train the logistic regression model\n",
        "model = LogisticRegression()\n",
        "model.fit(X_train, y_train)\n",
        "\n",
        "# Predict disease risk for new data\n",
        "y_pred = model.predict(X_test)\n",
        "\n",
        "# Evaluate the performance of the model (e.g., accuracy, precision, recall)\n",
        "accuracy = model.score(X_test, y_test)\n",
        "precision = precision_score(y_test, y_pred,average = 'macro')\n",
        "recall = recall_score(y_test, y_pred,average = 'macro')\n",
        "\n",
        "# Print the evaluation metrics\n",
        "print(\"Accuracy:\", accuracy)\n",
        "print(\"Precision:\", precision)\n",
        "print(\"Recall:\", recall)"
      ],
      "outputs": [
        {
          "output_type": "execute_result",
          "execution_count": 9,
          "data": {
            "text/plain": "LogisticRegression(C=1.0, class_weight=None, dual=False, fit_intercept=True,\n                   intercept_scaling=1, l1_ratio=None, max_iter=100,\n                   multi_class='auto', n_jobs=None, penalty='l2',\n                   random_state=None, solver='lbfgs', tol=0.0001, verbose=0,\n                   warm_start=False)"
          },
          "metadata": {}
        },
        {
          "output_type": "stream",
          "name": "stdout",
          "text": "Accuracy: 0.9724776876727224\nPrecision: 0.7050507919422563\nRecall: 0.5928375999405062\n"
        }
      ],
      "execution_count": 9,
      "metadata": {
        "gather": {
          "logged": 1685024644786
        }
      },
      "id": "cd053feb"
    },
    {
      "cell_type": "code",
      "source": [
        "from sklearn.svm import SVC\n",
        "from sklearn.metrics import precision_score, recall_score\n",
        "# Train an SVM model on the training data\n",
        "model = SVC()\n",
        "model.fit(X_train, y_train)\n",
        "\n",
        "# Predict the health behavior for the test data\n",
        "predictions = model.predict(X_test)\n",
        "\n",
        "# Evaluate the performance of the model (e.g., accuracy, precision, recall)\n",
        "accuracy = model.score(X_test, y_test)\n",
        "precision = precision_score(y_test, predictions,average = 'macro')\n",
        "recall = recall_score(y_test, predictions,average = 'macro')\n",
        "\n",
        "# Print the evaluation metrics\n",
        "print(\"Accuracy:\", accuracy)\n",
        "print(\"Precision:\", precision)\n",
        "print(\"Recall:\", recall)"
      ],
      "outputs": [
        {
          "output_type": "execute_result",
          "execution_count": 25,
          "data": {
            "text/plain": "SVC(C=1.0, break_ties=False, cache_size=200, class_weight=None, coef0=0.0,\n    decision_function_shape='ovr', degree=3, gamma='scale', kernel='rbf',\n    max_iter=-1, probability=False, random_state=None, shrinking=True,\n    tol=0.001, verbose=False)"
          },
          "metadata": {}
        },
        {
          "output_type": "stream",
          "name": "stdout",
          "text": "Accuracy: 0.979658406197617\nPrecision: 0.9221927313763686\nRecall: 0.86920864254067\n"
        }
      ],
      "execution_count": 25,
      "metadata": {
        "gather": {
          "logged": 1685031624519
        }
      },
      "id": "6c78199e"
    },
    {
      "cell_type": "code",
      "source": [
        "from sklearn.tree import DecisionTreeClassifier\n",
        "\n",
        "# Train a decision tree classifier on the training data\n",
        "model = DecisionTreeClassifier()\n",
        "model.fit(X_train, y_train)\n",
        "\n",
        "# Predict the disease risk for the test data\n",
        "predictions = model.predict(X_test)\n",
        "\n",
        "# Evaluate the performance of the model (e.g., accuracy, precision, recall)\n",
        "accuracy = model.score(X_test, y_test)\n",
        "precision = precision_score(y_test, predictions,average = 'macro')\n",
        "recall = recall_score(y_test, predictions,average = 'macro')\n",
        "# Print the evaluation metrics\n",
        "print(\"Accuracy:\", accuracy)\n",
        "print(\"Precision:\", precision)\n",
        "print(\"Recall:\", recall)"
      ],
      "outputs": [
        {
          "output_type": "execute_result",
          "execution_count": 16,
          "data": {
            "text/plain": "DecisionTreeClassifier(ccp_alpha=0.0, class_weight=None, criterion='gini',\n                       max_depth=None, max_features=None, max_leaf_nodes=None,\n                       min_impurity_decrease=0.0, min_impurity_split=None,\n                       min_samples_leaf=1, min_samples_split=2,\n                       min_weight_fraction_leaf=0.0, presort='deprecated',\n                       random_state=None, splitter='best')"
          },
          "metadata": {}
        },
        {
          "output_type": "stream",
          "name": "stdout",
          "text": "Accuracy: 0.9714696688261677\nPrecision: 0.6305119666256597\nRecall: 0.6018104787547395\n"
        }
      ],
      "execution_count": 16,
      "metadata": {
        "gather": {
          "logged": 1685024895639
        }
      },
      "id": "e4dc66b5"
    },
    {
      "cell_type": "code",
      "source": [
        "from sklearn.ensemble import GradientBoostingClassifier\n",
        "\n",
        "# Train a gradient boosting classifier on the training data\n",
        "model = GradientBoostingClassifier()\n",
        "model.fit(X_train, y_train)\n",
        "\n",
        "# Predict the target variable for the test data\n",
        "predictions = model.predict(X_test)\n",
        "\n",
        "# Evaluate the performance of the model (e.g., accuracy, precision, recall)\n",
        "accuracy = model.score(X_test, y_test)\n",
        "precision = precision_score(y_test, predictions,average = 'macro')\n",
        "recall = recall_score(y_test, predictions,average = 'macro')\n",
        "\n",
        "# Print the evaluation metrics\n",
        "print(\"Accuracy:\", accuracy)\n",
        "print(\"Precision:\", precision)\n",
        "print(\"Recall:\", recall)"
      ],
      "outputs": [
        {
          "output_type": "execute_result",
          "execution_count": 15,
          "data": {
            "text/plain": "GradientBoostingClassifier(ccp_alpha=0.0, criterion='friedman_mse', init=None,\n                           learning_rate=0.1, loss='deviance', max_depth=3,\n                           max_features=None, max_leaf_nodes=None,\n                           min_impurity_decrease=0.0, min_impurity_split=None,\n                           min_samples_leaf=1, min_samples_split=2,\n                           min_weight_fraction_leaf=0.0, n_estimators=100,\n                           n_iter_no_change=None, presort='deprecated',\n                           random_state=None, subsample=1.0, tol=0.0001,\n                           validation_fraction=0.1, verbose=0,\n                           warm_start=False)"
          },
          "metadata": {}
        },
        {
          "output_type": "stream",
          "name": "stdout",
          "text": "Accuracy: 0.9732591854301635\nPrecision: 0.7636931738648252\nRecall: 0.5946614736574408\n"
        }
      ],
      "execution_count": 15,
      "metadata": {
        "gather": {
          "logged": 1685024894940
        }
      },
      "id": "26932b77"
    },
    {
      "cell_type": "code",
      "source": [
        "from sklearn.ensemble import RandomForestClassifier\n",
        "\n",
        "# Train a random forest classifier on the training data\n",
        "model = RandomForestClassifier()\n",
        "model.fit(X_train, y_train)\n",
        "\n",
        "# Predict the target variable for the test data\n",
        "predictions = model.predict(X_test)\n",
        "\n",
        "# Evaluate the performance of the model (e.g., accuracy, precision, recall)\n",
        "accuracy = model.score(X_test, y_test)\n",
        "precision = precision_score(y_test, predictions,average = 'macro')\n",
        "recall = recall_score(y_test, predictions,average = 'macro')\n",
        "\n",
        "# Print the evaluation metrics\n",
        "print(\"Accuracy:\", accuracy)\n",
        "print(\"Precision:\", precision)\n",
        "print(\"Recall:\", recall)"
      ],
      "outputs": [
        {
          "output_type": "execute_result",
          "execution_count": 14,
          "data": {
            "text/plain": "RandomForestClassifier(bootstrap=True, ccp_alpha=0.0, class_weight=None,\n                       criterion='gini', max_depth=None, max_features='auto',\n                       max_leaf_nodes=None, max_samples=None,\n                       min_impurity_decrease=0.0, min_impurity_split=None,\n                       min_samples_leaf=1, min_samples_split=2,\n                       min_weight_fraction_leaf=0.0, n_estimators=100,\n                       n_jobs=None, oob_score=False, random_state=None,\n                       verbose=0, warm_start=False)"
          },
          "metadata": {}
        },
        {
          "output_type": "stream",
          "name": "stdout",
          "text": "Accuracy: 0.9717754722964708\nPrecision: 0.6413416623396445\nRecall: 0.5941155930637555\n"
        }
      ],
      "execution_count": 14,
      "metadata": {
        "gather": {
          "logged": 1685024811059
        }
      },
      "id": "ecaf56d7"
    },
    {
      "cell_type": "markdown",
      "source": [
        "we use logistic regression as the predictive model to calculate the risk scores. We select a subset of features and the target variable (CVDINFR4 in this case) for risk prediction. The data is preprocessed, split into training and testing sets, and a logistic regression model is trained on the training data. The model is then used to predict the risk scores for all data points, and the average predicted risk score is calculated for each cluster. Finally, the predicted risk scores for each cluster are printed."
      ],
      "metadata": {
        "nteract": {
          "transient": {
            "deleting": false
          }
        }
      },
      "id": "4fdce431-c8dd-446f-88aa-e39c56ed9c3c"
    },
    {
      "cell_type": "code",
      "source": [
        "import pandas as pd\r\n",
        "from sklearn.preprocessing import StandardScaler\r\n",
        "from sklearn.linear_model import LogisticRegression\r\n",
        "from sklearn.model_selection import train_test_split\r\n",
        "\r\n",
        "# Preprocess the data (scaling, handling missing values, etc.)\r\n",
        "scaler = StandardScaler()\r\n",
        "X_scaled = scaler.fit_transform(X)\r\n",
        "\r\n",
        "# Split the data into training and testing sets\r\n",
        "X_train, X_test, y_train, y_test = train_test_split(\r\n",
        "    X_scaled, y, test_size=0.2, random_state=42)\r\n",
        "\r\n",
        "# Train a logistic regression model\r\n",
        "logreg = LogisticRegression()\r\n",
        "logreg.fit(X_train, y_train)\r\n",
        "\r\n",
        "# Make predictions for the clusters based on the logistic regression model\r\n",
        "predicted_risk_scores = logreg.predict_proba(X_scaled)[:, 1]\r\n",
        "\r\n",
        "# Assign the predicted risk scores to each cluster\r\n",
        "X['PredictedRisk'] = predicted_risk_scores\r\n",
        "X['Cluster'] = cluster_labels\r\n",
        "\r\n",
        "# Calculate the average predicted risk score for each cluster\r\n",
        "average_risk_scores = X.groupby('Cluster')['PredictedRisk'].mean()\r\n",
        "\r\n",
        "# Print the predicted risk score for each cluster\r\n",
        "for cluster, prediction in average_risk_scores.items():\r\n",
        "    print(f\"Cluster {cluster}: Predicted risk of coronary heart disease score - {prediction}\")"
      ],
      "outputs": [
        {
          "output_type": "execute_result",
          "execution_count": 9,
          "data": {
            "text/plain": "LogisticRegression(C=1.0, class_weight=None, dual=False, fit_intercept=True,\n                   intercept_scaling=1, l1_ratio=None, max_iter=100,\n                   multi_class='auto', n_jobs=None, penalty='l2',\n                   random_state=None, solver='lbfgs', tol=0.0001, verbose=0,\n                   warm_start=False)"
          },
          "metadata": {}
        },
        {
          "output_type": "stream",
          "name": "stdout",
          "text": "Cluster 0: Predicted risk of coronary heart disease score - 0.37532130238781336\nCluster 1: Predicted risk of coronary heart disease score - 0.9909554435380813\nCluster 2: Predicted risk of coronary heart disease score - 0.9477596911516378\n"
        }
      ],
      "execution_count": 9,
      "metadata": {
        "gather": {
          "logged": 1685095691869
        }
      },
      "id": "6edbf6f0"
    },
    {
      "cell_type": "code",
      "source": [
        "from sklearn.svm import SVC\r\n",
        "\r\n",
        "# Preprocess the data (scaling, handling missing values, etc.)\r\n",
        "scaler = StandardScaler()\r\n",
        "X_scaled = scaler.fit_transform(X)\r\n",
        "\r\n",
        "# Split the data into training and testing sets\r\n",
        "X_train, X_test, y_train, y_test = train_test_split(\r\n",
        "    X_scaled, y, test_size=0.2, random_state=42)\r\n",
        "\r\n",
        "# Train a svc model\r\n",
        "svcm = SVC()\r\n",
        "svcm.fit(X_train, y_train)\r\n",
        "\r\n",
        "# Make predictions for the clusters based on the svc model\r\n",
        "predicted_risk_scores = svcm.predict_proba(X_scaled)[:, 1]\r\n",
        "\r\n",
        "# Assign the predicted risk scores to each cluster\r\n",
        "X['PredictedRisk'] = predicted_risk_scores\r\n",
        "X['Cluster'] = cluster_labels\r\n",
        "\r\n",
        "# Calculate the average predicted risk score for each cluster\r\n",
        "average_risk_scores = X.groupby('Cluster')['PredictedRisk'].mean()\r\n",
        "\r\n",
        "# Print the predicted risk score for each cluster\r\n",
        "for cluster, prediction in average_risk_scores.items():\r\n",
        "    print(f\"Cluster {cluster}: Predicted risk of coronary heart disease score - {prediction}\")"
      ],
      "outputs": [],
      "execution_count": 8,
      "metadata": {
        "gather": {
          "logged": 1685097342345
        }
      },
      "id": "dc3c1ff4"
    },
    {
      "cell_type": "code",
      "source": [],
      "outputs": [],
      "execution_count": null,
      "metadata": {},
      "id": "3dbea355"
    }
  ],
  "metadata": {
    "kernelspec": {
      "name": "python38-azureml",
      "language": "python",
      "display_name": "Python 3.8 - AzureML"
    },
    "language_info": {
      "name": "python",
      "version": "3.8.5",
      "mimetype": "text/x-python",
      "codemirror_mode": {
        "name": "ipython",
        "version": 3
      },
      "pygments_lexer": "ipython3",
      "nbconvert_exporter": "python",
      "file_extension": ".py"
    },
    "microsoft": {
      "ms_spell_check": {
        "ms_spell_check_language": "en"
      }
    },
    "kernel_info": {
      "name": "python38-azureml"
    },
    "nteract": {
      "version": "nteract-front-end@1.0.0"
    }
  },
  "nbformat": 4,
  "nbformat_minor": 5
}